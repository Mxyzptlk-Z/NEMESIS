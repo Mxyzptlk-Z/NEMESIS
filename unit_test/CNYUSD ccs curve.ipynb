{
 "cells": [
  {
   "cell_type": "code",
   "execution_count": 1,
   "id": "e92d2b14",
   "metadata": {},
   "outputs": [
    {
     "name": "stdout",
     "output_type": "stream",
     "text": [
      "当前工作目录： c:\\Users\\zhaoxs3\\Downloads\\NEMESIS\\unit_test\n",
      "切换后的目录： c:\\Users\\zhaoxs3\\Downloads\\NEMESIS\n"
     ]
    }
   ],
   "source": [
    "import os\n",
    "\n",
    "# 获取当前工作目录\n",
    "current_dir = os.getcwd()\n",
    "print(\"当前工作目录：\", current_dir)\n",
    " \n",
    "# 切换到上一层目录\n",
    "parent_dir = os.path.dirname(current_dir)\n",
    "os.chdir(parent_dir)\n",
    "print(\"切换后的目录：\", parent_dir)"
   ]
  },
  {
   "cell_type": "code",
   "execution_count": 2,
   "id": "37d5cf31",
   "metadata": {},
   "outputs": [],
   "source": [
    "from devlib.market.curves.ccs_curve import CnyUsdCcsCurve\n",
    "from devlib.market.curves.overnight_index_curves import Sofr\n",
    "import QuantLib as ql\n",
    "import pandas as pd"
   ]
  },
  {
   "cell_type": "code",
   "execution_count": 3,
   "id": "bbcb6599",
   "metadata": {},
   "outputs": [],
   "source": [
    "today = ql.Date(5, 8, 2024)\n",
    "calendar = ql.JointCalendar(ql.China(ql.China.IB), ql.UnitedStates(ql.UnitedStates.FederalReserve), ql.JoinHolidays)\n",
    "convention = ql.ModifiedFollowing\n",
    "valuation_date = today\n",
    "\n",
    "ql.Settings.instance().evaluationDate = valuation_date\n",
    "\n",
    "############\n",
    "pair = 'USDCNY'\n",
    "fx_spot = 7.1396\n",
    "\n",
    "# 构建usd discount curve\n",
    "mkt_file_path = './unit_test/data/sofr_curve_data_20240805.xlsx'\n",
    "swap_mkt_data = pd.read_excel(mkt_file_path, sheet_name='swap')\n",
    "sofr_curve = Sofr(today, swap_mkt_data=swap_mkt_data)\n",
    "\n",
    "# 构建cnh discount curve (cicc ccs curve version)\n",
    "mkt_file_path =  './unit_test/data/USDCNY_ccs_curve_data_20240805.xlsx'\n",
    "fx_swap_mkt_data = pd.read_excel(mkt_file_path, sheet_name='fx')\n",
    "ccs_mkt_data = pd.read_excel(mkt_file_path, sheet_name='ccs')\n",
    "\n",
    "cny_discount_curve = CnyUsdCcsCurve(today, collateral_index_curve=sofr_curve, collateral_discount_curve=sofr_curve,\n",
    "                                    ccs_mkt_data=ccs_mkt_data, fx_swap_mkt_data=fx_swap_mkt_data)"
   ]
  },
  {
   "cell_type": "code",
   "execution_count": 4,
   "id": "af1c956d",
   "metadata": {},
   "outputs": [
    {
     "name": "stdout",
     "output_type": "stream",
     "text": [
      "####################################################################\n",
      "#  NEMESIS ALPHA Version 0.1.0 - This build: 24 Jan 2025 at 10:42 #\n",
      "####################################################################\n",
      "\n"
     ]
    }
   ],
   "source": [
    "from nemesis.products.rates import *\n",
    "from nemesis.utils import *\n",
    "from nemesis.products.rates.ccs_curve import CCSCurve\n",
    "from nemesis.products.fx.fx_forward_curve import FXForward"
   ]
  },
  {
   "cell_type": "code",
   "execution_count": 5,
   "id": "c63e9b08",
   "metadata": {},
   "outputs": [],
   "source": [
    "value_dt = Date(5,8,2024)\n",
    "spot_days = 2\n",
    "\n",
    "cal_type = JointCalendar([CalendarTypes.CHINA, CalendarTypes.UNITED_STATES])\n",
    "calendar = Calendar(cal_type)\n",
    "settle_dt = calendar.add_business_days(value_dt, spot_days)"
   ]
  },
  {
   "cell_type": "code",
   "execution_count": 6,
   "id": "87fe3396",
   "metadata": {},
   "outputs": [],
   "source": [
    "fx_swap_mkt_data_dict = fx_swap_mkt_data.to_dict(orient='records')"
   ]
  },
  {
   "cell_type": "code",
   "execution_count": 7,
   "id": "dfd32f04",
   "metadata": {},
   "outputs": [],
   "source": [
    "spot = fx_swap_mkt_data_dict[0].get(\"Spread\")"
   ]
  },
  {
   "cell_type": "code",
   "execution_count": 8,
   "id": "a0e383b4",
   "metadata": {},
   "outputs": [],
   "source": [
    "sofr = QLCurve(value_dt, sofr_curve, dc_type=DayCountTypes.ACT_360, interp_type=InterpTypes.LINEAR_ZERO_RATES)"
   ]
  },
  {
   "cell_type": "code",
   "execution_count": 9,
   "id": "04855c92",
   "metadata": {},
   "outputs": [],
   "source": [
    "fx_forwards = [FXForward(settle_dt, record.get(\"Tenor\"), spot, record.get(\"Spread\"), dc_type=DayCountTypes.ACT_365F, cal_type=cal_type, bd_type=BusDayAdjustTypes.FOLLOWING) for record in fx_swap_mkt_data_dict[1:]]"
   ]
  },
  {
   "cell_type": "code",
   "execution_count": 10,
   "id": "43c575d3",
   "metadata": {},
   "outputs": [],
   "source": [
    "notional = 1\n",
    "\n",
    "fixed_type = SwapTypes.PAY\n",
    "fixed_freq = FrequencyTypes.QUARTERLY\n",
    "fixed_dc_type = DayCountTypes.ACT_365F\n",
    "\n",
    "spread = 0\n",
    "float_freq = FrequencyTypes.QUARTERLY\n",
    "float_dc_type = DayCountTypes.ACT_365F\n",
    "\n",
    "bd_type = BusDayAdjustTypes.MODIFIED_FOLLOWING\n",
    "dg_type = DateGenRuleTypes.BACKWARD"
   ]
  },
  {
   "cell_type": "code",
   "execution_count": 11,
   "id": "f19f2c3a",
   "metadata": {},
   "outputs": [],
   "source": [
    "swaps = [\n",
    "    OIS(\n",
    "        effective_dt = settle_dt,\n",
    "        term_dt_or_tenor = tenor,\n",
    "        fixed_leg_type = fixed_type,\n",
    "        fixed_cpn = rate,\n",
    "        fixed_freq_type = fixed_freq,\n",
    "        fixed_dc_type = fixed_dc_type,\n",
    "        notional = notional,\n",
    "        payment_lag = 2,\n",
    "        float_spread = spread,\n",
    "        float_freq_type = float_freq,\n",
    "        float_dc_type = float_dc_type,\n",
    "        cal_type = cal_type,\n",
    "        bd_type = bd_type,\n",
    "        dg_type = dg_type\n",
    "    )\n",
    "    for tenor, rate in zip(ccs_mkt_data[\"Tenor\"], ccs_mkt_data[\"Rate\"]) \n",
    "]"
   ]
  },
  {
   "cell_type": "code",
   "execution_count": 12,
   "id": "313faaf7",
   "metadata": {},
   "outputs": [],
   "source": [
    "mat_dates = [fwd.maturity_dt for fwd in fx_forwards] + [calendar.add_business_days(swap.maturity_dt, 2) for swap in swaps]"
   ]
  },
  {
   "cell_type": "code",
   "execution_count": 13,
   "id": "2304c323",
   "metadata": {},
   "outputs": [],
   "source": [
    "curve = CCSCurve(value_dt=value_dt, fx_forwards=fx_forwards, ois_swaps=swaps, foreign_curve=sofr, interp_type=InterpTypes.LINEAR_ZERO_RATES)"
   ]
  },
  {
   "cell_type": "code",
   "execution_count": 14,
   "id": "59eb132a",
   "metadata": {},
   "outputs": [
    {
     "data": {
      "text/plain": [
       "array([0.99989119, 0.99940517, 0.99879558, 0.99795676, 0.99616876,\n",
       "       0.99496158, 0.99381261, 0.99018125, 0.98799529, 0.97445362,\n",
       "       0.95701762, 0.94714215, 0.89981936, 0.82192016])"
      ]
     },
     "execution_count": 14,
     "metadata": {},
     "output_type": "execute_result"
    }
   ],
   "source": [
    "curve.df(mat_dates, day_count=DayCountTypes.ACT_365F)"
   ]
  },
  {
   "cell_type": "code",
   "execution_count": 15,
   "id": "3614f108",
   "metadata": {},
   "outputs": [
    {
     "data": {
      "text/html": [
       "<div>\n",
       "<style scoped>\n",
       "    .dataframe tbody tr th:only-of-type {\n",
       "        vertical-align: middle;\n",
       "    }\n",
       "\n",
       "    .dataframe tbody tr th {\n",
       "        vertical-align: top;\n",
       "    }\n",
       "\n",
       "    .dataframe thead th {\n",
       "        text-align: right;\n",
       "    }\n",
       "</style>\n",
       "<table border=\"1\" class=\"dataframe\">\n",
       "  <thead>\n",
       "    <tr style=\"text-align: right;\">\n",
       "      <th></th>\n",
       "      <th>Date</th>\n",
       "      <th>ZR</th>\n",
       "      <th>DF</th>\n",
       "    </tr>\n",
       "  </thead>\n",
       "  <tbody>\n",
       "    <tr>\n",
       "      <th>0</th>\n",
       "      <td>2024-08-14</td>\n",
       "      <td>0.44131</td>\n",
       "      <td>0.999891</td>\n",
       "    </tr>\n",
       "    <tr>\n",
       "      <th>1</th>\n",
       "      <td>2024-09-09</td>\n",
       "      <td>0.62050</td>\n",
       "      <td>0.999405</td>\n",
       "    </tr>\n",
       "    <tr>\n",
       "      <th>2</th>\n",
       "      <td>2024-10-08</td>\n",
       "      <td>0.68731</td>\n",
       "      <td>0.998796</td>\n",
       "    </tr>\n",
       "    <tr>\n",
       "      <th>3</th>\n",
       "      <td>2024-11-07</td>\n",
       "      <td>0.79420</td>\n",
       "      <td>0.997957</td>\n",
       "    </tr>\n",
       "    <tr>\n",
       "      <th>4</th>\n",
       "      <td>2025-02-07</td>\n",
       "      <td>0.75327</td>\n",
       "      <td>0.996169</td>\n",
       "    </tr>\n",
       "    <tr>\n",
       "      <th>5</th>\n",
       "      <td>2025-05-07</td>\n",
       "      <td>0.67043</td>\n",
       "      <td>0.994962</td>\n",
       "    </tr>\n",
       "    <tr>\n",
       "      <th>6</th>\n",
       "      <td>2025-08-07</td>\n",
       "      <td>0.61728</td>\n",
       "      <td>0.993813</td>\n",
       "    </tr>\n",
       "    <tr>\n",
       "      <th>7</th>\n",
       "      <td>2026-02-09</td>\n",
       "      <td>0.65128</td>\n",
       "      <td>0.990181</td>\n",
       "    </tr>\n",
       "    <tr>\n",
       "      <th>8</th>\n",
       "      <td>2026-08-11</td>\n",
       "      <td>0.59894</td>\n",
       "      <td>0.987995</td>\n",
       "    </tr>\n",
       "    <tr>\n",
       "      <th>9</th>\n",
       "      <td>2027-08-11</td>\n",
       "      <td>0.85791</td>\n",
       "      <td>0.974454</td>\n",
       "    </tr>\n",
       "    <tr>\n",
       "      <th>10</th>\n",
       "      <td>2028-08-09</td>\n",
       "      <td>1.09459</td>\n",
       "      <td>0.957018</td>\n",
       "    </tr>\n",
       "    <tr>\n",
       "      <th>11</th>\n",
       "      <td>2029-08-09</td>\n",
       "      <td>1.08315</td>\n",
       "      <td>0.947142</td>\n",
       "    </tr>\n",
       "    <tr>\n",
       "      <th>12</th>\n",
       "      <td>2031-08-11</td>\n",
       "      <td>1.50390</td>\n",
       "      <td>0.899819</td>\n",
       "    </tr>\n",
       "    <tr>\n",
       "      <th>13</th>\n",
       "      <td>2034-08-09</td>\n",
       "      <td>1.95790</td>\n",
       "      <td>0.821920</td>\n",
       "    </tr>\n",
       "  </tbody>\n",
       "</table>\n",
       "</div>"
      ],
      "text/plain": [
       "          Date       ZR        DF\n",
       "0   2024-08-14  0.44131  0.999891\n",
       "1   2024-09-09  0.62050  0.999405\n",
       "2   2024-10-08  0.68731  0.998796\n",
       "3   2024-11-07  0.79420  0.997957\n",
       "4   2025-02-07  0.75327  0.996169\n",
       "5   2025-05-07  0.67043  0.994962\n",
       "6   2025-08-07  0.61728  0.993813\n",
       "7   2026-02-09  0.65128  0.990181\n",
       "8   2026-08-11  0.59894  0.987995\n",
       "9   2027-08-11  0.85791  0.974454\n",
       "10  2028-08-09  1.09459  0.957018\n",
       "11  2029-08-09  1.08315  0.947142\n",
       "12  2031-08-11  1.50390  0.899819\n",
       "13  2034-08-09  1.95790  0.821920"
      ]
     },
     "execution_count": 15,
     "metadata": {},
     "output_type": "execute_result"
    }
   ],
   "source": [
    "curve.print_table(mat_dates)"
   ]
  }
 ],
 "metadata": {
  "kernelspec": {
   "display_name": "vallib",
   "language": "python",
   "name": "python3"
  },
  "language_info": {
   "codemirror_mode": {
    "name": "ipython",
    "version": 3
   },
   "file_extension": ".py",
   "mimetype": "text/x-python",
   "name": "python",
   "nbconvert_exporter": "python",
   "pygments_lexer": "ipython3",
   "version": "3.13.1"
  }
 },
 "nbformat": 4,
 "nbformat_minor": 5
}
