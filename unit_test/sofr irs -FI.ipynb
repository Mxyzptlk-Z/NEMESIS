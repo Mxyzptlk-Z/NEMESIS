{
 "cells": [
  {
   "cell_type": "code",
   "execution_count": 1,
   "metadata": {},
   "outputs": [
    {
     "name": "stdout",
     "output_type": "stream",
     "text": [
      "当前工作目录： c:\\Users\\zhaoxs3\\Downloads\\NEMESIS\\unit_test\n",
      "切换后的目录： c:\\Users\\zhaoxs3\\Downloads\\NEMESIS\n"
     ]
    }
   ],
   "source": [
    "import os\n",
    "\n",
    "# 获取当前工作目录\n",
    "current_dir = os.getcwd()\n",
    "print(\"当前工作目录：\", current_dir)\n",
    " \n",
    "# 切换到上一层目录\n",
    "parent_dir = os.path.dirname(current_dir)\n",
    "os.chdir(parent_dir)\n",
    "print(\"切换后的目录：\", parent_dir)"
   ]
  },
  {
   "cell_type": "code",
   "execution_count": 2,
   "metadata": {},
   "outputs": [],
   "source": [
    "import QuantLib as ql\n",
    "import pandas as pd\n",
    "\n",
    "from devlib.utils.curve_utils import get_ois_float_rate, get_real_fixing_date\n",
    "from devlib.market.curves.overnight_index_curves import Sofr\n",
    "from devlib.products.rates.irs.general_irs import *"
   ]
  },
  {
   "cell_type": "code",
   "execution_count": 3,
   "metadata": {},
   "outputs": [
    {
     "name": "stdout",
     "output_type": "stream",
     "text": [
      "####################################################################\n",
      "#  NEMESIS ALPHA Version 0.1.0 - This build: 24 Jan 2025 at 10:42 #\n",
      "####################################################################\n",
      "\n"
     ]
    }
   ],
   "source": [
    "from nemesis.products.rates import *"
   ]
  },
  {
   "cell_type": "code",
   "execution_count": 4,
   "metadata": {},
   "outputs": [],
   "source": [
    "today = ql.Date(27, 11, 2024)\n",
    "ql.Settings.instance().evaluationDate = today\n",
    "\n",
    "mkt_file_path = './unit_test/data/sofr_curve_data_20241127.xlsx'\n",
    "swap_mkt_data = pd.read_excel(mkt_file_path, sheet_name='swap')\n",
    "fixing_data = pd.read_excel(mkt_file_path, sheet_name='fixing')\n",
    "\n",
    "index_curve = Sofr(today, swap_mkt_data=swap_mkt_data, fixing_data=fixing_data)\n",
    "discount_curve = Sofr(today, swap_mkt_data=swap_mkt_data, fixing_data=fixing_data)"
   ]
  },
  {
   "cell_type": "code",
   "execution_count": 5,
   "metadata": {},
   "outputs": [],
   "source": [
    "value_dt = Date(27,11,2024)\n",
    "curve = OISCurve.build_curve_from_ql(value_dt, discount_curve.curve, interp_type=InterpTypes.LINEAR_ZERO_RATES)"
   ]
  },
  {
   "cell_type": "code",
   "execution_count": 6,
   "metadata": {},
   "outputs": [],
   "source": [
    "payment_dates = ql_date_to_date(discount_curve.curve.dates())[1:]"
   ]
  },
  {
   "cell_type": "code",
   "execution_count": 7,
   "metadata": {},
   "outputs": [
    {
     "data": {
      "text/plain": [
       "np.float64(0.029192353357798056)"
      ]
     },
     "execution_count": 7,
     "metadata": {},
     "output_type": "execute_result"
    }
   ],
   "source": [
    "curve.zero_rate(Date(5,12,2074), freq_type=FrequencyTypes.CONTINUOUS, dc_type=DayCountTypes.ACT_365F)"
   ]
  },
  {
   "cell_type": "code",
   "execution_count": 8,
   "metadata": {},
   "outputs": [
    {
     "data": {
      "text/plain": [
       "np.float64(0.2319537573626374)"
      ]
     },
     "execution_count": 8,
     "metadata": {},
     "output_type": "execute_result"
    }
   ],
   "source": [
    "curve.df(Date(5,12,2074), day_count=DayCountTypes.ACT_365F)"
   ]
  },
  {
   "cell_type": "code",
   "execution_count": 9,
   "metadata": {},
   "outputs": [
    {
     "data": {
      "text/html": [
       "<div>\n",
       "<style scoped>\n",
       "    .dataframe tbody tr th:only-of-type {\n",
       "        vertical-align: middle;\n",
       "    }\n",
       "\n",
       "    .dataframe tbody tr th {\n",
       "        vertical-align: top;\n",
       "    }\n",
       "\n",
       "    .dataframe thead th {\n",
       "        text-align: right;\n",
       "    }\n",
       "</style>\n",
       "<table border=\"1\" class=\"dataframe\">\n",
       "  <thead>\n",
       "    <tr style=\"text-align: right;\">\n",
       "      <th></th>\n",
       "      <th>Date</th>\n",
       "      <th>ZR</th>\n",
       "      <th>DF</th>\n",
       "    </tr>\n",
       "  </thead>\n",
       "  <tbody>\n",
       "    <tr>\n",
       "      <th>0</th>\n",
       "      <td>2024-12-09</td>\n",
       "      <td>4.65383</td>\n",
       "      <td>0.998471</td>\n",
       "    </tr>\n",
       "    <tr>\n",
       "      <th>1</th>\n",
       "      <td>2024-12-16</td>\n",
       "      <td>4.65383</td>\n",
       "      <td>0.997580</td>\n",
       "    </tr>\n",
       "    <tr>\n",
       "      <th>2</th>\n",
       "      <td>2024-12-23</td>\n",
       "      <td>4.63108</td>\n",
       "      <td>0.996707</td>\n",
       "    </tr>\n",
       "    <tr>\n",
       "      <th>3</th>\n",
       "      <td>2025-01-02</td>\n",
       "      <td>4.60229</td>\n",
       "      <td>0.995471</td>\n",
       "    </tr>\n",
       "    <tr>\n",
       "      <th>4</th>\n",
       "      <td>2025-02-03</td>\n",
       "      <td>4.54874</td>\n",
       "      <td>0.991561</td>\n",
       "    </tr>\n",
       "    <tr>\n",
       "      <th>5</th>\n",
       "      <td>2025-03-03</td>\n",
       "      <td>4.51386</td>\n",
       "      <td>0.988198</td>\n",
       "    </tr>\n",
       "    <tr>\n",
       "      <th>6</th>\n",
       "      <td>2025-04-02</td>\n",
       "      <td>4.48008</td>\n",
       "      <td>0.984653</td>\n",
       "    </tr>\n",
       "    <tr>\n",
       "      <th>7</th>\n",
       "      <td>2025-05-02</td>\n",
       "      <td>4.44440</td>\n",
       "      <td>0.981184</td>\n",
       "    </tr>\n",
       "    <tr>\n",
       "      <th>8</th>\n",
       "      <td>2025-06-02</td>\n",
       "      <td>4.41047</td>\n",
       "      <td>0.977657</td>\n",
       "    </tr>\n",
       "    <tr>\n",
       "      <th>9</th>\n",
       "      <td>2025-07-02</td>\n",
       "      <td>4.37963</td>\n",
       "      <td>0.974298</td>\n",
       "    </tr>\n",
       "    <tr>\n",
       "      <th>10</th>\n",
       "      <td>2025-08-04</td>\n",
       "      <td>4.34593</td>\n",
       "      <td>0.970672</td>\n",
       "    </tr>\n",
       "    <tr>\n",
       "      <th>11</th>\n",
       "      <td>2025-09-02</td>\n",
       "      <td>4.31802</td>\n",
       "      <td>0.967533</td>\n",
       "    </tr>\n",
       "    <tr>\n",
       "      <th>12</th>\n",
       "      <td>2025-10-02</td>\n",
       "      <td>4.29104</td>\n",
       "      <td>0.964325</td>\n",
       "    </tr>\n",
       "    <tr>\n",
       "      <th>13</th>\n",
       "      <td>2025-11-03</td>\n",
       "      <td>4.26336</td>\n",
       "      <td>0.960953</td>\n",
       "    </tr>\n",
       "    <tr>\n",
       "      <th>14</th>\n",
       "      <td>2025-12-02</td>\n",
       "      <td>4.23903</td>\n",
       "      <td>0.957939</td>\n",
       "    </tr>\n",
       "    <tr>\n",
       "      <th>15</th>\n",
       "      <td>2026-06-04</td>\n",
       "      <td>4.11096</td>\n",
       "      <td>0.939510</td>\n",
       "    </tr>\n",
       "    <tr>\n",
       "      <th>16</th>\n",
       "      <td>2026-12-04</td>\n",
       "      <td>4.02026</td>\n",
       "      <td>0.922031</td>\n",
       "    </tr>\n",
       "    <tr>\n",
       "      <th>17</th>\n",
       "      <td>2027-12-06</td>\n",
       "      <td>3.90579</td>\n",
       "      <td>0.888575</td>\n",
       "    </tr>\n",
       "    <tr>\n",
       "      <th>18</th>\n",
       "      <td>2028-12-06</td>\n",
       "      <td>3.83545</td>\n",
       "      <td>0.856870</td>\n",
       "    </tr>\n",
       "    <tr>\n",
       "      <th>19</th>\n",
       "      <td>2029-12-05</td>\n",
       "      <td>3.79402</td>\n",
       "      <td>0.826433</td>\n",
       "    </tr>\n",
       "    <tr>\n",
       "      <th>20</th>\n",
       "      <td>2030-12-04</td>\n",
       "      <td>3.77288</td>\n",
       "      <td>0.796762</td>\n",
       "    </tr>\n",
       "    <tr>\n",
       "      <th>21</th>\n",
       "      <td>2031-12-04</td>\n",
       "      <td>3.76210</td>\n",
       "      <td>0.767842</td>\n",
       "    </tr>\n",
       "    <tr>\n",
       "      <th>22</th>\n",
       "      <td>2032-12-06</td>\n",
       "      <td>3.75877</td>\n",
       "      <td>0.739461</td>\n",
       "    </tr>\n",
       "    <tr>\n",
       "      <th>23</th>\n",
       "      <td>2033-12-06</td>\n",
       "      <td>3.76078</td>\n",
       "      <td>0.712052</td>\n",
       "    </tr>\n",
       "    <tr>\n",
       "      <th>24</th>\n",
       "      <td>2034-12-06</td>\n",
       "      <td>3.76624</td>\n",
       "      <td>0.685395</td>\n",
       "    </tr>\n",
       "    <tr>\n",
       "      <th>25</th>\n",
       "      <td>2036-12-04</td>\n",
       "      <td>3.78616</td>\n",
       "      <td>0.634209</td>\n",
       "    </tr>\n",
       "    <tr>\n",
       "      <th>26</th>\n",
       "      <td>2039-12-06</td>\n",
       "      <td>3.81041</td>\n",
       "      <td>0.563936</td>\n",
       "    </tr>\n",
       "    <tr>\n",
       "      <th>27</th>\n",
       "      <td>2044-12-06</td>\n",
       "      <td>3.78506</td>\n",
       "      <td>0.468385</td>\n",
       "    </tr>\n",
       "    <tr>\n",
       "      <th>28</th>\n",
       "      <td>2049-12-06</td>\n",
       "      <td>3.67110</td>\n",
       "      <td>0.398804</td>\n",
       "    </tr>\n",
       "    <tr>\n",
       "      <th>29</th>\n",
       "      <td>2054-12-04</td>\n",
       "      <td>3.53345</td>\n",
       "      <td>0.345974</td>\n",
       "    </tr>\n",
       "    <tr>\n",
       "      <th>30</th>\n",
       "      <td>2064-12-04</td>\n",
       "      <td>3.21972</td>\n",
       "      <td>0.275439</td>\n",
       "    </tr>\n",
       "    <tr>\n",
       "      <th>31</th>\n",
       "      <td>2074-12-05</td>\n",
       "      <td>2.91924</td>\n",
       "      <td>0.231954</td>\n",
       "    </tr>\n",
       "  </tbody>\n",
       "</table>\n",
       "</div>"
      ],
      "text/plain": [
       "          Date       ZR        DF\n",
       "0   2024-12-09  4.65383  0.998471\n",
       "1   2024-12-16  4.65383  0.997580\n",
       "2   2024-12-23  4.63108  0.996707\n",
       "3   2025-01-02  4.60229  0.995471\n",
       "4   2025-02-03  4.54874  0.991561\n",
       "5   2025-03-03  4.51386  0.988198\n",
       "6   2025-04-02  4.48008  0.984653\n",
       "7   2025-05-02  4.44440  0.981184\n",
       "8   2025-06-02  4.41047  0.977657\n",
       "9   2025-07-02  4.37963  0.974298\n",
       "10  2025-08-04  4.34593  0.970672\n",
       "11  2025-09-02  4.31802  0.967533\n",
       "12  2025-10-02  4.29104  0.964325\n",
       "13  2025-11-03  4.26336  0.960953\n",
       "14  2025-12-02  4.23903  0.957939\n",
       "15  2026-06-04  4.11096  0.939510\n",
       "16  2026-12-04  4.02026  0.922031\n",
       "17  2027-12-06  3.90579  0.888575\n",
       "18  2028-12-06  3.83545  0.856870\n",
       "19  2029-12-05  3.79402  0.826433\n",
       "20  2030-12-04  3.77288  0.796762\n",
       "21  2031-12-04  3.76210  0.767842\n",
       "22  2032-12-06  3.75877  0.739461\n",
       "23  2033-12-06  3.76078  0.712052\n",
       "24  2034-12-06  3.76624  0.685395\n",
       "25  2036-12-04  3.78616  0.634209\n",
       "26  2039-12-06  3.81041  0.563936\n",
       "27  2044-12-06  3.78506  0.468385\n",
       "28  2049-12-06  3.67110  0.398804\n",
       "29  2054-12-04  3.53345  0.345974\n",
       "30  2064-12-04  3.21972  0.275439\n",
       "31  2074-12-05  2.91924  0.231954"
      ]
     },
     "execution_count": 9,
     "metadata": {},
     "output_type": "execute_result"
    }
   ],
   "source": [
    "curve.print_table(payment_dt=payment_dates)"
   ]
  },
  {
   "cell_type": "code",
   "execution_count": 10,
   "metadata": {},
   "outputs": [
    {
     "data": {
      "image/png": "[encoded data removed]",
      "text/plain": [
       "<Figure size 1000x600 with 1 Axes>"
      ]
     },
     "metadata": {},
     "output_type": "display_data"
    }
   ],
   "source": [
    "curve.print_figure(payment_dates)"
   ]
  },
  {
   "cell_type": "code",
   "execution_count": 11,
   "metadata": {},
   "outputs": [],
   "source": [
    "fixed_type = SwapTypes.PAY\n",
    "fixed_freq = FrequencyTypes.ANNUAL\n",
    "fixed_dc_type = DayCountTypes.ACT_360\n",
    "\n",
    "swap = OIS(\n",
    "    effective_dt=Date(19,7,2024),\n",
    "    term_dt_or_tenor=Date(18,7,2027),\n",
    "    fixed_leg_type=fixed_type,\n",
    "    fixed_cpn=0.05558,\n",
    "    fixed_freq_type=fixed_freq,\n",
    "    fixed_dc_type=fixed_dc_type,\n",
    "    notional=32061781.09,\n",
    "    payment_lag=0,\n",
    "    float_spread=0,\n",
    "    float_freq_type=FrequencyTypes.ANNUAL,\n",
    "    float_dc_type=DayCountTypes.ACT_360,\n",
    "    cal_type=CalendarTypes.UNITED_STATES,\n",
    "    bd_type=BusDayAdjustTypes.MODIFIED_FOLLOWING,\n",
    "    dg_type=DateGenRuleTypes.BACKWARD\n",
    ")"
   ]
  },
  {
   "cell_type": "code",
   "execution_count": 12,
   "metadata": {},
   "outputs": [],
   "source": [
    "curve.dc_type = DayCountTypes.ACT_360"
   ]
  },
  {
   "cell_type": "code",
   "execution_count": 13,
   "metadata": {},
   "outputs": [
    {
     "data": {
      "text/plain": [
       "np.float64(-1305252.0337037542)"
      ]
     },
     "execution_count": 13,
     "metadata": {},
     "output_type": "execute_result"
    }
   ],
   "source": [
    "swap.value(value_dt=value_dt, ois_curve=curve, first_fixing_rate=0.04674658104292555)"
   ]
  },
  {
   "cell_type": "code",
   "execution_count": null,
   "metadata": {},
   "outputs": [],
   "source": []
  },
  {
   "cell_type": "code",
   "execution_count": 14,
   "metadata": {},
   "outputs": [],
   "source": [
    "ccy = 'USD'\n",
    "index_name = 'SOFR'\n",
    "sch_calendar = ql.UnitedStates(ql.UnitedStates.FederalReserve)\n",
    "fixing_calendar = ql.Sofr().fixingCalendar()    \n",
    "payment_calendar = ql.UnitedStates(ql.UnitedStates.FederalReserve)\n",
    "date_generation_rule = ql.DateGeneration.Backward\n",
    "payment_delay = 0\n",
    "fixing_days = 0\n",
    "end_of_month = True\n",
    "is_ois_leg = True\n",
    "\n",
    "effective_date = ql.Date(19, 7, 2024)\n",
    "# maturity_date = sch_calendar.advance(effective_date, ql.Period('1Y'), sch_convention)\n",
    "maturity_date = ql.Date(18, 7, 2025)\n",
    "fixed_leg_pay_freq = '1Y'\n",
    "float_leg_pay_freq = '1Y'\n",
    "reset_freq = 'None'\n",
    "notional = 32061781.09\n",
    "fixed_rate = 0.05558\n",
    "multiplier = 1\n",
    "spread = 0\n",
    "fixed_leg_daycount = ql.Actual360()\n",
    "float_leg_daycount = ql.Actual360()\n",
    "fixed_leg_direction = 'pay'\n",
    "float_leg_direction = 'receive'"
   ]
  },
  {
   "cell_type": "code",
   "execution_count": 15,
   "metadata": {},
   "outputs": [],
   "source": [
    "inst = StandardFloatFixedIrs(\n",
    "    ccy, index_name, effective_date, maturity_date, fixed_leg_pay_freq, \n",
    "    float_leg_pay_freq, reset_freq, notional, fixed_rate, multiplier, spread, \n",
    "    fixed_leg_daycount, float_leg_daycount, payment_delay, fixing_days, \n",
    "    sch_calendar, fixing_calendar, payment_calendar, fixed_leg_direction, \n",
    "    float_leg_direction, date_generation_rule=date_generation_rule, \n",
    "    end_of_month=end_of_month, is_ois_leg=is_ois_leg)"
   ]
  },
  {
   "cell_type": "code",
   "execution_count": 16,
   "metadata": {},
   "outputs": [
    {
     "data": {
      "text/plain": [
       "array([Date(19,7,2024)], dtype=object)"
      ]
     },
     "execution_count": 16,
     "metadata": {},
     "output_type": "execute_result"
    }
   ],
   "source": [
    "inst.float_leg.start_dates"
   ]
  },
  {
   "cell_type": "code",
   "execution_count": 17,
   "metadata": {},
   "outputs": [
    {
     "data": {
      "text/plain": [
       "array([Date(18,7,2025)], dtype=object)"
      ]
     },
     "execution_count": 17,
     "metadata": {},
     "output_type": "execute_result"
    }
   ],
   "source": [
    "inst.float_leg.end_dates"
   ]
  },
  {
   "cell_type": "code",
   "execution_count": 18,
   "metadata": {},
   "outputs": [
    {
     "data": {
      "text/plain": [
       "np.float64(0.04674658104292555)"
      ]
     },
     "execution_count": 18,
     "metadata": {},
     "output_type": "execute_result"
    }
   ],
   "source": [
    "get_ois_float_rate(index_curve, today, inst.float_leg.start_dates[0], inst.float_leg.end_dates[0], ql.Actual360(), spread)"
   ]
  },
  {
   "cell_type": "code",
   "execution_count": 19,
   "metadata": {},
   "outputs": [],
   "source": [
    "calendar = ql.UnitedStates(ql.UnitedStates.FederalReserve)"
   ]
  },
  {
   "cell_type": "code",
   "execution_count": 20,
   "metadata": {},
   "outputs": [],
   "source": [
    "last_reset_date = calendar.advance(inst.float_leg.end_dates[0], ql.Period('-1D'))"
   ]
  },
  {
   "cell_type": "code",
   "execution_count": 21,
   "metadata": {},
   "outputs": [],
   "source": [
    "last_fixing_date = get_real_fixing_date(index_curve, last_reset_date)"
   ]
  },
  {
   "cell_type": "code",
   "execution_count": 22,
   "metadata": {},
   "outputs": [
    {
     "data": {
      "text/plain": [
       "Date(27,11,2024)"
      ]
     },
     "execution_count": 22,
     "metadata": {},
     "output_type": "execute_result"
    }
   ],
   "source": [
    "today"
   ]
  },
  {
   "cell_type": "code",
   "execution_count": 23,
   "metadata": {},
   "outputs": [
    {
     "data": {
      "text/plain": [
       "Date(27,11,2024)"
      ]
     },
     "execution_count": 23,
     "metadata": {},
     "output_type": "execute_result"
    }
   ],
   "source": [
    "calendar.adjust(today, ql.Preceding)"
   ]
  },
  {
   "cell_type": "code",
   "execution_count": 24,
   "metadata": {},
   "outputs": [],
   "source": [
    "def get_forward_rate(index_curve, today, fixing_date, use_last_fixing=False, product_type='linear'):\n",
    "    if today < index_curve.today:\n",
    "        raise Exception('Valuation date should not be earlier than curve date!')\n",
    "    \n",
    "    try:\n",
    "        rate = index_curve.get_forward_rate(today, fixing_date)\n",
    "    except:\n",
    "        index = index_curve.index\n",
    "        curve= index_curve.curve\n",
    "        freq = index.tenor()\n",
    "        calendar = index.fixingCalendar()\n",
    "        daycount = index.dayCounter()\n",
    "        convention = index.businessDayConvention()\n",
    "        end_of_month = index.endOfMonth()\n",
    "        \n",
    "        # settlement_delay = 0 \n",
    "        settlement_delay = index.fixingDays()\n",
    "        default_compounding_method = ql.Simple\n",
    "        \n",
    "        real_fixing_date = get_real_fixing_date(index_curve, fixing_date, product_type=product_type)\n",
    "            \n",
    "        if real_fixing_date <= today:\n",
    "            if real_fixing_date <= index_curve.today:\n",
    "                # history fixing data exist\n",
    "                rate = index.fixing(real_fixing_date)\n",
    "            else:\n",
    "                # real_fixing_date > index_curve.today, so fixing data does not exist\n",
    "                if use_last_fixing:\n",
    "                    last_fixing_date = calendar.adjust(index_curve.today, ql.Preceding)\n",
    "                    rate = index.fixing(last_fixing_date)\n",
    "                else:\n",
    "                    real_date = calendar.advance(\n",
    "                        real_fixing_date, ql.Period(settlement_delay, ql.Days))\n",
    "                    real_end_date = calendar.advance(real_date, freq, convention, end_of_month)\n",
    "                    rate = curve.forwardRate(\n",
    "                        real_date, real_end_date, daycount, default_compounding_method).rate()\n",
    "        else:\n",
    "            real_date = calendar.advance(\n",
    "                real_fixing_date, ql.Period(settlement_delay, ql.Days))\n",
    "            real_end_date = calendar.advance(real_date, freq, convention, end_of_month)\n",
    "            rate = curve.forwardRate(\n",
    "                real_date, real_end_date, daycount, default_compounding_method).rate()\n",
    "                \n",
    "    # print(f'fixing date: {str(fixing_date.to_date())}, reset rate: {rate}')\n",
    "    \n",
    "    return rate"
   ]
  },
  {
   "cell_type": "code",
   "execution_count": 25,
   "metadata": {},
   "outputs": [],
   "source": [
    "def get_fixing_rates(index_curve, today, fixing_dates, use_last_fixing=False, product_type='linear'):\n",
    "    rate_list = []\n",
    "    for fixing_date in fixing_dates:\n",
    "        rate = get_forward_rate(index_curve, today, fixing_date, \n",
    "                                use_last_fixing=use_last_fixing, product_type=product_type)\n",
    "        rate_list.append(rate)\n",
    "    \n",
    "    return np.array(rate_list)"
   ]
  },
  {
   "cell_type": "code",
   "execution_count": 26,
   "metadata": {},
   "outputs": [],
   "source": [
    "fixed_dates = np.array([today])"
   ]
  },
  {
   "cell_type": "code",
   "execution_count": 27,
   "metadata": {},
   "outputs": [],
   "source": [
    "fixed_dates = np.array(\n",
    "    ql.Schedule(inst.float_leg.start_dates[0], today, ql.Period('1D'), \n",
    "                calendar, ql.Following, ql.Preceding, \n",
    "                ql.DateGeneration.Forward, False))"
   ]
  },
  {
   "cell_type": "code",
   "execution_count": 28,
   "metadata": {},
   "outputs": [],
   "source": [
    "fixed_rates = get_fixing_rates(index_curve, today, fixed_dates, use_last_fixing=False)"
   ]
  },
  {
   "cell_type": "code",
   "execution_count": 29,
   "metadata": {},
   "outputs": [
    {
     "data": {
      "text/plain": [
       "array([0.0534, 0.0533, 0.0534, 0.0534, 0.0535, 0.0535, 0.0533, 0.0533,\n",
       "       0.0538, 0.0535, 0.0535, 0.0532, 0.0533, 0.0533, 0.0534, 0.0534,\n",
       "       0.0534, 0.0534, 0.0533, 0.0535, 0.0532, 0.0532, 0.0532, 0.0531,\n",
       "       0.0531, 0.0533, 0.0534, 0.0535, 0.0535, 0.0533, 0.0532, 0.0534,\n",
       "       0.0535, 0.0535, 0.0534, 0.0534, 0.0533, 0.0532, 0.0533, 0.0533,\n",
       "       0.0538, 0.0538, 0.0533, 0.0482, 0.0483, 0.0483, 0.0484, 0.0484,\n",
       "       0.0483, 0.0484, 0.0496, 0.0505, 0.0492, 0.0485, 0.0483, 0.0483,\n",
       "       0.0484, 0.0483, 0.0482, 0.0481, 0.0486, 0.0486, 0.0485, 0.0484,\n",
       "       0.0482, 0.0483, 0.0483, 0.0483, 0.0483, 0.0482, 0.0482, 0.0481,\n",
       "       0.049 , 0.0486, 0.0482, 0.0482, 0.0481, 0.0482, 0.046 , 0.046 ,\n",
       "       0.0459, 0.0458, 0.0457, 0.0457, 0.0457, 0.0456, 0.0457, 0.0457,\n",
       "       0.0458, 0.0458, 0.0457])"
      ]
     },
     "execution_count": 29,
     "metadata": {},
     "output_type": "execute_result"
    }
   ],
   "source": [
    "fixed_rates"
   ]
  },
  {
   "cell_type": "code",
   "execution_count": 30,
   "metadata": {},
   "outputs": [],
   "source": [
    "next_reset_date = calendar.advance(today, ql.Period('1D'))\n",
    "future_forward_rate = index_curve.curve.forwardRate(\n",
    "    next_reset_date, inst.float_leg.end_dates[0], ql.Actual360(), ql.Simple).rate()\n",
    "rate_array = np.append(fixed_rates, future_forward_rate)\n",
    "reset_dates = np.append(fixed_dates, [next_reset_date, inst.float_leg.end_dates[0]])"
   ]
  },
  {
   "cell_type": "code",
   "execution_count": 31,
   "metadata": {},
   "outputs": [],
   "source": [
    "reset_period_dcf = np.array(\n",
    "            [ql.Actual360().yearFraction(reset_dates[i], reset_dates[i+1]) \n",
    "                for i in range(np.size(reset_dates) - 1)])\n",
    "float_rate = ((np.prod(rate_array * reset_period_dcf + 1) - 1)\n",
    "                / np.sum(reset_period_dcf))"
   ]
  },
  {
   "cell_type": "code",
   "execution_count": 32,
   "metadata": {},
   "outputs": [
    {
     "data": {
      "text/plain": [
       "array([0.00833333, 0.00277778, 0.00277778, 0.00277778, 0.00277778,\n",
       "       0.00833333, 0.00277778, 0.00277778, 0.00277778, 0.00277778,\n",
       "       0.00833333, 0.00277778, 0.00277778, 0.00277778, 0.00277778,\n",
       "       0.00833333, 0.00277778, 0.00277778, 0.00277778, 0.00277778,\n",
       "       0.00833333, 0.00277778, 0.00277778, 0.00277778, 0.00277778,\n",
       "       0.00833333, 0.00277778, 0.00277778, 0.00277778, 0.00277778,\n",
       "       0.01111111, 0.00277778, 0.00277778, 0.00277778, 0.00833333,\n",
       "       0.00277778, 0.00277778, 0.00277778, 0.00277778, 0.00833333,\n",
       "       0.00277778, 0.00277778, 0.00277778, 0.00277778, 0.00833333,\n",
       "       0.00277778, 0.00277778, 0.00277778, 0.00277778, 0.00833333,\n",
       "       0.00277778, 0.00277778, 0.00277778, 0.00277778, 0.00833333,\n",
       "       0.00277778, 0.00277778, 0.00277778, 0.00277778, 0.01111111,\n",
       "       0.00277778, 0.00277778, 0.00277778, 0.00833333, 0.00277778,\n",
       "       0.00277778, 0.00277778, 0.00277778, 0.00833333, 0.00277778,\n",
       "       0.00277778, 0.00277778, 0.00277778, 0.00833333, 0.00277778,\n",
       "       0.00277778, 0.00277778, 0.00277778, 0.01111111, 0.00277778,\n",
       "       0.00277778, 0.00277778, 0.00833333, 0.00277778, 0.00277778,\n",
       "       0.00277778, 0.00277778, 0.00833333, 0.00277778, 0.00277778,\n",
       "       0.00555556, 0.64166667])"
      ]
     },
     "execution_count": 32,
     "metadata": {},
     "output_type": "execute_result"
    }
   ],
   "source": [
    "reset_period_dcf"
   ]
  },
  {
   "cell_type": "code",
   "execution_count": 33,
   "metadata": {},
   "outputs": [
    {
     "data": {
      "text/plain": [
       "np.float64(0.04674658104292555)"
      ]
     },
     "execution_count": 33,
     "metadata": {},
     "output_type": "execute_result"
    }
   ],
   "source": [
    "float_rate"
   ]
  },
  {
   "cell_type": "code",
   "execution_count": 34,
   "metadata": {},
   "outputs": [],
   "source": [
    "cal = ql.UnitedStates(ql.UnitedStates.FederalReserve)"
   ]
  },
  {
   "cell_type": "code",
   "execution_count": 35,
   "metadata": {},
   "outputs": [
    {
     "data": {
      "text/plain": [
       "(Date(17,1,2028),\n",
       " Date(21,2,2028),\n",
       " Date(29,5,2028),\n",
       " Date(19,6,2028),\n",
       " Date(4,7,2028),\n",
       " Date(4,9,2028),\n",
       " Date(9,10,2028),\n",
       " Date(23,11,2028),\n",
       " Date(25,12,2028))"
      ]
     },
     "execution_count": 35,
     "metadata": {},
     "output_type": "execute_result"
    }
   ],
   "source": [
    "cal.holidayList(ql.Date(1,1,2028), ql.Date(31,12,2028))"
   ]
  },
  {
   "cell_type": "code",
   "execution_count": 36,
   "metadata": {},
   "outputs": [
    {
     "data": {
      "text/plain": [
       "False"
      ]
     },
     "execution_count": 36,
     "metadata": {},
     "output_type": "execute_result"
    }
   ],
   "source": [
    "cal.isHoliday(ql.Date(3,6,2026))"
   ]
  }
 ],
 "metadata": {
  "kernelspec": {
   "display_name": "base",
   "language": "python",
   "name": "python3"
  },
  "language_info": {
   "codemirror_mode": {
    "name": "ipython",
    "version": 3
   },
   "file_extension": ".py",
   "mimetype": "text/x-python",
   "name": "python",
   "nbconvert_exporter": "python",
   "pygments_lexer": "ipython3",
   "version": "3.9.16"
  }
 },
 "nbformat": 4,
 "nbformat_minor": 2
}
