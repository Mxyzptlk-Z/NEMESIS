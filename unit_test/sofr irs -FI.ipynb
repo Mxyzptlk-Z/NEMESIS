{
 "cells": [
  {
   "cell_type": "code",
   "execution_count": 1,
   "metadata": {},
   "outputs": [
    {
     "name": "stdout",
     "output_type": "stream",
     "text": [
      "当前工作目录： c:\\Users\\zhaoxs3\\Desktop\\ValLib\\unit_test\n",
      "切换后的目录： c:\\Users\\zhaoxs3\\Desktop\\ValLib\n"
     ]
    }
   ],
   "source": [
    "import os\n",
    "\n",
    "# 获取当前工作目录\n",
    "current_dir = os.getcwd()\n",
    "print(\"当前工作目录：\", current_dir)\n",
    " \n",
    "# 切换到上一层目录\n",
    "parent_dir = os.path.dirname(current_dir)\n",
    "os.chdir(parent_dir)\n",
    "print(\"切换后的目录：\", parent_dir)"
   ]
  },
  {
   "cell_type": "code",
   "execution_count": 2,
   "metadata": {},
   "outputs": [],
   "source": [
    "import QuantLib as ql\n",
    "import pandas as pd\n",
    "\n",
    "from devlib.utils.curve_utils import get_ois_float_rate, get_real_fixing_date\n",
    "from devlib.market.curves.overnight_index_curves import Sofr\n",
    "from devlib.products.rates.irs.general_irs import *"
   ]
  },
  {
   "cell_type": "code",
   "execution_count": 3,
   "metadata": {},
   "outputs": [
    {
     "name": "stdout",
     "output_type": "stream",
     "text": [
      "####################################################################\n",
      "#  ValLib ALPHA Version 0.1.0 - This build: 24 Jan 2025 at 10:42 #\n",
      "####################################################################\n",
      "\n"
     ]
    }
   ],
   "source": [
    "from vallib.products.rates import *"
   ]
  },
  {
   "cell_type": "code",
   "execution_count": 4,
   "metadata": {},
   "outputs": [],
   "source": [
    "today = ql.Date(27, 11, 2024)\n",
    "ql.Settings.instance().evaluationDate = today\n",
    "\n",
    "mkt_file_path = './unit_test/data/sofr_curve_data_20241127.xlsx'\n",
    "swap_mkt_data = pd.read_excel(mkt_file_path, sheet_name='swap')\n",
    "fixing_data = pd.read_excel(mkt_file_path, sheet_name='fixing')\n",
    "\n",
    "index_curve = Sofr(today, swap_mkt_data=swap_mkt_data, fixing_data=fixing_data)\n",
    "discount_curve = Sofr(today, swap_mkt_data=swap_mkt_data, fixing_data=fixing_data)"
   ]
  },
  {
   "cell_type": "code",
   "execution_count": 5,
   "metadata": {},
   "outputs": [],
   "source": [
    "value_dt = Date(27,11,2024)\n",
    "curve = OISCurve.build_curve_from_ql(value_dt, discount_curve.curve)"
   ]
  },
  {
   "cell_type": "code",
   "execution_count": 6,
   "metadata": {},
   "outputs": [
    {
     "ename": "TypeError",
     "evalue": "No matching definition for argument type(s) float64, reflected list(float64)<iv=None>, reflected list(float64)<iv=None>, int64",
     "output_type": "error",
     "traceback": [
      "\u001b[1;31m---------------------------------------------------------------------------\u001b[0m",
      "\u001b[1;31mTypeError\u001b[0m                                 Traceback (most recent call last)",
      "Cell \u001b[1;32mIn[6], line 1\u001b[0m\n\u001b[1;32m----> 1\u001b[0m \u001b[43mcurve\u001b[49m\u001b[38;5;241;43m.\u001b[39;49m\u001b[43mprint_table\u001b[49m\u001b[43m(\u001b[49m\u001b[43mpayment_dt\u001b[49m\u001b[38;5;241;43m=\u001b[39;49m\u001b[43mDate\u001b[49m\u001b[43m(\u001b[49m\u001b[38;5;241;43m27\u001b[39;49m\u001b[43m,\u001b[49m\u001b[38;5;241;43m12\u001b[39;49m\u001b[43m,\u001b[49m\u001b[38;5;241;43m2024\u001b[39;49m\u001b[43m)\u001b[49m\u001b[43m)\u001b[49m\n",
      "File \u001b[1;32mc:\\Users\\zhaoxs3\\Desktop\\ValLib\\vallib\\products\\rates\\ois_curve.py:149\u001b[0m, in \u001b[0;36mOISCurve.print_table\u001b[1;34m(self, payment_dt)\u001b[0m\n\u001b[0;32m    146\u001b[0m \u001b[38;5;28;01mdef\u001b[39;00m\u001b[38;5;250m \u001b[39m\u001b[38;5;21mprint_table\u001b[39m(\u001b[38;5;28mself\u001b[39m, payment_dt):\n\u001b[0;32m    147\u001b[0m \u001b[38;5;250m    \u001b[39m\u001b[38;5;124;03m\"\"\"Print a table of zero rate and discount factor on pivot dates.\"\"\"\u001b[39;00m\n\u001b[1;32m--> 149\u001b[0m     zr \u001b[38;5;241m=\u001b[39m \u001b[38;5;28;43mself\u001b[39;49m\u001b[38;5;241;43m.\u001b[39;49m\u001b[43mzero_rate\u001b[49m\u001b[43m(\u001b[49m\n\u001b[0;32m    150\u001b[0m \u001b[43m        \u001b[49m\u001b[43mpayment_dt\u001b[49m\u001b[43m,\u001b[49m\u001b[43m \u001b[49m\n\u001b[0;32m    151\u001b[0m \u001b[43m        \u001b[49m\u001b[43mfreq_type\u001b[49m\u001b[43m \u001b[49m\u001b[38;5;241;43m=\u001b[39;49m\u001b[43m \u001b[49m\u001b[43mFrequencyTypes\u001b[49m\u001b[38;5;241;43m.\u001b[39;49m\u001b[43mCONTINUOUS\u001b[49m\u001b[43m,\u001b[49m\u001b[43m \u001b[49m\n\u001b[0;32m    152\u001b[0m \u001b[43m        \u001b[49m\u001b[43mdc_type\u001b[49m\u001b[43m \u001b[49m\u001b[38;5;241;43m=\u001b[39;49m\u001b[43m \u001b[49m\u001b[43mDayCountTypes\u001b[49m\u001b[38;5;241;43m.\u001b[39;49m\u001b[43mACT_365L\u001b[49m\n\u001b[0;32m    153\u001b[0m \u001b[43m    \u001b[49m\u001b[43m)\u001b[49m\n\u001b[0;32m    155\u001b[0m     df \u001b[38;5;241m=\u001b[39m \u001b[38;5;28mself\u001b[39m\u001b[38;5;241m.\u001b[39mdf(payment_dt, day_count \u001b[38;5;241m=\u001b[39m DayCountTypes\u001b[38;5;241m.\u001b[39mZERO)\n\u001b[0;32m    157\u001b[0m     curve_result \u001b[38;5;241m=\u001b[39m pd\u001b[38;5;241m.\u001b[39mDataFrame({\u001b[38;5;124m\"\u001b[39m\u001b[38;5;124mDate\u001b[39m\u001b[38;5;124m\"\u001b[39m: payment_dt, \u001b[38;5;124m\"\u001b[39m\u001b[38;5;124mZR\u001b[39m\u001b[38;5;124m\"\u001b[39m: (zr\u001b[38;5;241m*\u001b[39m\u001b[38;5;241m100\u001b[39m)\u001b[38;5;241m.\u001b[39mround(\u001b[38;5;241m5\u001b[39m), \u001b[38;5;124m\"\u001b[39m\u001b[38;5;124mDF\u001b[39m\u001b[38;5;124m\"\u001b[39m: df\u001b[38;5;241m.\u001b[39mround(\u001b[38;5;241m6\u001b[39m)})\n",
      "File \u001b[1;32mc:\\Users\\zhaoxs3\\Desktop\\ValLib\\vallib\\market\\curves\\discount_curve.py:196\u001b[0m, in \u001b[0;36mDiscountCurve.zero_rate\u001b[1;34m(self, dts, freq_type, dc_type)\u001b[0m\n\u001b[0;32m    193\u001b[0m \u001b[38;5;28;01mif\u001b[39;00m \u001b[38;5;28misinstance\u001b[39m(dc_type, DayCountTypes) \u001b[38;5;129;01mis\u001b[39;00m \u001b[38;5;28;01mFalse\u001b[39;00m:\n\u001b[0;32m    194\u001b[0m     \u001b[38;5;28;01mraise\u001b[39;00m FinError(\u001b[38;5;124m\"\u001b[39m\u001b[38;5;124mInvalid Day Count type.\u001b[39m\u001b[38;5;124m\"\u001b[39m)\n\u001b[1;32m--> 196\u001b[0m dfs \u001b[38;5;241m=\u001b[39m \u001b[38;5;28;43mself\u001b[39;49m\u001b[38;5;241;43m.\u001b[39;49m\u001b[43mdf\u001b[49m\u001b[43m(\u001b[49m\u001b[43mdts\u001b[49m\u001b[43m)\u001b[49m\n\u001b[0;32m    197\u001b[0m zero_rates \u001b[38;5;241m=\u001b[39m \u001b[38;5;28mself\u001b[39m\u001b[38;5;241m.\u001b[39m_df_to_zero(dfs, dts, freq_type, dc_type)\n\u001b[0;32m    199\u001b[0m \u001b[38;5;28;01mif\u001b[39;00m \u001b[38;5;28misinstance\u001b[39m(dts, Date):\n",
      "File \u001b[1;32mc:\\Users\\zhaoxs3\\Desktop\\ValLib\\vallib\\market\\curves\\discount_curve.py:300\u001b[0m, in \u001b[0;36mDiscountCurve.df\u001b[1;34m(self, dt, day_count)\u001b[0m\n\u001b[0;32m    295\u001b[0m \u001b[38;5;250m\u001b[39m\u001b[38;5;124;03m\"\"\"Function to calculate a discount factor from a date or a\u001b[39;00m\n\u001b[0;32m    296\u001b[0m \u001b[38;5;124;03mvector of dates. The day count determines how dates get converted to\u001b[39;00m\n\u001b[0;32m    297\u001b[0m \u001b[38;5;124;03myears. I allow this to default to ACT_ACT_ISDA unless specified.\"\"\"\u001b[39;00m\n\u001b[0;32m    299\u001b[0m times \u001b[38;5;241m=\u001b[39m times_from_dates(dt, \u001b[38;5;28mself\u001b[39m\u001b[38;5;241m.\u001b[39mvalue_dt, day_count)\n\u001b[1;32m--> 300\u001b[0m dfs \u001b[38;5;241m=\u001b[39m \u001b[38;5;28;43mself\u001b[39;49m\u001b[38;5;241;43m.\u001b[39;49m\u001b[43mdf_t\u001b[49m\u001b[43m(\u001b[49m\u001b[43mtimes\u001b[49m\u001b[43m)\u001b[49m\n\u001b[0;32m    302\u001b[0m \u001b[38;5;28;01mif\u001b[39;00m \u001b[38;5;28misinstance\u001b[39m(dfs, \u001b[38;5;28mfloat\u001b[39m):\n\u001b[0;32m    303\u001b[0m     \u001b[38;5;28;01mreturn\u001b[39;00m dfs\n",
      "File \u001b[1;32mc:\\Users\\zhaoxs3\\Desktop\\ValLib\\vallib\\market\\curves\\discount_curve.py:319\u001b[0m, in \u001b[0;36mDiscountCurve.df_t\u001b[1;34m(self, t)\u001b[0m\n\u001b[0;32m    310\u001b[0m \u001b[38;5;250m\u001b[39m\u001b[38;5;124;03m\"\"\"Function to calculate a discount factor from a time or a\u001b[39;00m\n\u001b[0;32m    311\u001b[0m \u001b[38;5;124;03mvector of times. Discourage usage in favour of passing in dates.\"\"\"\u001b[39;00m\n\u001b[0;32m    313\u001b[0m \u001b[38;5;28;01mif\u001b[39;00m (\n\u001b[0;32m    314\u001b[0m     \u001b[38;5;28mself\u001b[39m\u001b[38;5;241m.\u001b[39m_interp_type \u001b[38;5;129;01mis\u001b[39;00m InterpTypes\u001b[38;5;241m.\u001b[39mFLAT_FWD_RATES\n\u001b[0;32m    315\u001b[0m     \u001b[38;5;129;01mor\u001b[39;00m \u001b[38;5;28mself\u001b[39m\u001b[38;5;241m.\u001b[39m_interp_type \u001b[38;5;129;01mis\u001b[39;00m InterpTypes\u001b[38;5;241m.\u001b[39mLINEAR_ZERO_RATES\n\u001b[0;32m    316\u001b[0m     \u001b[38;5;129;01mor\u001b[39;00m \u001b[38;5;28mself\u001b[39m\u001b[38;5;241m.\u001b[39m_interp_type \u001b[38;5;129;01mis\u001b[39;00m InterpTypes\u001b[38;5;241m.\u001b[39mLINEAR_FWD_RATES\n\u001b[0;32m    317\u001b[0m ):\n\u001b[1;32m--> 319\u001b[0m     df \u001b[38;5;241m=\u001b[39m \u001b[43minterpolate\u001b[49m\u001b[43m(\u001b[49m\n\u001b[0;32m    320\u001b[0m \u001b[43m        \u001b[49m\u001b[43mt\u001b[49m\u001b[43m,\u001b[49m\u001b[43m \u001b[49m\u001b[38;5;28;43mself\u001b[39;49m\u001b[38;5;241;43m.\u001b[39;49m\u001b[43m_times\u001b[49m\u001b[43m,\u001b[49m\u001b[43m \u001b[49m\u001b[38;5;28;43mself\u001b[39;49m\u001b[38;5;241;43m.\u001b[39;49m\u001b[43m_dfs\u001b[49m\u001b[43m,\u001b[49m\u001b[43m \u001b[49m\u001b[38;5;28;43mself\u001b[39;49m\u001b[38;5;241;43m.\u001b[39;49m\u001b[43m_interp_type\u001b[49m\u001b[38;5;241;43m.\u001b[39;49m\u001b[43mvalue\u001b[49m\n\u001b[0;32m    321\u001b[0m \u001b[43m    \u001b[49m\u001b[43m)\u001b[49m\n\u001b[0;32m    323\u001b[0m \u001b[38;5;28;01melse\u001b[39;00m:\n\u001b[0;32m    325\u001b[0m     df \u001b[38;5;241m=\u001b[39m \u001b[38;5;28mself\u001b[39m\u001b[38;5;241m.\u001b[39m_interpolator\u001b[38;5;241m.\u001b[39minterpolate(t)\n",
      "File \u001b[1;32mc:\\Users\\zhaoxs3\\Desktop\\ValLib\\vallib\\market\\curves\\interpolator.py:48\u001b[0m, in \u001b[0;36minterpolate\u001b[1;34m(t, times, dfs, method)\u001b[0m\n\u001b[0;32m     45\u001b[0m         \u001b[38;5;28mprint\u001b[39m(t)\n\u001b[0;32m     46\u001b[0m         \u001b[38;5;28;01mraise\u001b[39;00m FinError(\u001b[38;5;124m\"\u001b[39m\u001b[38;5;124mInterpolate times must all be >= 0\u001b[39m\u001b[38;5;124m\"\u001b[39m)\n\u001b[1;32m---> 48\u001b[0m     u \u001b[38;5;241m=\u001b[39m \u001b[43m_uinterpolate\u001b[49m\u001b[43m(\u001b[49m\u001b[43mt\u001b[49m\u001b[43m,\u001b[49m\u001b[43m \u001b[49m\u001b[43mtimes\u001b[49m\u001b[43m,\u001b[49m\u001b[43m \u001b[49m\u001b[43mdfs\u001b[49m\u001b[43m,\u001b[49m\u001b[43m \u001b[49m\u001b[43mmethod\u001b[49m\u001b[43m)\u001b[49m\n\u001b[0;32m     49\u001b[0m     \u001b[38;5;28;01mreturn\u001b[39;00m u\n\u001b[0;32m     50\u001b[0m \u001b[38;5;28;01melif\u001b[39;00m \u001b[38;5;28misinstance\u001b[39m(t, np\u001b[38;5;241m.\u001b[39mndarray):\n",
      "File \u001b[1;32mc:\\Users\\zhaoxs3\\AppData\\Local\\miniforge3\\envs\\vallib\\Lib\\site-packages\\numba\\core\\dispatcher.py:659\u001b[0m, in \u001b[0;36m_DispatcherBase._explain_matching_error\u001b[1;34m(self, *args, **kws)\u001b[0m\n\u001b[0;32m    656\u001b[0m args \u001b[38;5;241m=\u001b[39m [\u001b[38;5;28mself\u001b[39m\u001b[38;5;241m.\u001b[39mtypeof_pyval(a) \u001b[38;5;28;01mfor\u001b[39;00m a \u001b[38;5;129;01min\u001b[39;00m args]\n\u001b[0;32m    657\u001b[0m msg \u001b[38;5;241m=\u001b[39m (\u001b[38;5;124m\"\u001b[39m\u001b[38;5;124mNo matching definition for argument type(s) \u001b[39m\u001b[38;5;132;01m%s\u001b[39;00m\u001b[38;5;124m\"\u001b[39m\n\u001b[0;32m    658\u001b[0m        \u001b[38;5;241m%\u001b[39m \u001b[38;5;124m'\u001b[39m\u001b[38;5;124m, \u001b[39m\u001b[38;5;124m'\u001b[39m\u001b[38;5;241m.\u001b[39mjoin(\u001b[38;5;28mmap\u001b[39m(\u001b[38;5;28mstr\u001b[39m, args)))\n\u001b[1;32m--> 659\u001b[0m \u001b[38;5;28;01mraise\u001b[39;00m \u001b[38;5;167;01mTypeError\u001b[39;00m(msg)\n",
      "\u001b[1;31mTypeError\u001b[0m: No matching definition for argument type(s) float64, reflected list(float64)<iv=None>, reflected list(float64)<iv=None>, int64"
     ]
    }
   ],
   "source": [
    "curve.print_table(payment_dt=Date(27,12,2024))"
   ]
  },
  {
   "cell_type": "code",
   "execution_count": 6,
   "metadata": {},
   "outputs": [
    {
     "data": {
      "text/plain": [
       "(Date(27,11,2024),\n",
       " Date(9,12,2024),\n",
       " Date(16,12,2024),\n",
       " Date(23,12,2024),\n",
       " Date(2,1,2025),\n",
       " Date(3,2,2025),\n",
       " Date(3,3,2025),\n",
       " Date(2,4,2025),\n",
       " Date(2,5,2025),\n",
       " Date(2,6,2025),\n",
       " Date(2,7,2025),\n",
       " Date(4,8,2025),\n",
       " Date(2,9,2025),\n",
       " Date(2,10,2025),\n",
       " Date(3,11,2025),\n",
       " Date(2,12,2025),\n",
       " Date(4,6,2026),\n",
       " Date(4,12,2026),\n",
       " Date(6,12,2027),\n",
       " Date(6,12,2028),\n",
       " Date(5,12,2029),\n",
       " Date(4,12,2030),\n",
       " Date(4,12,2031),\n",
       " Date(6,12,2032),\n",
       " Date(6,12,2033),\n",
       " Date(6,12,2034),\n",
       " Date(4,12,2036),\n",
       " Date(6,12,2039),\n",
       " Date(6,12,2044),\n",
       " Date(6,12,2049),\n",
       " Date(4,12,2054),\n",
       " Date(4,12,2064),\n",
       " Date(5,12,2074))"
      ]
     },
     "execution_count": 6,
     "metadata": {},
     "output_type": "execute_result"
    }
   ],
   "source": [
    "discount_curve.curve.dates()"
   ]
  },
  {
   "cell_type": "code",
   "execution_count": 7,
   "metadata": {},
   "outputs": [],
   "source": [
    "ccy = 'USD'\n",
    "index_name = 'SOFR'\n",
    "sch_calendar = ql.UnitedStates(ql.UnitedStates.FederalReserve)\n",
    "fixing_calendar = ql.Sofr().fixingCalendar()    \n",
    "payment_calendar = ql.UnitedStates(ql.UnitedStates.FederalReserve)\n",
    "date_generation_rule = ql.DateGeneration.Backward\n",
    "payment_delay = 0\n",
    "fixing_days = 0\n",
    "end_of_month = True\n",
    "is_ois_leg = True\n",
    "\n",
    "effective_date = ql.Date(19, 7, 2024)\n",
    "# maturity_date = sch_calendar.advance(effective_date, ql.Period('1Y'), sch_convention)\n",
    "maturity_date = ql.Date(18, 7, 2025)\n",
    "fixed_leg_pay_freq = '1Y'\n",
    "float_leg_pay_freq = '1Y'\n",
    "reset_freq = 'None'\n",
    "notional = 32061781.09\n",
    "fixed_rate = 0.05558\n",
    "multiplier = 1\n",
    "spread = 0\n",
    "fixed_leg_daycount = ql.Actual360()\n",
    "float_leg_daycount = ql.Actual360()\n",
    "fixed_leg_direction = 'pay'\n",
    "float_leg_direction = 'receive'"
   ]
  },
  {
   "cell_type": "code",
   "execution_count": 8,
   "metadata": {},
   "outputs": [],
   "source": [
    "inst = StandardFloatFixedIrs(\n",
    "    ccy, index_name, effective_date, maturity_date, fixed_leg_pay_freq, \n",
    "    float_leg_pay_freq, reset_freq, notional, fixed_rate, multiplier, spread, \n",
    "    fixed_leg_daycount, float_leg_daycount, payment_delay, fixing_days, \n",
    "    sch_calendar, fixing_calendar, payment_calendar, fixed_leg_direction, \n",
    "    float_leg_direction, date_generation_rule=date_generation_rule, \n",
    "    end_of_month=end_of_month, is_ois_leg=is_ois_leg)"
   ]
  },
  {
   "cell_type": "code",
   "execution_count": 9,
   "metadata": {},
   "outputs": [
    {
     "data": {
      "text/plain": [
       "array([Date(19,7,2024)], dtype=object)"
      ]
     },
     "execution_count": 9,
     "metadata": {},
     "output_type": "execute_result"
    }
   ],
   "source": [
    "inst.float_leg.start_dates"
   ]
  },
  {
   "cell_type": "code",
   "execution_count": 10,
   "metadata": {},
   "outputs": [
    {
     "data": {
      "text/plain": [
       "array([Date(18,7,2025)], dtype=object)"
      ]
     },
     "execution_count": 10,
     "metadata": {},
     "output_type": "execute_result"
    }
   ],
   "source": [
    "inst.float_leg.end_dates"
   ]
  },
  {
   "cell_type": "code",
   "execution_count": null,
   "metadata": {},
   "outputs": [
    {
     "data": {
      "text/plain": [
       "np.float64(0.04674658104292555)"
      ]
     },
     "execution_count": 11,
     "metadata": {},
     "output_type": "execute_result"
    }
   ],
   "source": [
    "get_ois_float_rate(index_curve, today, inst.float_leg.start_dates[0], inst.float_leg.end_dates[0], ql.Actual360(), spread)"
   ]
  },
  {
   "cell_type": "code",
   "execution_count": 12,
   "metadata": {},
   "outputs": [],
   "source": [
    "calendar = ql.UnitedStates(ql.UnitedStates.FederalReserve)"
   ]
  },
  {
   "cell_type": "code",
   "execution_count": 13,
   "metadata": {},
   "outputs": [],
   "source": [
    "last_reset_date = calendar.advance(inst.float_leg.end_dates[0], ql.Period('-1D'))"
   ]
  },
  {
   "cell_type": "code",
   "execution_count": 14,
   "metadata": {},
   "outputs": [],
   "source": [
    "last_fixing_date = get_real_fixing_date(index_curve, last_reset_date)"
   ]
  },
  {
   "cell_type": "code",
   "execution_count": 15,
   "metadata": {},
   "outputs": [
    {
     "data": {
      "text/plain": [
       "Date(27,11,2024)"
      ]
     },
     "execution_count": 15,
     "metadata": {},
     "output_type": "execute_result"
    }
   ],
   "source": [
    "today"
   ]
  },
  {
   "cell_type": "code",
   "execution_count": 16,
   "metadata": {},
   "outputs": [
    {
     "data": {
      "text/plain": [
       "Date(27,11,2024)"
      ]
     },
     "execution_count": 16,
     "metadata": {},
     "output_type": "execute_result"
    }
   ],
   "source": [
    "calendar.adjust(today, ql.Preceding)"
   ]
  },
  {
   "cell_type": "code",
   "execution_count": 17,
   "metadata": {},
   "outputs": [],
   "source": [
    "def get_forward_rate(index_curve, today, fixing_date, use_last_fixing=False, product_type='linear'):\n",
    "    if today < index_curve.today:\n",
    "        raise Exception('Valuation date should not be earlier than curve date!')\n",
    "    \n",
    "    try:\n",
    "        rate = index_curve.get_forward_rate(today, fixing_date)\n",
    "    except:\n",
    "        index = index_curve.index\n",
    "        curve= index_curve.curve\n",
    "        freq = index.tenor()\n",
    "        calendar = index.fixingCalendar()\n",
    "        daycount = index.dayCounter()\n",
    "        convention = index.businessDayConvention()\n",
    "        end_of_month = index.endOfMonth()\n",
    "        \n",
    "        # settlement_delay = 0 \n",
    "        settlement_delay = index.fixingDays()\n",
    "        default_compounding_method = ql.Simple\n",
    "        \n",
    "        real_fixing_date = get_real_fixing_date(index_curve, fixing_date, product_type=product_type)\n",
    "            \n",
    "        if real_fixing_date <= today:\n",
    "            if real_fixing_date <= index_curve.today:\n",
    "                # history fixing data exist\n",
    "                rate = index.fixing(real_fixing_date)\n",
    "            else:\n",
    "                # real_fixing_date > index_curve.today, so fixing data does not exist\n",
    "                if use_last_fixing:\n",
    "                    last_fixing_date = calendar.adjust(index_curve.today, ql.Preceding)\n",
    "                    rate = index.fixing(last_fixing_date)\n",
    "                else:\n",
    "                    real_date = calendar.advance(\n",
    "                        real_fixing_date, ql.Period(settlement_delay, ql.Days))\n",
    "                    real_end_date = calendar.advance(real_date, freq, convention, end_of_month)\n",
    "                    rate = curve.forwardRate(\n",
    "                        real_date, real_end_date, daycount, default_compounding_method).rate()\n",
    "        else:\n",
    "            real_date = calendar.advance(\n",
    "                real_fixing_date, ql.Period(settlement_delay, ql.Days))\n",
    "            real_end_date = calendar.advance(real_date, freq, convention, end_of_month)\n",
    "            rate = curve.forwardRate(\n",
    "                real_date, real_end_date, daycount, default_compounding_method).rate()\n",
    "                \n",
    "    # print(f'fixing date: {str(fixing_date.to_date())}, reset rate: {rate}')\n",
    "    \n",
    "    return rate"
   ]
  },
  {
   "cell_type": "code",
   "execution_count": 18,
   "metadata": {},
   "outputs": [],
   "source": [
    "def get_fixing_rates(index_curve, today, fixing_dates, use_last_fixing=False, product_type='linear'):\n",
    "    rate_list = []\n",
    "    for fixing_date in fixing_dates:\n",
    "        rate = get_forward_rate(index_curve, today, fixing_date, \n",
    "                                use_last_fixing=use_last_fixing, product_type=product_type)\n",
    "        rate_list.append(rate)\n",
    "    \n",
    "    return np.array(rate_list)"
   ]
  },
  {
   "cell_type": "code",
   "execution_count": 19,
   "metadata": {},
   "outputs": [],
   "source": [
    "fixed_dates = np.array([today])"
   ]
  },
  {
   "cell_type": "code",
   "execution_count": 20,
   "metadata": {},
   "outputs": [],
   "source": [
    "fixed_dates = np.array(\n",
    "    ql.Schedule(inst.float_leg.start_dates[0], today, ql.Period('1D'), \n",
    "                calendar, ql.Following, ql.Preceding, \n",
    "                ql.DateGeneration.Forward, False))"
   ]
  },
  {
   "cell_type": "code",
   "execution_count": 21,
   "metadata": {},
   "outputs": [],
   "source": [
    "fixed_rates = get_fixing_rates(index_curve, today, fixed_dates, use_last_fixing=False)"
   ]
  },
  {
   "cell_type": "code",
   "execution_count": 22,
   "metadata": {},
   "outputs": [
    {
     "data": {
      "text/plain": [
       "array([0.0534, 0.0533, 0.0534, 0.0534, 0.0535, 0.0535, 0.0533, 0.0533,\n",
       "       0.0538, 0.0535, 0.0535, 0.0532, 0.0533, 0.0533, 0.0534, 0.0534,\n",
       "       0.0534, 0.0534, 0.0533, 0.0535, 0.0532, 0.0532, 0.0532, 0.0531,\n",
       "       0.0531, 0.0533, 0.0534, 0.0535, 0.0535, 0.0533, 0.0532, 0.0534,\n",
       "       0.0535, 0.0535, 0.0534, 0.0534, 0.0533, 0.0532, 0.0533, 0.0533,\n",
       "       0.0538, 0.0538, 0.0533, 0.0482, 0.0483, 0.0483, 0.0484, 0.0484,\n",
       "       0.0483, 0.0484, 0.0496, 0.0505, 0.0492, 0.0485, 0.0483, 0.0483,\n",
       "       0.0484, 0.0483, 0.0482, 0.0481, 0.0486, 0.0486, 0.0485, 0.0484,\n",
       "       0.0482, 0.0483, 0.0483, 0.0483, 0.0483, 0.0482, 0.0482, 0.0481,\n",
       "       0.049 , 0.0486, 0.0482, 0.0482, 0.0481, 0.0482, 0.046 , 0.046 ,\n",
       "       0.0459, 0.0458, 0.0457, 0.0457, 0.0457, 0.0456, 0.0457, 0.0457,\n",
       "       0.0458, 0.0458, 0.0457])"
      ]
     },
     "execution_count": 22,
     "metadata": {},
     "output_type": "execute_result"
    }
   ],
   "source": [
    "fixed_rates"
   ]
  },
  {
   "cell_type": "code",
   "execution_count": 23,
   "metadata": {},
   "outputs": [],
   "source": [
    "next_reset_date = calendar.advance(today, ql.Period('1D'))\n",
    "future_forward_rate = index_curve.curve.forwardRate(\n",
    "    next_reset_date, inst.float_leg.end_dates[0], ql.Actual360(), ql.Simple).rate()\n",
    "rate_array = np.append(fixed_rates, future_forward_rate)\n",
    "reset_dates = np.append(fixed_dates, [next_reset_date, inst.float_leg.end_dates[0]])"
   ]
  },
  {
   "cell_type": "code",
   "execution_count": 24,
   "metadata": {},
   "outputs": [],
   "source": [
    "reset_period_dcf = np.array(\n",
    "            [ql.Actual360().yearFraction(reset_dates[i], reset_dates[i+1]) \n",
    "                for i in range(np.size(reset_dates) - 1)])\n",
    "float_rate = ((np.prod(rate_array * reset_period_dcf + 1) - 1)\n",
    "                / np.sum(reset_period_dcf))"
   ]
  },
  {
   "cell_type": "code",
   "execution_count": 25,
   "metadata": {},
   "outputs": [
    {
     "data": {
      "text/plain": [
       "array([0.00833333, 0.00277778, 0.00277778, 0.00277778, 0.00277778,\n",
       "       0.00833333, 0.00277778, 0.00277778, 0.00277778, 0.00277778,\n",
       "       0.00833333, 0.00277778, 0.00277778, 0.00277778, 0.00277778,\n",
       "       0.00833333, 0.00277778, 0.00277778, 0.00277778, 0.00277778,\n",
       "       0.00833333, 0.00277778, 0.00277778, 0.00277778, 0.00277778,\n",
       "       0.00833333, 0.00277778, 0.00277778, 0.00277778, 0.00277778,\n",
       "       0.01111111, 0.00277778, 0.00277778, 0.00277778, 0.00833333,\n",
       "       0.00277778, 0.00277778, 0.00277778, 0.00277778, 0.00833333,\n",
       "       0.00277778, 0.00277778, 0.00277778, 0.00277778, 0.00833333,\n",
       "       0.00277778, 0.00277778, 0.00277778, 0.00277778, 0.00833333,\n",
       "       0.00277778, 0.00277778, 0.00277778, 0.00277778, 0.00833333,\n",
       "       0.00277778, 0.00277778, 0.00277778, 0.00277778, 0.01111111,\n",
       "       0.00277778, 0.00277778, 0.00277778, 0.00833333, 0.00277778,\n",
       "       0.00277778, 0.00277778, 0.00277778, 0.00833333, 0.00277778,\n",
       "       0.00277778, 0.00277778, 0.00277778, 0.00833333, 0.00277778,\n",
       "       0.00277778, 0.00277778, 0.00277778, 0.01111111, 0.00277778,\n",
       "       0.00277778, 0.00277778, 0.00833333, 0.00277778, 0.00277778,\n",
       "       0.00277778, 0.00277778, 0.00833333, 0.00277778, 0.00277778,\n",
       "       0.00555556, 0.64166667])"
      ]
     },
     "execution_count": 25,
     "metadata": {},
     "output_type": "execute_result"
    }
   ],
   "source": [
    "reset_period_dcf"
   ]
  },
  {
   "cell_type": "code",
   "execution_count": 26,
   "metadata": {},
   "outputs": [
    {
     "data": {
      "text/plain": [
       "np.float64(0.04674658104292555)"
      ]
     },
     "execution_count": 26,
     "metadata": {},
     "output_type": "execute_result"
    }
   ],
   "source": [
    "float_rate"
   ]
  },
  {
   "cell_type": "code",
   "execution_count": 27,
   "metadata": {},
   "outputs": [],
   "source": [
    "cal = ql.UnitedStates(ql.UnitedStates.FederalReserve)"
   ]
  },
  {
   "cell_type": "code",
   "execution_count": 28,
   "metadata": {},
   "outputs": [
    {
     "data": {
      "text/plain": [
       "(Date(17,1,2028),\n",
       " Date(21,2,2028),\n",
       " Date(29,5,2028),\n",
       " Date(19,6,2028),\n",
       " Date(4,7,2028),\n",
       " Date(4,9,2028),\n",
       " Date(9,10,2028),\n",
       " Date(23,11,2028),\n",
       " Date(25,12,2028))"
      ]
     },
     "execution_count": 28,
     "metadata": {},
     "output_type": "execute_result"
    }
   ],
   "source": [
    "cal.holidayList(ql.Date(1,1,2028), ql.Date(31,12,2028))"
   ]
  },
  {
   "cell_type": "code",
   "execution_count": 29,
   "metadata": {},
   "outputs": [
    {
     "data": {
      "text/plain": [
       "False"
      ]
     },
     "execution_count": 29,
     "metadata": {},
     "output_type": "execute_result"
    }
   ],
   "source": [
    "cal.isHoliday(ql.Date(3,6,2026))"
   ]
  }
 ],
 "metadata": {
  "kernelspec": {
   "display_name": "vallib",
   "language": "python",
   "name": "python3"
  },
  "language_info": {
   "codemirror_mode": {
    "name": "ipython",
    "version": 3
   },
   "file_extension": ".py",
   "mimetype": "text/x-python",
   "name": "python",
   "nbconvert_exporter": "python",
   "pygments_lexer": "ipython3",
   "version": "3.13.1"
  }
 },
 "nbformat": 4,
 "nbformat_minor": 2
}
