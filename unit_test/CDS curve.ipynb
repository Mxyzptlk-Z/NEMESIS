{
 "cells": [
  {
   "cell_type": "code",
   "execution_count": 1,
   "metadata": {},
   "outputs": [
    {
     "name": "stdout",
     "output_type": "stream",
     "text": [
      "当前工作目录： c:\\Users\\zhaoxs3\\Documents\\GitHub\\NEMESIS\\unit_test\n",
      "切换后的目录： c:\\Users\\zhaoxs3\\Documents\\GitHub\\NEMESIS\n"
     ]
    }
   ],
   "source": [
    "import os\n",
    "\n",
    "# 获取当前工作目录\n",
    "current_dir = os.getcwd()\n",
    "print(\"当前工作目录：\", current_dir)\n",
    " \n",
    "# 切换到上一层目录\n",
    "parent_dir = os.path.dirname(current_dir)\n",
    "os.chdir(parent_dir)\n",
    "print(\"切换后的目录：\", parent_dir)"
   ]
  },
  {
   "cell_type": "code",
   "execution_count": 2,
   "metadata": {},
   "outputs": [],
   "source": [
    "import pandas as pd\n",
    "import QuantLib as ql\n",
    "from devlib.market.curves.overnight_index_curves import Sofr, Estr\n",
    "from devlib.market.curves.credit_curve_generator import MarketDataCreditCurve, CdsConfig\n",
    "from devlib.utils.ql_date_utils import ql_date_str\n",
    "from devlib.utils.cds_utils import calendar_5u"
   ]
  },
  {
   "cell_type": "code",
   "execution_count": 3,
   "metadata": {
    "execution": {
     "iopub.execute_input": "2024-04-30T20:01:42.491323Z",
     "iopub.status.busy": "2024-04-30T20:01:42.491323Z",
     "iopub.status.idle": "2024-04-30T20:01:44.773970Z",
     "shell.execute_reply": "2024-04-30T20:01:44.773970Z"
    }
   },
   "outputs": [
    {
     "name": "stdout",
     "output_type": "stream",
     "text": [
      "####################################################################\n",
      "#  NEMESIS ALPHA Version 0.1.0 - This build: 24 Jan 2025 at 10:42 #\n",
      "####################################################################\n",
      "\n"
     ]
    }
   ],
   "source": [
    "from nemesis.utils import *\n",
    "from nemesis.products.rates import *\n",
    "from nemesis.products.credit import *"
   ]
  },
  {
   "cell_type": "markdown",
   "metadata": {},
   "source": [
    "### Build QuantLib IR Curve"
   ]
  },
  {
   "cell_type": "code",
   "execution_count": 4,
   "metadata": {},
   "outputs": [],
   "source": [
    "today = ql.Date(1,11,2024)\n",
    "ql.Settings.instance().evaluationDate = today\n",
    "\n",
    "mkt_file_path = './unit_test/data/ICVS531_curve_data_20241101.xlsx'\n",
    "swap_mkt_data = pd.read_excel(mkt_file_path, sheet_name='swap')\n",
    "discount_curve = Sofr(today, swap_mkt_data=swap_mkt_data)\n",
    "\n",
    "value_dt = Date(1,11,2024)\n",
    "ois_curve = QLCurve(value_dt, discount_curve, dc_type=DayCountTypes.ACT_360, interp_type=InterpTypes.LINEAR_ZERO_RATES)"
   ]
  },
  {
   "cell_type": "markdown",
   "metadata": {},
   "source": [
    "### Build QuantLib Credit Curve"
   ]
  },
  {
   "cell_type": "code",
   "execution_count": 5,
   "metadata": {},
   "outputs": [],
   "source": [
    "entity = 'CHINAGOV'\n",
    "mkt_file_path = './unit_test/data/credit_curve_data_20241101.xlsx'\n",
    "cds_type = 'single_name'\n",
    "cds_data = pd.read_excel(mkt_file_path, sheet_name=cds_type)\n",
    "\n",
    "cds_config = CdsConfig(recovery_rate = 0.4,\n",
    "                        daycount = ql.Actual360(),\n",
    "                        calendar = calendar_5u())\n",
    "daycount = ql.Actual360()\n",
    "\n",
    "credit_curve = MarketDataCreditCurve(today, entity, cds_data, discount_curve, cds_type, cds_config, daycount)"
   ]
  },
  {
   "cell_type": "code",
   "execution_count": 6,
   "metadata": {},
   "outputs": [],
   "source": [
    "pillar = credit_curve.curve.hazard_rate_series\n",
    "dev_result = pd.DataFrame({\n",
    "    \"Date\": [pd.Timestamp(ql_date_str(d)) for d in pillar.index],\n",
    "    \"Hazard Rate\": pillar.values,\n",
    "    \"P(S)\": [credit_curve.curve.survival_probability(d) for d in pillar.index]\n",
    "})"
   ]
  },
  {
   "cell_type": "markdown",
   "metadata": {},
   "source": [
    "### Build Credit Curve"
   ]
  },
  {
   "cell_type": "code",
   "execution_count": 7,
   "metadata": {},
   "outputs": [],
   "source": [
    "cds_type = 'single_name'\n",
    "mkt_file_path = './unit_test/data/credit_curve_data_20241101.xlsx'\n",
    "cds_data = pd.read_excel(mkt_file_path, sheet_name=cds_type)\n",
    "\n",
    "effective_dt = value_dt\n",
    "settle_dt = effective_dt\n",
    "\n",
    "cdss = [GeneralCDS(settle_dt, c[\"Tenor\"], c[\"Spread\"]/10000, notional=1e7) for _, c in cds_data.iterrows()]\n",
    "recovery_rate = 0.40\n",
    "issuer_curve = GeneralCDSCurve(value_dt, cdss, ois_curve, recovery_rate)"
   ]
  },
  {
   "cell_type": "code",
   "execution_count": 8,
   "metadata": {},
   "outputs": [],
   "source": [
    "val_result = issuer_curve.print_table(formatted=False)"
   ]
  },
  {
   "cell_type": "code",
   "execution_count": 11,
   "metadata": {},
   "outputs": [
    {
     "data": {
      "text/html": [
       "<div>\n",
       "<style scoped>\n",
       "    .dataframe tbody tr th:only-of-type {\n",
       "        vertical-align: middle;\n",
       "    }\n",
       "\n",
       "    .dataframe tbody tr th {\n",
       "        vertical-align: top;\n",
       "    }\n",
       "\n",
       "    .dataframe thead th {\n",
       "        text-align: right;\n",
       "    }\n",
       "</style>\n",
       "<table border=\"1\" class=\"dataframe\">\n",
       "  <thead>\n",
       "    <tr style=\"text-align: right;\">\n",
       "      <th></th>\n",
       "      <th>Date</th>\n",
       "      <th>Hazard Rate</th>\n",
       "      <th>P(S)</th>\n",
       "    </tr>\n",
       "  </thead>\n",
       "  <tbody>\n",
       "    <tr>\n",
       "      <th>0</th>\n",
       "      <td>2024-11-01</td>\n",
       "      <td>0.000000</td>\n",
       "      <td>1.000000</td>\n",
       "    </tr>\n",
       "    <tr>\n",
       "      <th>1</th>\n",
       "      <td>2025-06-20</td>\n",
       "      <td>0.005024</td>\n",
       "      <td>0.996782</td>\n",
       "    </tr>\n",
       "    <tr>\n",
       "      <th>2</th>\n",
       "      <td>2025-12-20</td>\n",
       "      <td>0.006219</td>\n",
       "      <td>0.993635</td>\n",
       "    </tr>\n",
       "    <tr>\n",
       "      <th>3</th>\n",
       "      <td>2026-12-20</td>\n",
       "      <td>0.008439</td>\n",
       "      <td>0.985170</td>\n",
       "    </tr>\n",
       "    <tr>\n",
       "      <th>4</th>\n",
       "      <td>2027-12-20</td>\n",
       "      <td>0.011047</td>\n",
       "      <td>0.974198</td>\n",
       "    </tr>\n",
       "    <tr>\n",
       "      <th>5</th>\n",
       "      <td>2028-12-20</td>\n",
       "      <td>0.013606</td>\n",
       "      <td>0.960815</td>\n",
       "    </tr>\n",
       "    <tr>\n",
       "      <th>6</th>\n",
       "      <td>2029-12-20</td>\n",
       "      <td>0.018727</td>\n",
       "      <td>0.942743</td>\n",
       "    </tr>\n",
       "    <tr>\n",
       "      <th>7</th>\n",
       "      <td>2031-12-20</td>\n",
       "      <td>0.021589</td>\n",
       "      <td>0.902363</td>\n",
       "    </tr>\n",
       "    <tr>\n",
       "      <th>8</th>\n",
       "      <td>2034-12-20</td>\n",
       "      <td>0.023913</td>\n",
       "      <td>0.839004</td>\n",
       "    </tr>\n",
       "  </tbody>\n",
       "</table>\n",
       "</div>"
      ],
      "text/plain": [
       "         Date  Hazard Rate      P(S)\n",
       "0  2024-11-01     0.000000  1.000000\n",
       "1  2025-06-20     0.005024  0.996782\n",
       "2  2025-12-20     0.006219  0.993635\n",
       "3  2026-12-20     0.008439  0.985170\n",
       "4  2027-12-20     0.011047  0.974198\n",
       "5  2028-12-20     0.013606  0.960815\n",
       "6  2029-12-20     0.018727  0.942743\n",
       "7  2031-12-20     0.021589  0.902363\n",
       "8  2034-12-20     0.023913  0.839004"
      ]
     },
     "execution_count": 11,
     "metadata": {},
     "output_type": "execute_result"
    }
   ],
   "source": [
    "val_result"
   ]
  },
  {
   "cell_type": "code",
   "execution_count": 10,
   "metadata": {},
   "outputs": [
    {
     "data": {
      "text/html": [
       "<div>\n",
       "<style scoped>\n",
       "    .dataframe tbody tr th:only-of-type {\n",
       "        vertical-align: middle;\n",
       "    }\n",
       "\n",
       "    .dataframe tbody tr th {\n",
       "        vertical-align: top;\n",
       "    }\n",
       "\n",
       "    .dataframe thead th {\n",
       "        text-align: right;\n",
       "    }\n",
       "</style>\n",
       "<table border=\"1\" class=\"dataframe\">\n",
       "  <thead>\n",
       "    <tr style=\"text-align: right;\">\n",
       "      <th></th>\n",
       "      <th>Hazard Rate</th>\n",
       "      <th>P(S)</th>\n",
       "    </tr>\n",
       "    <tr>\n",
       "      <th>Date</th>\n",
       "      <th></th>\n",
       "      <th></th>\n",
       "    </tr>\n",
       "  </thead>\n",
       "  <tbody>\n",
       "    <tr>\n",
       "      <th>2025-06-20</th>\n",
       "      <td>-1.065033e-08</td>\n",
       "      <td>6.811965e-09</td>\n",
       "    </tr>\n",
       "    <tr>\n",
       "      <th>2025-12-20</th>\n",
       "      <td>1.654991e-08</td>\n",
       "      <td>-1.568862e-09</td>\n",
       "    </tr>\n",
       "    <tr>\n",
       "      <th>2026-12-20</th>\n",
       "      <td>-2.230312e-09</td>\n",
       "      <td>6.722578e-10</td>\n",
       "    </tr>\n",
       "    <tr>\n",
       "      <th>2027-12-20</th>\n",
       "      <td>-1.188632e-09</td>\n",
       "      <td>1.838815e-09</td>\n",
       "    </tr>\n",
       "    <tr>\n",
       "      <th>2028-12-20</th>\n",
       "      <td>7.894468e-10</td>\n",
       "      <td>1.042401e-09</td>\n",
       "    </tr>\n",
       "    <tr>\n",
       "      <th>2029-12-20</th>\n",
       "      <td>-2.837779e-08</td>\n",
       "      <td>2.814734e-08</td>\n",
       "    </tr>\n",
       "    <tr>\n",
       "      <th>2031-12-20</th>\n",
       "      <td>-3.973869e-09</td>\n",
       "      <td>3.421305e-08</td>\n",
       "    </tr>\n",
       "    <tr>\n",
       "      <th>2034-12-20</th>\n",
       "      <td>-7.658497e-09</td>\n",
       "      <td>5.137288e-08</td>\n",
       "    </tr>\n",
       "  </tbody>\n",
       "</table>\n",
       "</div>"
      ],
      "text/plain": [
       "             Hazard Rate          P(S)\n",
       "Date                                  \n",
       "2025-06-20 -1.065033e-08  6.811965e-09\n",
       "2025-12-20  1.654991e-08 -1.568862e-09\n",
       "2026-12-20 -2.230312e-09  6.722578e-10\n",
       "2027-12-20 -1.188632e-09  1.838815e-09\n",
       "2028-12-20  7.894468e-10  1.042401e-09\n",
       "2029-12-20 -2.837779e-08  2.814734e-08\n",
       "2031-12-20 -3.973869e-09  3.421305e-08\n",
       "2034-12-20 -7.658497e-09  5.137288e-08"
      ]
     },
     "execution_count": 10,
     "metadata": {},
     "output_type": "execute_result"
    }
   ],
   "source": [
    "val_result.iloc[1:].set_index(\"Date\") - dev_result.set_index(\"Date\")"
   ]
  }
 ],
 "metadata": {
  "kernelspec": {
   "display_name": "vallib",
   "language": "python",
   "name": "python3"
  },
  "language_info": {
   "codemirror_mode": {
    "name": "ipython",
    "version": 3
   },
   "file_extension": ".py",
   "mimetype": "text/x-python",
   "name": "python",
   "nbconvert_exporter": "python",
   "pygments_lexer": "ipython3",
   "version": "3.13.1"
  }
 },
 "nbformat": 4,
 "nbformat_minor": 2
}
