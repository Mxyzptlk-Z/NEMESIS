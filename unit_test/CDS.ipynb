{
 "cells": [
  {
   "cell_type": "markdown",
   "metadata": {},
   "source": [
    "# Creating and Valuing a CDS Contract"
   ]
  },
  {
   "cell_type": "code",
   "execution_count": 1,
   "metadata": {},
   "outputs": [],
   "source": [
    "import pandas as pd\n",
    "import QuantLib as ql\n",
    "from devlib.market.curves.overnight_index_curves import Sofr"
   ]
  },
  {
   "cell_type": "code",
   "execution_count": 2,
   "metadata": {
    "execution": {
     "iopub.execute_input": "2024-04-30T20:01:42.491323Z",
     "iopub.status.busy": "2024-04-30T20:01:42.491323Z",
     "iopub.status.idle": "2024-04-30T20:01:44.773970Z",
     "shell.execute_reply": "2024-04-30T20:01:44.773970Z"
    }
   },
   "outputs": [
    {
     "name": "stdout",
     "output_type": "stream",
     "text": [
      "####################################################################\n",
      "#  NEMESIS ALPHA Version 0.1.0 - This build: 24 Jan 2025 at 10:42 #\n",
      "####################################################################\n",
      "\n"
     ]
    }
   ],
   "source": [
    "from nemesis.utils import *\n",
    "from nemesis.products.rates import *\n",
    "from nemesis.products.credit import *"
   ]
  },
  {
   "cell_type": "markdown",
   "metadata": {},
   "source": [
    "## Build IR Curve"
   ]
  },
  {
   "cell_type": "code",
   "execution_count": 3,
   "metadata": {},
   "outputs": [],
   "source": [
    "today = ql.Date(1,11,2024)\n",
    "ql.Settings.instance().evaluationDate = today\n",
    "\n",
    "mkt_file_path = './data/ICVS531_curve_data_20241101.xlsx'\n",
    "swap_mkt_data = pd.read_excel(mkt_file_path, sheet_name='swap')\n",
    "discount_curve = Sofr(today, swap_mkt_data=swap_mkt_data)"
   ]
  },
  {
   "cell_type": "code",
   "execution_count": 4,
   "metadata": {},
   "outputs": [],
   "source": [
    "value_dt = Date(1,11,2024)\n",
    "ois_curve = QLCurve(value_dt, discount_curve, dc_type=DayCountTypes.ACT_360, interp_type=InterpTypes.LINEAR_ZERO_RATES)"
   ]
  },
  {
   "cell_type": "markdown",
   "metadata": {},
   "source": [
    "# Build CDS Curve"
   ]
  },
  {
   "cell_type": "code",
   "execution_count": 5,
   "metadata": {
    "execution": {
     "iopub.execute_input": "2024-04-30T20:01:44.776997Z",
     "iopub.status.busy": "2024-04-30T20:01:44.776000Z",
     "iopub.status.idle": "2024-04-30T20:01:44.796899Z",
     "shell.execute_reply": "2024-04-30T20:01:44.796899Z"
    }
   },
   "outputs": [],
   "source": [
    "effective_dt = value_dt\n",
    "settle_dt = effective_dt"
   ]
  },
  {
   "cell_type": "code",
   "execution_count": 6,
   "metadata": {},
   "outputs": [],
   "source": [
    "cds_type = 'single_name'\n",
    "mkt_file_path = './data/credit_curve_data_20241101.xlsx'\n",
    "cds_data = pd.read_excel(mkt_file_path, sheet_name=cds_type)"
   ]
  },
  {
   "cell_type": "code",
   "execution_count": 7,
   "metadata": {
    "execution": {
     "iopub.execute_input": "2024-04-30T20:01:44.883148Z",
     "iopub.status.busy": "2024-04-30T20:01:44.883148Z",
     "iopub.status.idle": "2024-04-30T20:01:44.886030Z",
     "shell.execute_reply": "2024-04-30T20:01:44.886030Z"
    }
   },
   "outputs": [],
   "source": [
    "cdss = [CDS(settle_dt, c[\"Tenor\"], c[\"Spread\"]/10000) for _, c in cds_data.iterrows()]"
   ]
  },
  {
   "cell_type": "code",
   "execution_count": 8,
   "metadata": {
    "execution": {
     "iopub.execute_input": "2024-04-30T20:01:44.889029Z",
     "iopub.status.busy": "2024-04-30T20:01:44.888060Z",
     "iopub.status.idle": "2024-04-30T20:01:44.891594Z",
     "shell.execute_reply": "2024-04-30T20:01:44.891594Z"
    }
   },
   "outputs": [],
   "source": [
    "recovery_rate = 0.40"
   ]
  },
  {
   "cell_type": "code",
   "execution_count": 9,
   "metadata": {
    "execution": {
     "iopub.execute_input": "2024-04-30T20:01:44.893626Z",
     "iopub.status.busy": "2024-04-30T20:01:44.893626Z",
     "iopub.status.idle": "2024-04-30T20:01:44.900083Z",
     "shell.execute_reply": "2024-04-30T20:01:44.900083Z"
    }
   },
   "outputs": [],
   "source": [
    "issuer_curve = CDSCurve(value_dt, cdss, ois_curve, recovery_rate)"
   ]
  },
  {
   "cell_type": "code",
   "execution_count": 10,
   "metadata": {
    "execution": {
     "iopub.execute_input": "2024-04-30T20:01:44.902674Z",
     "iopub.status.busy": "2024-04-30T20:01:44.901637Z",
     "iopub.status.idle": "2024-04-30T20:01:44.905682Z",
     "shell.execute_reply": "2024-04-30T20:01:44.905682Z"
    }
   },
   "outputs": [
    {
     "name": "stdout",
     "output_type": "stream",
     "text": [
      "OBJECT TYPE: CDSCurve\n",
      "TIME,SURVIVAL_PROBABILITY\n",
      " 0.0000000,  1.0000000\n",
      " 0.6328767,  0.9967851\n",
      " 1.1342466,  0.9936395\n",
      " 2.1342466,  0.9851764\n",
      " 3.1342466,  0.9742045\n",
      " 4.1369863,  0.9608220\n",
      " 5.1369863,  0.9427504\n",
      " 7.1369863,  0.9023666\n",
      "10.1397260,  0.8389955\n"
     ]
    }
   ],
   "source": [
    "print(issuer_curve)"
   ]
  },
  {
   "cell_type": "markdown",
   "metadata": {},
   "source": [
    "# Valuation"
   ]
  },
  {
   "cell_type": "code",
   "execution_count": 26,
   "metadata": {},
   "outputs": [],
   "source": [
    "cds_contract = CDS(\n",
    "    step_in_dt=value_dt,\n",
    "    maturity_dt_or_tenor=\"10Y\",\n",
    "    running_cpn=0.05,\n",
    "    notional=1e7,\n",
    "    long_protect=True,\n",
    "    freq_type=FrequencyTypes.QUARTERLY,\n",
    "    dc_type=DayCountTypes.ACT_360,\n",
    "    cal_type=CalendarTypes.CHINA,\n",
    "    bd_type=BusDayAdjustTypes.FOLLOWING,\n",
    "    dg_type=DateGenRuleTypes.BACKWARD\n",
    ")"
   ]
  },
  {
   "cell_type": "code",
   "execution_count": 42,
   "metadata": {},
   "outputs": [
    {
     "data": {
      "text/plain": [
       "[19-DEC-2024,\n",
       " 19-MAR-2025,\n",
       " 19-JUN-2025,\n",
       " 21-SEP-2025,\n",
       " 21-DEC-2025,\n",
       " 19-MAR-2026,\n",
       " 21-JUN-2026,\n",
       " 20-SEP-2026,\n",
       " 20-DEC-2026,\n",
       " 21-MAR-2027,\n",
       " 20-JUN-2027,\n",
       " 19-SEP-2027,\n",
       " 19-DEC-2027,\n",
       " 19-MAR-2028,\n",
       " 19-JUN-2028,\n",
       " 19-SEP-2028,\n",
       " 19-DEC-2028,\n",
       " 19-MAR-2029,\n",
       " 19-JUN-2029,\n",
       " 19-SEP-2029,\n",
       " 19-DEC-2029,\n",
       " 19-MAR-2030,\n",
       " 19-JUN-2030,\n",
       " 19-SEP-2030,\n",
       " 19-DEC-2030,\n",
       " 19-MAR-2031,\n",
       " 19-JUN-2031,\n",
       " 21-SEP-2031,\n",
       " 21-DEC-2031,\n",
       " 21-MAR-2032,\n",
       " 20-JUN-2032,\n",
       " 19-SEP-2032,\n",
       " 19-DEC-2032,\n",
       " 20-MAR-2033,\n",
       " 19-JUN-2033,\n",
       " 19-SEP-2033,\n",
       " 19-DEC-2033,\n",
       " 19-MAR-2034,\n",
       " 19-JUN-2034,\n",
       " 19-SEP-2034,\n",
       " 20-DEC-2034]"
      ]
     },
     "execution_count": 42,
     "metadata": {},
     "output_type": "execute_result"
    }
   ],
   "source": [
    "cds_contract.accrual_end_dts"
   ]
  },
  {
   "cell_type": "code",
   "execution_count": 29,
   "metadata": {
    "execution": {
     "iopub.execute_input": "2024-04-30T20:01:44.907711Z",
     "iopub.status.busy": "2024-04-30T20:01:44.907711Z",
     "iopub.status.idle": "2024-04-30T20:01:44.911034Z",
     "shell.execute_reply": "2024-04-30T20:01:44.911034Z"
    }
   },
   "outputs": [
    {
     "name": "stdout",
     "output_type": "stream",
     "text": [
      "FAIR CDS SPREAD   96.75997 bp\n"
     ]
    }
   ],
   "source": [
    "spd = cds_contract.par_spread(settle_dt, issuer_curve, recovery_rate) * 10000.0\n",
    "print(\"FAIR CDS SPREAD %10.5f bp\"% spd)"
   ]
  },
  {
   "cell_type": "code",
   "execution_count": 30,
   "metadata": {
    "execution": {
     "iopub.execute_input": "2024-04-30T20:01:44.913636Z",
     "iopub.status.busy": "2024-04-30T20:01:44.912596Z",
     "iopub.status.idle": "2024-04-30T20:01:44.916285Z",
     "shell.execute_reply": "2024-04-30T20:01:44.916056Z"
    }
   },
   "outputs": [],
   "source": [
    "v = cds_contract.value(settle_dt, issuer_curve, recovery_rate)"
   ]
  },
  {
   "cell_type": "code",
   "execution_count": 31,
   "metadata": {
    "execution": {
     "iopub.execute_input": "2024-04-30T20:01:44.917791Z",
     "iopub.status.busy": "2024-04-30T20:01:44.917791Z",
     "iopub.status.idle": "2024-04-30T20:01:44.920976Z",
     "shell.execute_reply": "2024-04-30T20:01:44.920976Z"
    }
   },
   "outputs": [],
   "source": [
    "dirty_pv = v['dirty_pv'] \n",
    "clean_pv = v['clean_pv']"
   ]
  },
  {
   "cell_type": "code",
   "execution_count": 32,
   "metadata": {
    "execution": {
     "iopub.execute_input": "2024-04-30T20:01:44.923635Z",
     "iopub.status.busy": "2024-04-30T20:01:44.923635Z",
     "iopub.status.idle": "2024-04-30T20:01:44.926693Z",
     "shell.execute_reply": "2024-04-30T20:01:44.926693Z"
    }
   },
   "outputs": [
    {
     "name": "stdout",
     "output_type": "stream",
     "text": [
      "DIRTY VALUE  -3281419.76\n",
      "CLEAN VALUE  -3223086.42\n"
     ]
    }
   ],
   "source": [
    "print(\"DIRTY VALUE %12.2f\"% dirty_pv)\n",
    "print(\"CLEAN VALUE %12.2f\"% clean_pv)"
   ]
  },
  {
   "cell_type": "code",
   "execution_count": 33,
   "metadata": {
    "execution": {
     "iopub.execute_input": "2024-04-30T20:01:44.928722Z",
     "iopub.status.busy": "2024-04-30T20:01:44.928722Z",
     "iopub.status.idle": "2024-04-30T20:01:44.932814Z",
     "shell.execute_reply": "2024-04-30T20:01:44.932164Z"
    }
   },
   "outputs": [
    {
     "name": "stdout",
     "output_type": "stream",
     "text": [
      "CLEAN PRICE   132.230864\n"
     ]
    }
   ],
   "source": [
    "cleanp = cds_contract.clean_price(settle_dt, issuer_curve, recovery_rate)\n",
    "print(\"CLEAN PRICE %12.6f\"% cleanp)"
   ]
  },
  {
   "cell_type": "code",
   "execution_count": 34,
   "metadata": {
    "execution": {
     "iopub.execute_input": "2024-04-30T20:01:44.934812Z",
     "iopub.status.busy": "2024-04-30T20:01:44.934812Z",
     "iopub.status.idle": "2024-04-30T20:01:44.937552Z",
     "shell.execute_reply": "2024-04-30T20:01:44.937552Z"
    }
   },
   "outputs": [
    {
     "name": "stdout",
     "output_type": "stream",
     "text": [
      "ACCRUED_DAYS 42.0\n"
     ]
    }
   ],
   "source": [
    "accrued_days = cds_contract.accrued_days()\n",
    "print(\"ACCRUED_DAYS\", accrued_days)"
   ]
  },
  {
   "cell_type": "code",
   "execution_count": 35,
   "metadata": {
    "execution": {
     "iopub.execute_input": "2024-04-30T20:01:44.939583Z",
     "iopub.status.busy": "2024-04-30T20:01:44.939583Z",
     "iopub.status.idle": "2024-04-30T20:01:44.943322Z",
     "shell.execute_reply": "2024-04-30T20:01:44.943090Z"
    }
   },
   "outputs": [
    {
     "name": "stdout",
     "output_type": "stream",
     "text": [
      "ACCRUED_COUPON -58333.33333333334\n"
     ]
    }
   ],
   "source": [
    "accrued_interest = cds_contract.accrued_interest()\n",
    "print(\"ACCRUED_COUPON\", accrued_interest)"
   ]
  },
  {
   "cell_type": "code",
   "execution_count": 36,
   "metadata": {
    "execution": {
     "iopub.execute_input": "2024-04-30T20:01:44.945321Z",
     "iopub.status.busy": "2024-04-30T20:01:44.945321Z",
     "iopub.status.idle": "2024-04-30T20:01:44.948581Z",
     "shell.execute_reply": "2024-04-30T20:01:44.948581Z"
    }
   },
   "outputs": [
    {
     "name": "stdout",
     "output_type": "stream",
     "text": [
      "prot_PV 773399.7261430764\n"
     ]
    }
   ],
   "source": [
    "prot_pv = cds_contract.prot_leg_pv(settle_dt, issuer_curve, recovery_rate)\n",
    "print(\"prot_PV\", prot_pv)"
   ]
  },
  {
   "cell_type": "code",
   "execution_count": 37,
   "metadata": {
    "execution": {
     "iopub.execute_input": "2024-04-30T20:01:44.950611Z",
     "iopub.status.busy": "2024-04-30T20:01:44.950611Z",
     "iopub.status.idle": "2024-04-30T20:01:44.954292Z",
     "shell.execute_reply": "2024-04-30T20:01:44.954292Z"
    }
   },
   "outputs": [
    {
     "name": "stdout",
     "output_type": "stream",
     "text": [
      "PREMIUM_PV 4054819.4817989925\n"
     ]
    }
   ],
   "source": [
    "premPV = cds_contract.premium_leg_pv(settle_dt, issuer_curve, recovery_rate)\n",
    "print(\"PREMIUM_PV\", premPV)"
   ]
  },
  {
   "cell_type": "code",
   "execution_count": 38,
   "metadata": {
    "execution": {
     "iopub.execute_input": "2024-04-30T20:01:44.956292Z",
     "iopub.status.busy": "2024-04-30T20:01:44.956292Z",
     "iopub.status.idle": "2024-04-30T20:01:44.960117Z",
     "shell.execute_reply": "2024-04-30T20:01:44.960117Z"
    }
   },
   "outputs": [
    {
     "name": "stdout",
     "output_type": "stream",
     "text": [
      "DIRTY_RPV01 8.109638963597984\n",
      "CLEAN_RPV01 7.992972296931318\n"
     ]
    }
   ],
   "source": [
    "rpv01 = cds_contract.risky_pv01(settle_dt, issuer_curve)\n",
    "print(\"DIRTY_RPV01\", rpv01['dirty_rpv01'])\n",
    "print(\"CLEAN_RPV01\", rpv01['clean_rpv01'])"
   ]
  },
  {
   "cell_type": "code",
   "execution_count": 39,
   "metadata": {
    "execution": {
     "iopub.execute_input": "2024-04-30T20:01:44.962145Z",
     "iopub.status.busy": "2024-04-30T20:01:44.962145Z",
     "iopub.status.idle": "2024-04-30T20:01:44.968207Z",
     "shell.execute_reply": "2024-04-30T20:01:44.968207Z"
    }
   },
   "outputs": [
    {
     "data": {
      "text/plain": [
       "{'dirty_rpv01': np.float64(8.109638963597984),\n",
       " 'clean_rpv01': np.float64(7.992972296931318)}"
      ]
     },
     "execution_count": 39,
     "metadata": {},
     "output_type": "execute_result"
    }
   ],
   "source": [
    "cds_contract.risky_pv01(settle_dt, issuer_curve)"
   ]
  },
  {
   "cell_type": "markdown",
   "metadata": {},
   "source": [
    "## Risk Measures"
   ]
  },
  {
   "cell_type": "code",
   "execution_count": 40,
   "metadata": {
    "execution": {
     "iopub.execute_input": "2024-04-30T20:01:44.971234Z",
     "iopub.status.busy": "2024-04-30T20:01:44.970238Z",
     "iopub.status.idle": "2024-04-30T20:01:44.990331Z",
     "shell.execute_reply": "2024-04-30T20:01:44.990041Z"
    }
   },
   "outputs": [
    {
     "ename": "TypeError",
     "evalue": "cannot pickle 'SwigPyObject' object",
     "output_type": "error",
     "traceback": [
      "\u001b[1;31m---------------------------------------------------------------------------\u001b[0m",
      "\u001b[1;31mTypeError\u001b[0m                                 Traceback (most recent call last)",
      "Cell \u001b[1;32mIn[40], line 1\u001b[0m\n\u001b[1;32m----> 1\u001b[0m credit_dv01 \u001b[38;5;241m=\u001b[39m \u001b[43mcds_contract\u001b[49m\u001b[38;5;241;43m.\u001b[39;49m\u001b[43mcredit_dv01\u001b[49m\u001b[43m(\u001b[49m\u001b[43msettle_dt\u001b[49m\u001b[43m,\u001b[49m\u001b[43m \u001b[49m\u001b[43missuer_curve\u001b[49m\u001b[43m,\u001b[49m\u001b[43m \u001b[49m\u001b[43mrecovery_rate\u001b[49m\u001b[43m)\u001b[49m\n",
      "File \u001b[1;32m~\\Documents\\GitHub\\NEMESIS\\nemesis\\products\\credit\\cds.py:463\u001b[0m, in \u001b[0;36mCDS.credit_dv01\u001b[1;34m(self, value_dt, issuer_curve, contract_recovery_rate, pv01_method, prot_method, num_steps_per_year)\u001b[0m\n\u001b[0;32m    460\u001b[0m bump \u001b[38;5;241m=\u001b[39m \u001b[38;5;241m0.0001\u001b[39m  \u001b[38;5;66;03m# 1 basis point\u001b[39;00m\n\u001b[0;32m    462\u001b[0m \u001b[38;5;66;03m# we create a deep copy to avoid state issues\u001b[39;00m\n\u001b[1;32m--> 463\u001b[0m bumpedIssuerCurve \u001b[38;5;241m=\u001b[39m \u001b[43mdeepcopy\u001b[49m\u001b[43m(\u001b[49m\u001b[43missuer_curve\u001b[49m\u001b[43m)\u001b[49m\n\u001b[0;32m    464\u001b[0m \u001b[38;5;28;01mfor\u001b[39;00m cds \u001b[38;5;129;01min\u001b[39;00m bumpedIssuerCurve\u001b[38;5;241m.\u001b[39mcds_contracts:\n\u001b[0;32m    465\u001b[0m     cds\u001b[38;5;241m.\u001b[39mrunning_cpn \u001b[38;5;241m+\u001b[39m\u001b[38;5;241m=\u001b[39m bump\n",
      "File \u001b[1;32mc:\\Users\\zhaoxs3\\AppData\\Local\\miniforge3\\envs\\vallib\\Lib\\copy.py:163\u001b[0m, in \u001b[0;36mdeepcopy\u001b[1;34m(x, memo, _nil)\u001b[0m\n\u001b[0;32m    161\u001b[0m                 y \u001b[38;5;241m=\u001b[39m x\n\u001b[0;32m    162\u001b[0m             \u001b[38;5;28;01melse\u001b[39;00m:\n\u001b[1;32m--> 163\u001b[0m                 y \u001b[38;5;241m=\u001b[39m \u001b[43m_reconstruct\u001b[49m\u001b[43m(\u001b[49m\u001b[43mx\u001b[49m\u001b[43m,\u001b[49m\u001b[43m \u001b[49m\u001b[43mmemo\u001b[49m\u001b[43m,\u001b[49m\u001b[43m \u001b[49m\u001b[38;5;241;43m*\u001b[39;49m\u001b[43mrv\u001b[49m\u001b[43m)\u001b[49m\n\u001b[0;32m    165\u001b[0m \u001b[38;5;66;03m# If is its own copy, don't memoize.\u001b[39;00m\n\u001b[0;32m    166\u001b[0m \u001b[38;5;28;01mif\u001b[39;00m y \u001b[38;5;129;01mis\u001b[39;00m \u001b[38;5;129;01mnot\u001b[39;00m x:\n",
      "File \u001b[1;32mc:\\Users\\zhaoxs3\\AppData\\Local\\miniforge3\\envs\\vallib\\Lib\\copy.py:260\u001b[0m, in \u001b[0;36m_reconstruct\u001b[1;34m(x, memo, func, args, state, listiter, dictiter, deepcopy)\u001b[0m\n\u001b[0;32m    258\u001b[0m \u001b[38;5;28;01mif\u001b[39;00m state \u001b[38;5;129;01mis\u001b[39;00m \u001b[38;5;129;01mnot\u001b[39;00m \u001b[38;5;28;01mNone\u001b[39;00m:\n\u001b[0;32m    259\u001b[0m     \u001b[38;5;28;01mif\u001b[39;00m deep:\n\u001b[1;32m--> 260\u001b[0m         state \u001b[38;5;241m=\u001b[39m \u001b[43mdeepcopy\u001b[49m\u001b[43m(\u001b[49m\u001b[43mstate\u001b[49m\u001b[43m,\u001b[49m\u001b[43m \u001b[49m\u001b[43mmemo\u001b[49m\u001b[43m)\u001b[49m\n\u001b[0;32m    261\u001b[0m     \u001b[38;5;28;01mif\u001b[39;00m \u001b[38;5;28mhasattr\u001b[39m(y, \u001b[38;5;124m'\u001b[39m\u001b[38;5;124m__setstate__\u001b[39m\u001b[38;5;124m'\u001b[39m):\n\u001b[0;32m    262\u001b[0m         y\u001b[38;5;241m.\u001b[39m__setstate__(state)\n",
      "File \u001b[1;32mc:\\Users\\zhaoxs3\\AppData\\Local\\miniforge3\\envs\\vallib\\Lib\\copy.py:137\u001b[0m, in \u001b[0;36mdeepcopy\u001b[1;34m(x, memo, _nil)\u001b[0m\n\u001b[0;32m    135\u001b[0m copier \u001b[38;5;241m=\u001b[39m _deepcopy_dispatch\u001b[38;5;241m.\u001b[39mget(\u001b[38;5;28mcls\u001b[39m)\n\u001b[0;32m    136\u001b[0m \u001b[38;5;28;01mif\u001b[39;00m copier \u001b[38;5;129;01mis\u001b[39;00m \u001b[38;5;129;01mnot\u001b[39;00m \u001b[38;5;28;01mNone\u001b[39;00m:\n\u001b[1;32m--> 137\u001b[0m     y \u001b[38;5;241m=\u001b[39m \u001b[43mcopier\u001b[49m\u001b[43m(\u001b[49m\u001b[43mx\u001b[49m\u001b[43m,\u001b[49m\u001b[43m \u001b[49m\u001b[43mmemo\u001b[49m\u001b[43m)\u001b[49m\n\u001b[0;32m    138\u001b[0m \u001b[38;5;28;01melse\u001b[39;00m:\n\u001b[0;32m    139\u001b[0m     \u001b[38;5;28;01mif\u001b[39;00m \u001b[38;5;28missubclass\u001b[39m(\u001b[38;5;28mcls\u001b[39m, \u001b[38;5;28mtype\u001b[39m):\n",
      "File \u001b[1;32mc:\\Users\\zhaoxs3\\AppData\\Local\\miniforge3\\envs\\vallib\\Lib\\copy.py:222\u001b[0m, in \u001b[0;36m_deepcopy_dict\u001b[1;34m(x, memo, deepcopy)\u001b[0m\n\u001b[0;32m    220\u001b[0m memo[\u001b[38;5;28mid\u001b[39m(x)] \u001b[38;5;241m=\u001b[39m y\n\u001b[0;32m    221\u001b[0m \u001b[38;5;28;01mfor\u001b[39;00m key, value \u001b[38;5;129;01min\u001b[39;00m x\u001b[38;5;241m.\u001b[39mitems():\n\u001b[1;32m--> 222\u001b[0m     y[deepcopy(key, memo)] \u001b[38;5;241m=\u001b[39m \u001b[43mdeepcopy\u001b[49m\u001b[43m(\u001b[49m\u001b[43mvalue\u001b[49m\u001b[43m,\u001b[49m\u001b[43m \u001b[49m\u001b[43mmemo\u001b[49m\u001b[43m)\u001b[49m\n\u001b[0;32m    223\u001b[0m \u001b[38;5;28;01mreturn\u001b[39;00m y\n",
      "File \u001b[1;32mc:\\Users\\zhaoxs3\\AppData\\Local\\miniforge3\\envs\\vallib\\Lib\\copy.py:163\u001b[0m, in \u001b[0;36mdeepcopy\u001b[1;34m(x, memo, _nil)\u001b[0m\n\u001b[0;32m    161\u001b[0m                 y \u001b[38;5;241m=\u001b[39m x\n\u001b[0;32m    162\u001b[0m             \u001b[38;5;28;01melse\u001b[39;00m:\n\u001b[1;32m--> 163\u001b[0m                 y \u001b[38;5;241m=\u001b[39m \u001b[43m_reconstruct\u001b[49m\u001b[43m(\u001b[49m\u001b[43mx\u001b[49m\u001b[43m,\u001b[49m\u001b[43m \u001b[49m\u001b[43mmemo\u001b[49m\u001b[43m,\u001b[49m\u001b[43m \u001b[49m\u001b[38;5;241;43m*\u001b[39;49m\u001b[43mrv\u001b[49m\u001b[43m)\u001b[49m\n\u001b[0;32m    165\u001b[0m \u001b[38;5;66;03m# If is its own copy, don't memoize.\u001b[39;00m\n\u001b[0;32m    166\u001b[0m \u001b[38;5;28;01mif\u001b[39;00m y \u001b[38;5;129;01mis\u001b[39;00m \u001b[38;5;129;01mnot\u001b[39;00m x:\n",
      "File \u001b[1;32mc:\\Users\\zhaoxs3\\AppData\\Local\\miniforge3\\envs\\vallib\\Lib\\copy.py:260\u001b[0m, in \u001b[0;36m_reconstruct\u001b[1;34m(x, memo, func, args, state, listiter, dictiter, deepcopy)\u001b[0m\n\u001b[0;32m    258\u001b[0m \u001b[38;5;28;01mif\u001b[39;00m state \u001b[38;5;129;01mis\u001b[39;00m \u001b[38;5;129;01mnot\u001b[39;00m \u001b[38;5;28;01mNone\u001b[39;00m:\n\u001b[0;32m    259\u001b[0m     \u001b[38;5;28;01mif\u001b[39;00m deep:\n\u001b[1;32m--> 260\u001b[0m         state \u001b[38;5;241m=\u001b[39m \u001b[43mdeepcopy\u001b[49m\u001b[43m(\u001b[49m\u001b[43mstate\u001b[49m\u001b[43m,\u001b[49m\u001b[43m \u001b[49m\u001b[43mmemo\u001b[49m\u001b[43m)\u001b[49m\n\u001b[0;32m    261\u001b[0m     \u001b[38;5;28;01mif\u001b[39;00m \u001b[38;5;28mhasattr\u001b[39m(y, \u001b[38;5;124m'\u001b[39m\u001b[38;5;124m__setstate__\u001b[39m\u001b[38;5;124m'\u001b[39m):\n\u001b[0;32m    262\u001b[0m         y\u001b[38;5;241m.\u001b[39m__setstate__(state)\n",
      "File \u001b[1;32mc:\\Users\\zhaoxs3\\AppData\\Local\\miniforge3\\envs\\vallib\\Lib\\copy.py:137\u001b[0m, in \u001b[0;36mdeepcopy\u001b[1;34m(x, memo, _nil)\u001b[0m\n\u001b[0;32m    135\u001b[0m copier \u001b[38;5;241m=\u001b[39m _deepcopy_dispatch\u001b[38;5;241m.\u001b[39mget(\u001b[38;5;28mcls\u001b[39m)\n\u001b[0;32m    136\u001b[0m \u001b[38;5;28;01mif\u001b[39;00m copier \u001b[38;5;129;01mis\u001b[39;00m \u001b[38;5;129;01mnot\u001b[39;00m \u001b[38;5;28;01mNone\u001b[39;00m:\n\u001b[1;32m--> 137\u001b[0m     y \u001b[38;5;241m=\u001b[39m \u001b[43mcopier\u001b[49m\u001b[43m(\u001b[49m\u001b[43mx\u001b[49m\u001b[43m,\u001b[49m\u001b[43m \u001b[49m\u001b[43mmemo\u001b[49m\u001b[43m)\u001b[49m\n\u001b[0;32m    138\u001b[0m \u001b[38;5;28;01melse\u001b[39;00m:\n\u001b[0;32m    139\u001b[0m     \u001b[38;5;28;01mif\u001b[39;00m \u001b[38;5;28missubclass\u001b[39m(\u001b[38;5;28mcls\u001b[39m, \u001b[38;5;28mtype\u001b[39m):\n",
      "File \u001b[1;32mc:\\Users\\zhaoxs3\\AppData\\Local\\miniforge3\\envs\\vallib\\Lib\\copy.py:222\u001b[0m, in \u001b[0;36m_deepcopy_dict\u001b[1;34m(x, memo, deepcopy)\u001b[0m\n\u001b[0;32m    220\u001b[0m memo[\u001b[38;5;28mid\u001b[39m(x)] \u001b[38;5;241m=\u001b[39m y\n\u001b[0;32m    221\u001b[0m \u001b[38;5;28;01mfor\u001b[39;00m key, value \u001b[38;5;129;01min\u001b[39;00m x\u001b[38;5;241m.\u001b[39mitems():\n\u001b[1;32m--> 222\u001b[0m     y[deepcopy(key, memo)] \u001b[38;5;241m=\u001b[39m \u001b[43mdeepcopy\u001b[49m\u001b[43m(\u001b[49m\u001b[43mvalue\u001b[49m\u001b[43m,\u001b[49m\u001b[43m \u001b[49m\u001b[43mmemo\u001b[49m\u001b[43m)\u001b[49m\n\u001b[0;32m    223\u001b[0m \u001b[38;5;28;01mreturn\u001b[39;00m y\n",
      "    \u001b[1;31m[... skipping similar frames: _deepcopy_dict at line 222 (2 times), _reconstruct at line 260 (2 times), deepcopy at line 163 (2 times), deepcopy at line 137 (2 times)]\u001b[0m\n",
      "File \u001b[1;32mc:\\Users\\zhaoxs3\\AppData\\Local\\miniforge3\\envs\\vallib\\Lib\\copy.py:163\u001b[0m, in \u001b[0;36mdeepcopy\u001b[1;34m(x, memo, _nil)\u001b[0m\n\u001b[0;32m    161\u001b[0m                 y \u001b[38;5;241m=\u001b[39m x\n\u001b[0;32m    162\u001b[0m             \u001b[38;5;28;01melse\u001b[39;00m:\n\u001b[1;32m--> 163\u001b[0m                 y \u001b[38;5;241m=\u001b[39m \u001b[43m_reconstruct\u001b[49m\u001b[43m(\u001b[49m\u001b[43mx\u001b[49m\u001b[43m,\u001b[49m\u001b[43m \u001b[49m\u001b[43mmemo\u001b[49m\u001b[43m,\u001b[49m\u001b[43m \u001b[49m\u001b[38;5;241;43m*\u001b[39;49m\u001b[43mrv\u001b[49m\u001b[43m)\u001b[49m\n\u001b[0;32m    165\u001b[0m \u001b[38;5;66;03m# If is its own copy, don't memoize.\u001b[39;00m\n\u001b[0;32m    166\u001b[0m \u001b[38;5;28;01mif\u001b[39;00m y \u001b[38;5;129;01mis\u001b[39;00m \u001b[38;5;129;01mnot\u001b[39;00m x:\n",
      "File \u001b[1;32mc:\\Users\\zhaoxs3\\AppData\\Local\\miniforge3\\envs\\vallib\\Lib\\copy.py:260\u001b[0m, in \u001b[0;36m_reconstruct\u001b[1;34m(x, memo, func, args, state, listiter, dictiter, deepcopy)\u001b[0m\n\u001b[0;32m    258\u001b[0m \u001b[38;5;28;01mif\u001b[39;00m state \u001b[38;5;129;01mis\u001b[39;00m \u001b[38;5;129;01mnot\u001b[39;00m \u001b[38;5;28;01mNone\u001b[39;00m:\n\u001b[0;32m    259\u001b[0m     \u001b[38;5;28;01mif\u001b[39;00m deep:\n\u001b[1;32m--> 260\u001b[0m         state \u001b[38;5;241m=\u001b[39m \u001b[43mdeepcopy\u001b[49m\u001b[43m(\u001b[49m\u001b[43mstate\u001b[49m\u001b[43m,\u001b[49m\u001b[43m \u001b[49m\u001b[43mmemo\u001b[49m\u001b[43m)\u001b[49m\n\u001b[0;32m    261\u001b[0m     \u001b[38;5;28;01mif\u001b[39;00m \u001b[38;5;28mhasattr\u001b[39m(y, \u001b[38;5;124m'\u001b[39m\u001b[38;5;124m__setstate__\u001b[39m\u001b[38;5;124m'\u001b[39m):\n\u001b[0;32m    262\u001b[0m         y\u001b[38;5;241m.\u001b[39m__setstate__(state)\n",
      "File \u001b[1;32mc:\\Users\\zhaoxs3\\AppData\\Local\\miniforge3\\envs\\vallib\\Lib\\copy.py:137\u001b[0m, in \u001b[0;36mdeepcopy\u001b[1;34m(x, memo, _nil)\u001b[0m\n\u001b[0;32m    135\u001b[0m copier \u001b[38;5;241m=\u001b[39m _deepcopy_dispatch\u001b[38;5;241m.\u001b[39mget(\u001b[38;5;28mcls\u001b[39m)\n\u001b[0;32m    136\u001b[0m \u001b[38;5;28;01mif\u001b[39;00m copier \u001b[38;5;129;01mis\u001b[39;00m \u001b[38;5;129;01mnot\u001b[39;00m \u001b[38;5;28;01mNone\u001b[39;00m:\n\u001b[1;32m--> 137\u001b[0m     y \u001b[38;5;241m=\u001b[39m \u001b[43mcopier\u001b[49m\u001b[43m(\u001b[49m\u001b[43mx\u001b[49m\u001b[43m,\u001b[49m\u001b[43m \u001b[49m\u001b[43mmemo\u001b[49m\u001b[43m)\u001b[49m\n\u001b[0;32m    138\u001b[0m \u001b[38;5;28;01melse\u001b[39;00m:\n\u001b[0;32m    139\u001b[0m     \u001b[38;5;28;01mif\u001b[39;00m \u001b[38;5;28missubclass\u001b[39m(\u001b[38;5;28mcls\u001b[39m, \u001b[38;5;28mtype\u001b[39m):\n",
      "File \u001b[1;32mc:\\Users\\zhaoxs3\\AppData\\Local\\miniforge3\\envs\\vallib\\Lib\\copy.py:222\u001b[0m, in \u001b[0;36m_deepcopy_dict\u001b[1;34m(x, memo, deepcopy)\u001b[0m\n\u001b[0;32m    220\u001b[0m memo[\u001b[38;5;28mid\u001b[39m(x)] \u001b[38;5;241m=\u001b[39m y\n\u001b[0;32m    221\u001b[0m \u001b[38;5;28;01mfor\u001b[39;00m key, value \u001b[38;5;129;01min\u001b[39;00m x\u001b[38;5;241m.\u001b[39mitems():\n\u001b[1;32m--> 222\u001b[0m     y[deepcopy(key, memo)] \u001b[38;5;241m=\u001b[39m \u001b[43mdeepcopy\u001b[49m\u001b[43m(\u001b[49m\u001b[43mvalue\u001b[49m\u001b[43m,\u001b[49m\u001b[43m \u001b[49m\u001b[43mmemo\u001b[49m\u001b[43m)\u001b[49m\n\u001b[0;32m    223\u001b[0m \u001b[38;5;28;01mreturn\u001b[39;00m y\n",
      "File \u001b[1;32mc:\\Users\\zhaoxs3\\AppData\\Local\\miniforge3\\envs\\vallib\\Lib\\copy.py:152\u001b[0m, in \u001b[0;36mdeepcopy\u001b[1;34m(x, memo, _nil)\u001b[0m\n\u001b[0;32m    150\u001b[0m reductor \u001b[38;5;241m=\u001b[39m \u001b[38;5;28mgetattr\u001b[39m(x, \u001b[38;5;124m\"\u001b[39m\u001b[38;5;124m__reduce_ex__\u001b[39m\u001b[38;5;124m\"\u001b[39m, \u001b[38;5;28;01mNone\u001b[39;00m)\n\u001b[0;32m    151\u001b[0m \u001b[38;5;28;01mif\u001b[39;00m reductor \u001b[38;5;129;01mis\u001b[39;00m \u001b[38;5;129;01mnot\u001b[39;00m \u001b[38;5;28;01mNone\u001b[39;00m:\n\u001b[1;32m--> 152\u001b[0m     rv \u001b[38;5;241m=\u001b[39m \u001b[43mreductor\u001b[49m\u001b[43m(\u001b[49m\u001b[38;5;241;43m4\u001b[39;49m\u001b[43m)\u001b[49m\n\u001b[0;32m    153\u001b[0m \u001b[38;5;28;01melse\u001b[39;00m:\n\u001b[0;32m    154\u001b[0m     reductor \u001b[38;5;241m=\u001b[39m \u001b[38;5;28mgetattr\u001b[39m(x, \u001b[38;5;124m\"\u001b[39m\u001b[38;5;124m__reduce__\u001b[39m\u001b[38;5;124m\"\u001b[39m, \u001b[38;5;28;01mNone\u001b[39;00m)\n",
      "\u001b[1;31mTypeError\u001b[0m: cannot pickle 'SwigPyObject' object"
     ]
    }
   ],
   "source": [
    "credit_dv01 = cds_contract.credit_dv01(settle_dt, issuer_curve, recovery_rate)"
   ]
  },
  {
   "cell_type": "code",
   "execution_count": null,
   "metadata": {
    "execution": {
     "iopub.execute_input": "2024-04-30T20:01:44.992358Z",
     "iopub.status.busy": "2024-04-30T20:01:44.992358Z",
     "iopub.status.idle": "2024-04-30T20:01:44.996320Z",
     "shell.execute_reply": "2024-04-30T20:01:44.996320Z"
    }
   },
   "outputs": [
    {
     "data": {
      "text/plain": [
       "-650.5636208889919"
      ]
     },
     "execution_count": 24,
     "metadata": {},
     "output_type": "execute_result"
    }
   ],
   "source": [
    "credit_dv01"
   ]
  },
  {
   "cell_type": "markdown",
   "metadata": {},
   "source": [
    "Copyright (c) 2020 Dominic O'Kane"
   ]
  }
 ],
 "metadata": {
  "kernelspec": {
   "display_name": "vallib",
   "language": "python",
   "name": "python3"
  },
  "language_info": {
   "codemirror_mode": {
    "name": "ipython",
    "version": 3
   },
   "file_extension": ".py",
   "mimetype": "text/x-python",
   "name": "python",
   "nbconvert_exporter": "python",
   "pygments_lexer": "ipython3",
   "version": "3.13.1"
  }
 },
 "nbformat": 4,
 "nbformat_minor": 2
}
