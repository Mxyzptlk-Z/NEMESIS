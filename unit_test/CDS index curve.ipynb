{
 "cells": [
  {
   "cell_type": "code",
   "execution_count": 1,
   "metadata": {},
   "outputs": [
    {
     "name": "stdout",
     "output_type": "stream",
     "text": [
      "当前工作目录： c:\\Users\\zhaoxs3\\Documents\\GitHub\\NEMESIS\\unit_test\n",
      "切换后的目录： c:\\Users\\zhaoxs3\\Documents\\GitHub\\NEMESIS\n"
     ]
    }
   ],
   "source": [
    "import os\n",
    "\n",
    "# 获取当前工作目录\n",
    "current_dir = os.getcwd()\n",
    "print(\"当前工作目录：\", current_dir)\n",
    " \n",
    "# 切换到上一层目录\n",
    "parent_dir = os.path.dirname(current_dir)\n",
    "os.chdir(parent_dir)\n",
    "print(\"切换后的目录：\", parent_dir)"
   ]
  },
  {
   "cell_type": "code",
   "execution_count": 2,
   "metadata": {},
   "outputs": [],
   "source": [
    "import pandas as pd\n",
    "import QuantLib as ql\n",
    "from devlib.market.curves.overnight_index_curves import Sofr, Estr\n",
    "from devlib.market.curves.credit_curve_generator import MarketDataCreditCurve, CdsConfig\n",
    "from devlib.utils.ql_date_utils import ql_date_str\n",
    "from devlib.utils.cds_utils import calendar_5u"
   ]
  },
  {
   "cell_type": "code",
   "execution_count": 3,
   "metadata": {
    "execution": {
     "iopub.execute_input": "2024-04-30T20:01:42.491323Z",
     "iopub.status.busy": "2024-04-30T20:01:42.491323Z",
     "iopub.status.idle": "2024-04-30T20:01:44.773970Z",
     "shell.execute_reply": "2024-04-30T20:01:44.773970Z"
    }
   },
   "outputs": [
    {
     "name": "stdout",
     "output_type": "stream",
     "text": [
      "####################################################################\n",
      "#  NEMESIS ALPHA Version 0.1.0 - This build: 24 Jan 2025 at 10:42 #\n",
      "####################################################################\n",
      "\n"
     ]
    }
   ],
   "source": [
    "from nemesis.utils import *\n",
    "from nemesis.products.rates import *\n",
    "from nemesis.products.credit import *"
   ]
  },
  {
   "cell_type": "markdown",
   "metadata": {},
   "source": [
    "### Build QuantLib IR Curve"
   ]
  },
  {
   "cell_type": "code",
   "execution_count": 4,
   "metadata": {},
   "outputs": [],
   "source": [
    "today = ql.Date(1,11,2024)\n",
    "ql.Settings.instance().evaluationDate = today\n",
    "\n",
    "mkt_file_path = './unit_test/data/ICVS530_curve_data_20241101.xlsx'\n",
    "swap_mkt_data = pd.read_excel(mkt_file_path, sheet_name='swap')\n",
    "discount_curve = Estr(today, swap_mkt_data=swap_mkt_data)\n",
    "\n",
    "value_dt = Date(1,11,2024)\n",
    "ois_curve = QLCurve(value_dt, discount_curve, dc_type=DayCountTypes.ACT_360, interp_type=InterpTypes.LINEAR_ZERO_RATES)"
   ]
  },
  {
   "cell_type": "markdown",
   "metadata": {},
   "source": [
    "### Build QuantLib Credit Curve"
   ]
  },
  {
   "cell_type": "code",
   "execution_count": 5,
   "metadata": {},
   "outputs": [],
   "source": [
    "entity = 'EUROPE'\n",
    "mkt_file_path = './unit_test/data/credit_curve_data_20241101.xlsx'\n",
    "cds_type = 'index'\n",
    "cds_data = pd.read_excel(mkt_file_path, sheet_name=cds_type)\n",
    "\n",
    "cds_config = CdsConfig(recovery_rate = 0.4,\n",
    "                        daycount = ql.Actual360(),\n",
    "                        calendar = ql.WeekendsOnly())\n",
    "daycount = ql.Actual360()\n",
    "\n",
    "credit_curve = MarketDataCreditCurve(today, entity, cds_data, discount_curve, cds_type, cds_config, daycount)"
   ]
  },
  {
   "cell_type": "code",
   "execution_count": 6,
   "metadata": {},
   "outputs": [],
   "source": [
    "pillar = credit_curve.curve.hazard_rate_series\n",
    "dev_result = pd.DataFrame({\n",
    "    \"Date\": [pd.Timestamp(ql_date_str(d)) for d in pillar.index],\n",
    "    \"Hazard Rate\": pillar.values,\n",
    "    \"P(S)\": [credit_curve.curve.survival_probability(d) for d in pillar.index]\n",
    "})"
   ]
  },
  {
   "cell_type": "markdown",
   "metadata": {},
   "source": [
    "### Build Credit Curve"
   ]
  },
  {
   "cell_type": "code",
   "execution_count": 7,
   "metadata": {},
   "outputs": [],
   "source": [
    "cds_type = 'index'\n",
    "mkt_file_path = './unit_test/data/credit_curve_data_20241101.xlsx'\n",
    "cds_data = pd.read_excel(mkt_file_path, sheet_name=cds_type)\n",
    "\n",
    "effective_dt = value_dt\n",
    "settle_dt = effective_dt\n",
    "\n",
    "cdss = [GeneralCDS(settle_dt, Date.from_string(c[\"Maturity\"][1:], \"%Y-%m-%d\"), c[\"Spread\"]/10000, notional=1e7) for _, c in cds_data.iterrows()]\n",
    "recovery_rate = 0.40\n",
    "issuer_curve = GeneralCDSCurve(value_dt, cdss, ois_curve, recovery_rate)"
   ]
  },
  {
   "cell_type": "code",
   "execution_count": 8,
   "metadata": {},
   "outputs": [],
   "source": [
    "val_result = issuer_curve.print_table(formatted=False)"
   ]
  },
  {
   "cell_type": "code",
   "execution_count": 9,
   "metadata": {},
   "outputs": [
    {
     "data": {
      "text/html": [
       "<div>\n",
       "<style scoped>\n",
       "    .dataframe tbody tr th:only-of-type {\n",
       "        vertical-align: middle;\n",
       "    }\n",
       "\n",
       "    .dataframe tbody tr th {\n",
       "        vertical-align: top;\n",
       "    }\n",
       "\n",
       "    .dataframe thead th {\n",
       "        text-align: right;\n",
       "    }\n",
       "</style>\n",
       "<table border=\"1\" class=\"dataframe\">\n",
       "  <thead>\n",
       "    <tr style=\"text-align: right;\">\n",
       "      <th></th>\n",
       "      <th>Date</th>\n",
       "      <th>Hazard Rate</th>\n",
       "      <th>P(S)</th>\n",
       "    </tr>\n",
       "  </thead>\n",
       "  <tbody>\n",
       "    <tr>\n",
       "      <th>0</th>\n",
       "      <td>2024-11-01</td>\n",
       "      <td>0.000000</td>\n",
       "      <td>1.000000</td>\n",
       "    </tr>\n",
       "    <tr>\n",
       "      <th>1</th>\n",
       "      <td>2025-06-20</td>\n",
       "      <td>0.002581</td>\n",
       "      <td>0.998345</td>\n",
       "    </tr>\n",
       "    <tr>\n",
       "      <th>2</th>\n",
       "      <td>2025-12-20</td>\n",
       "      <td>0.002581</td>\n",
       "      <td>0.997036</td>\n",
       "    </tr>\n",
       "    <tr>\n",
       "      <th>3</th>\n",
       "      <td>2026-12-20</td>\n",
       "      <td>0.006264</td>\n",
       "      <td>0.990724</td>\n",
       "    </tr>\n",
       "    <tr>\n",
       "      <th>4</th>\n",
       "      <td>2027-12-20</td>\n",
       "      <td>0.009772</td>\n",
       "      <td>0.980957</td>\n",
       "    </tr>\n",
       "    <tr>\n",
       "      <th>5</th>\n",
       "      <td>2028-12-20</td>\n",
       "      <td>0.014085</td>\n",
       "      <td>0.967010</td>\n",
       "    </tr>\n",
       "    <tr>\n",
       "      <th>6</th>\n",
       "      <td>2029-12-20</td>\n",
       "      <td>0.018141</td>\n",
       "      <td>0.949387</td>\n",
       "    </tr>\n",
       "    <tr>\n",
       "      <th>7</th>\n",
       "      <td>2031-12-20</td>\n",
       "      <td>0.022712</td>\n",
       "      <td>0.906654</td>\n",
       "    </tr>\n",
       "    <tr>\n",
       "      <th>8</th>\n",
       "      <td>2034-12-20</td>\n",
       "      <td>0.026038</td>\n",
       "      <td>0.837556</td>\n",
       "    </tr>\n",
       "  </tbody>\n",
       "</table>\n",
       "</div>"
      ],
      "text/plain": [
       "         Date  Hazard Rate      P(S)\n",
       "0  2024-11-01     0.000000  1.000000\n",
       "1  2025-06-20     0.002581  0.998345\n",
       "2  2025-12-20     0.002581  0.997036\n",
       "3  2026-12-20     0.006264  0.990724\n",
       "4  2027-12-20     0.009772  0.980957\n",
       "5  2028-12-20     0.014085  0.967010\n",
       "6  2029-12-20     0.018141  0.949387\n",
       "7  2031-12-20     0.022712  0.906654\n",
       "8  2034-12-20     0.026038  0.837556"
      ]
     },
     "execution_count": 9,
     "metadata": {},
     "output_type": "execute_result"
    }
   ],
   "source": [
    "val_result"
   ]
  },
  {
   "cell_type": "code",
   "execution_count": 10,
   "metadata": {},
   "outputs": [
    {
     "data": {
      "text/html": [
       "<div>\n",
       "<style scoped>\n",
       "    .dataframe tbody tr th:only-of-type {\n",
       "        vertical-align: middle;\n",
       "    }\n",
       "\n",
       "    .dataframe tbody tr th {\n",
       "        vertical-align: top;\n",
       "    }\n",
       "\n",
       "    .dataframe thead th {\n",
       "        text-align: right;\n",
       "    }\n",
       "</style>\n",
       "<table border=\"1\" class=\"dataframe\">\n",
       "  <thead>\n",
       "    <tr style=\"text-align: right;\">\n",
       "      <th></th>\n",
       "      <th>Hazard Rate</th>\n",
       "      <th>P(S)</th>\n",
       "    </tr>\n",
       "    <tr>\n",
       "      <th>Date</th>\n",
       "      <th></th>\n",
       "      <th></th>\n",
       "    </tr>\n",
       "  </thead>\n",
       "  <tbody>\n",
       "    <tr>\n",
       "      <th>2025-06-20</th>\n",
       "      <td>-1.336807e-09</td>\n",
       "      <td>8.563653e-10</td>\n",
       "    </tr>\n",
       "    <tr>\n",
       "      <th>2025-12-20</th>\n",
       "      <td>2.178629e-09</td>\n",
       "      <td>-2.489450e-10</td>\n",
       "    </tr>\n",
       "    <tr>\n",
       "      <th>2026-12-20</th>\n",
       "      <td>-1.221086e-08</td>\n",
       "      <td>1.201825e-08</td>\n",
       "    </tr>\n",
       "    <tr>\n",
       "      <th>2027-12-20</th>\n",
       "      <td>2.195365e-09</td>\n",
       "      <td>9.716297e-09</td>\n",
       "    </tr>\n",
       "    <tr>\n",
       "      <th>2028-12-20</th>\n",
       "      <td>-8.838692e-09</td>\n",
       "      <td>1.826771e-08</td>\n",
       "    </tr>\n",
       "    <tr>\n",
       "      <th>2029-12-20</th>\n",
       "      <td>4.457458e-09</td>\n",
       "      <td>1.364416e-08</td>\n",
       "    </tr>\n",
       "    <tr>\n",
       "      <th>2031-12-20</th>\n",
       "      <td>-8.424249e-08</td>\n",
       "      <td>1.679092e-07</td>\n",
       "    </tr>\n",
       "    <tr>\n",
       "      <th>2034-12-20</th>\n",
       "      <td>-9.592729e-09</td>\n",
       "      <td>1.795729e-07</td>\n",
       "    </tr>\n",
       "  </tbody>\n",
       "</table>\n",
       "</div>"
      ],
      "text/plain": [
       "             Hazard Rate          P(S)\n",
       "Date                                  \n",
       "2025-06-20 -1.336807e-09  8.563653e-10\n",
       "2025-12-20  2.178629e-09 -2.489450e-10\n",
       "2026-12-20 -1.221086e-08  1.201825e-08\n",
       "2027-12-20  2.195365e-09  9.716297e-09\n",
       "2028-12-20 -8.838692e-09  1.826771e-08\n",
       "2029-12-20  4.457458e-09  1.364416e-08\n",
       "2031-12-20 -8.424249e-08  1.679092e-07\n",
       "2034-12-20 -9.592729e-09  1.795729e-07"
      ]
     },
     "execution_count": 10,
     "metadata": {},
     "output_type": "execute_result"
    }
   ],
   "source": [
    "val_result.iloc[1:].set_index(\"Date\") - dev_result.set_index(\"Date\")"
   ]
  }
 ],
 "metadata": {
  "kernelspec": {
   "display_name": "vallib",
   "language": "python",
   "name": "python3"
  },
  "language_info": {
   "codemirror_mode": {
    "name": "ipython",
    "version": 3
   },
   "file_extension": ".py",
   "mimetype": "text/x-python",
   "name": "python",
   "nbconvert_exporter": "python",
   "pygments_lexer": "ipython3",
   "version": "3.13.1"
  }
 },
 "nbformat": 4,
 "nbformat_minor": 2
}
