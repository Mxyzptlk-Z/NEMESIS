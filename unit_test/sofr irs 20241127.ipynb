{
 "cells": [
  {
   "cell_type": "code",
   "execution_count": 1,
   "metadata": {},
   "outputs": [
    {
     "name": "stdout",
     "output_type": "stream",
     "text": [
      "当前工作目录： /Users/lig/Documents/GitHub/NEMESIS/unit_test\n",
      "切换后的目录： /Users/lig/Documents/GitHub/NEMESIS\n"
     ]
    }
   ],
   "source": [
    "import os\n",
    "\n",
    "# 获取当前工作目录\n",
    "current_dir = os.getcwd()\n",
    "print(\"当前工作目录：\", current_dir)\n",
    " \n",
    "# 切换到上一层目录\n",
    "parent_dir = os.path.dirname(current_dir)\n",
    "os.chdir(parent_dir)\n",
    "print(\"切换后的目录：\", parent_dir)"
   ]
  },
  {
   "cell_type": "code",
   "execution_count": 2,
   "metadata": {
    "execution": {
     "iopub.execute_input": "2024-04-30T20:22:44.924278Z",
     "iopub.status.busy": "2024-04-30T20:22:44.924278Z",
     "iopub.status.idle": "2024-04-30T20:22:46.325907Z",
     "shell.execute_reply": "2024-04-30T20:22:46.325907Z"
    }
   },
   "outputs": [
    {
     "name": "stdout",
     "output_type": "stream",
     "text": [
      "####################################################################\n",
      "#  ValLib ALPHA Version 0.1.0 - This build: 24 Jan 2025 at 10:42 #\n",
      "####################################################################\n",
      "\n"
     ]
    }
   ],
   "source": [
    "from nemesis.utils import *\n",
    "from nemesis.products.rates import *"
   ]
  },
  {
   "cell_type": "markdown",
   "metadata": {},
   "source": [
    "# Build SOFR curve"
   ]
  },
  {
   "cell_type": "code",
   "execution_count": 3,
   "metadata": {},
   "outputs": [],
   "source": [
    "value_dt = Date(27,11,2024)\n",
    "spot_days = 2\n",
    "cal_type = CalendarTypes.UNITED_STATES\n",
    "cal = Calendar(cal_type)\n",
    "settle_dt = cal.add_business_days(value_dt, spot_days)\n",
    "\n",
    "notional = 1000000\n",
    "\n",
    "fixed_type = SwapTypes.PAY\n",
    "fixed_freq = FrequencyTypes.ANNUAL\n",
    "fixed_dc_type = DayCountTypes.ACT_360\n",
    "\n",
    "spread = 0\n",
    "float_freq = FrequencyTypes.ANNUAL\n",
    "float_dc_type = DayCountTypes.ACT_360\n",
    "\n",
    "bd_type = BusDayAdjustTypes.MODIFIED_FOLLOWING\n",
    "dg_type = DateGenRuleTypes.BACKWARD"
   ]
  },
  {
   "cell_type": "code",
   "execution_count": 4,
   "metadata": {},
   "outputs": [],
   "source": [
    "swap_mkt_data = pd.read_excel(\"./unit_test/data/sofr_curve_data_20241127.xlsx\", sheet_name='swap')"
   ]
  },
  {
   "cell_type": "code",
   "execution_count": 5,
   "metadata": {},
   "outputs": [],
   "source": [
    "maturity_dates = [settle_dt.add_business_tenor(tenor, cal_type=CalendarTypes.UNITED_STATES) for tenor in swap_mkt_data[\"Tenor\"]]\n",
    "\n",
    "swaps = [\n",
    "    OIS(\n",
    "        effective_dt = settle_dt,\n",
    "        term_dt_or_tenor = tenor,\n",
    "        fixed_leg_type = fixed_type,\n",
    "        fixed_cpn = rate,\n",
    "        fixed_freq_type = FrequencyTypes.ANNUAL,\n",
    "        fixed_dc_type = fixed_dc_type,\n",
    "        notional = notional,\n",
    "        payment_lag = 0,\n",
    "        float_spread = spread,\n",
    "        float_freq_type = FrequencyTypes.ANNUAL,\n",
    "        float_dc_type = float_dc_type,\n",
    "        cal_type = cal_type,\n",
    "        bd_type = bd_type,\n",
    "        dg_type = dg_type\n",
    "    )\n",
    "    for mat_date, tenor, rate in zip(maturity_dates, swap_mkt_data[\"Tenor\"], swap_mkt_data[\"Rate\"]) \n",
    "    if mat_date <= settle_dt.add_business_tenor(\"3W\", cal_type)\n",
    "] + [\n",
    "    OIS(\n",
    "        effective_dt = settle_dt,\n",
    "        term_dt_or_tenor = tenor,\n",
    "        fixed_leg_type = fixed_type,\n",
    "        fixed_cpn = rate,\n",
    "        fixed_freq_type = fixed_freq,\n",
    "        fixed_dc_type = fixed_dc_type,\n",
    "        notional = notional,\n",
    "        payment_lag = 0,\n",
    "        float_spread = spread,\n",
    "        float_freq_type = float_freq,\n",
    "        float_dc_type = float_dc_type,\n",
    "        cal_type = cal_type,\n",
    "        bd_type = bd_type,\n",
    "        dg_type = dg_type\n",
    "    )\n",
    "    for mat_date, tenor, rate in zip(maturity_dates, swap_mkt_data[\"Tenor\"], swap_mkt_data[\"Rate\"]) \n",
    "    if mat_date > settle_dt.add_business_tenor(\"3W\", cal_type) and mat_date <= settle_dt.add_business_tenor(\"1Y\", cal_type)\n",
    "] + [\n",
    "    OIS(\n",
    "        effective_dt = settle_dt,\n",
    "        term_dt_or_tenor = tenor,\n",
    "        fixed_leg_type = fixed_type,\n",
    "        fixed_cpn = rate,\n",
    "        fixed_freq_type = fixed_freq,\n",
    "        fixed_dc_type = fixed_dc_type,\n",
    "        notional = notional,\n",
    "        payment_lag = 2,\n",
    "        float_spread = spread,\n",
    "        float_freq_type = float_freq,\n",
    "        float_dc_type = float_dc_type,\n",
    "        cal_type = cal_type,\n",
    "        bd_type = bd_type,\n",
    "        dg_type = dg_type\n",
    "    )\n",
    "    for mat_date, tenor, rate in zip(maturity_dates, swap_mkt_data[\"Tenor\"], swap_mkt_data[\"Rate\"]) \n",
    "    if mat_date > settle_dt.add_business_tenor(\"1Y\", cal_type)\n",
    "]"
   ]
  },
  {
   "cell_type": "code",
   "execution_count": 6,
   "metadata": {},
   "outputs": [],
   "source": [
    "swaps = [\n",
    "    OIS(\n",
    "        effective_dt = settle_dt,\n",
    "        term_dt_or_tenor = tenor,\n",
    "        fixed_leg_type = fixed_type,\n",
    "        fixed_cpn = rate,\n",
    "        fixed_freq_type = FrequencyTypes.ANNUAL,\n",
    "        fixed_dc_type = DayCountTypes.ACT_360,\n",
    "        notional = notional,\n",
    "        payment_lag = 0,\n",
    "        float_spread = spread,\n",
    "        float_freq_type = FrequencyTypes.ANNUAL,\n",
    "        float_dc_type = DayCountTypes.ACT_360,\n",
    "        cal_type = CalendarTypes.UNITED_STATES,\n",
    "        bd_type = BusDayAdjustTypes.FOLLOWING,\n",
    "        dg_type = DateGenRuleTypes.BACKWARD\n",
    "    )\n",
    "    for mat_date, tenor, rate in zip(maturity_dates, swap_mkt_data[\"Tenor\"], swap_mkt_data[\"Rate\"]) \n",
    "    if mat_date <= settle_dt.add_business_tenor(\"3W\", cal_type)\n",
    "]"
   ]
  },
  {
   "cell_type": "code",
   "execution_count": 7,
   "metadata": {},
   "outputs": [],
   "source": [
    "payment_dates = maturity_dates.copy()\n",
    "idx = np.where(np.array(payment_dates) == settle_dt.add_business_tenor(\"18M\", cal_type=CalendarTypes.UNITED_STATES))[0][0]\n",
    "payment_dates[idx:] = [cal.add_business_days(pivot, 2) for pivot in payment_dates[idx:]]"
   ]
  },
  {
   "cell_type": "code",
   "execution_count": 8,
   "metadata": {},
   "outputs": [],
   "source": [
    "sofr_curve = OISCurve(value_dt, [], [], swaps, interp_type=InterpTypes.LINEAR_ZERO_RATES)"
   ]
  },
  {
   "cell_type": "code",
   "execution_count": 9,
   "metadata": {},
   "outputs": [
    {
     "data": {
      "text/plain": [
       "0.9984711445673078"
      ]
     },
     "execution_count": 9,
     "metadata": {},
     "output_type": "execute_result"
    }
   ],
   "source": [
    "sofr_curve.df(Date(9,12,2024), DayCountTypes.ACT_ACT_ISDA)"
   ]
  },
  {
   "cell_type": "code",
   "execution_count": 10,
   "metadata": {},
   "outputs": [
    {
     "data": {
      "text/plain": [
       "0.9984669591346085"
      ]
     },
     "execution_count": 10,
     "metadata": {},
     "output_type": "execute_result"
    }
   ],
   "source": [
    "sofr_curve._dfs[1]"
   ]
  },
  {
   "cell_type": "code",
   "execution_count": 11,
   "metadata": {},
   "outputs": [
    {
     "data": {
      "text/plain": [
       "0.9984669591346085"
      ]
     },
     "execution_count": 11,
     "metadata": {},
     "output_type": "execute_result"
    }
   ],
   "source": [
    "sofr_curve.df(Date(9,12,2024), day_count=DayCountTypes.ACT_365L)"
   ]
  },
  {
   "cell_type": "code",
   "execution_count": 12,
   "metadata": {},
   "outputs": [
    {
     "data": {
      "text/plain": [
       "array([0.04631084])"
      ]
     },
     "execution_count": 12,
     "metadata": {},
     "output_type": "execute_result"
    }
   ],
   "source": [
    "sofr_curve._df_to_zero(sofr_curve.df(Date(23,12,2024), day_count=DayCountTypes.ZERO), Date(23,12,2024), freq_type=FrequencyTypes.CONTINUOUS, dc_type=DayCountTypes.ACT_365L)"
   ]
  },
  {
   "cell_type": "code",
   "execution_count": 13,
   "metadata": {},
   "outputs": [
    {
     "data": {
      "text/html": [
       "<div>\n",
       "<style scoped>\n",
       "    .dataframe tbody tr th:only-of-type {\n",
       "        vertical-align: middle;\n",
       "    }\n",
       "\n",
       "    .dataframe tbody tr th {\n",
       "        vertical-align: top;\n",
       "    }\n",
       "\n",
       "    .dataframe thead th {\n",
       "        text-align: right;\n",
       "    }\n",
       "</style>\n",
       "<table border=\"1\" class=\"dataframe\">\n",
       "  <thead>\n",
       "    <tr style=\"text-align: right;\">\n",
       "      <th></th>\n",
       "      <th>Date</th>\n",
       "      <th>ZR</th>\n",
       "      <th>DF</th>\n",
       "    </tr>\n",
       "  </thead>\n",
       "  <tbody>\n",
       "    <tr>\n",
       "      <th>0</th>\n",
       "      <td>09-DEC-2024</td>\n",
       "      <td>4.65383</td>\n",
       "      <td>0.998471</td>\n",
       "    </tr>\n",
       "    <tr>\n",
       "      <th>1</th>\n",
       "      <td>16-DEC-2024</td>\n",
       "      <td>4.65383</td>\n",
       "      <td>0.997580</td>\n",
       "    </tr>\n",
       "    <tr>\n",
       "      <th>2</th>\n",
       "      <td>23-DEC-2024</td>\n",
       "      <td>4.63108</td>\n",
       "      <td>0.996707</td>\n",
       "    </tr>\n",
       "    <tr>\n",
       "      <th>3</th>\n",
       "      <td>02-JAN-2025</td>\n",
       "      <td>4.63120</td>\n",
       "      <td>0.995443</td>\n",
       "    </tr>\n",
       "    <tr>\n",
       "      <th>4</th>\n",
       "      <td>03-FEB-2025</td>\n",
       "      <td>4.63701</td>\n",
       "      <td>0.991398</td>\n",
       "    </tr>\n",
       "    <tr>\n",
       "      <th>5</th>\n",
       "      <td>03-MAR-2025</td>\n",
       "      <td>4.63891</td>\n",
       "      <td>0.987873</td>\n",
       "    </tr>\n",
       "    <tr>\n",
       "      <th>6</th>\n",
       "      <td>02-APR-2025</td>\n",
       "      <td>4.64001</td>\n",
       "      <td>0.984110</td>\n",
       "    </tr>\n",
       "    <tr>\n",
       "      <th>7</th>\n",
       "      <td>02-MAY-2025</td>\n",
       "      <td>4.64069</td>\n",
       "      <td>0.980361</td>\n",
       "    </tr>\n",
       "    <tr>\n",
       "      <th>8</th>\n",
       "      <td>02-JUN-2025</td>\n",
       "      <td>4.64116</td>\n",
       "      <td>0.976502</td>\n",
       "    </tr>\n",
       "    <tr>\n",
       "      <th>9</th>\n",
       "      <td>02-JUL-2025</td>\n",
       "      <td>4.64149</td>\n",
       "      <td>0.972783</td>\n",
       "    </tr>\n",
       "    <tr>\n",
       "      <th>10</th>\n",
       "      <td>04-AUG-2025</td>\n",
       "      <td>4.64176</td>\n",
       "      <td>0.968707</td>\n",
       "    </tr>\n",
       "    <tr>\n",
       "      <th>11</th>\n",
       "      <td>02-SEP-2025</td>\n",
       "      <td>4.64195</td>\n",
       "      <td>0.965140</td>\n",
       "    </tr>\n",
       "    <tr>\n",
       "      <th>12</th>\n",
       "      <td>02-OCT-2025</td>\n",
       "      <td>4.64210</td>\n",
       "      <td>0.961463</td>\n",
       "    </tr>\n",
       "    <tr>\n",
       "      <th>13</th>\n",
       "      <td>03-NOV-2025</td>\n",
       "      <td>4.64224</td>\n",
       "      <td>0.957557</td>\n",
       "    </tr>\n",
       "    <tr>\n",
       "      <th>14</th>\n",
       "      <td>02-DEC-2025</td>\n",
       "      <td>4.64234</td>\n",
       "      <td>0.954031</td>\n",
       "    </tr>\n",
       "    <tr>\n",
       "      <th>15</th>\n",
       "      <td>04-JUN-2026</td>\n",
       "      <td>4.64274</td>\n",
       "      <td>0.931958</td>\n",
       "    </tr>\n",
       "    <tr>\n",
       "      <th>16</th>\n",
       "      <td>04-DEC-2026</td>\n",
       "      <td>4.64294</td>\n",
       "      <td>0.910511</td>\n",
       "    </tr>\n",
       "    <tr>\n",
       "      <th>17</th>\n",
       "      <td>06-DEC-2027</td>\n",
       "      <td>4.64314</td>\n",
       "      <td>0.868977</td>\n",
       "    </tr>\n",
       "    <tr>\n",
       "      <th>18</th>\n",
       "      <td>06-DEC-2028</td>\n",
       "      <td>4.64030</td>\n",
       "      <td>0.829540</td>\n",
       "    </tr>\n",
       "    <tr>\n",
       "      <th>19</th>\n",
       "      <td>05-DEC-2029</td>\n",
       "      <td>4.64076</td>\n",
       "      <td>0.792009</td>\n",
       "    </tr>\n",
       "    <tr>\n",
       "      <th>20</th>\n",
       "      <td>04-DEC-2030</td>\n",
       "      <td>4.64122</td>\n",
       "      <td>0.756169</td>\n",
       "    </tr>\n",
       "    <tr>\n",
       "      <th>21</th>\n",
       "      <td>04-DEC-2031</td>\n",
       "      <td>4.64155</td>\n",
       "      <td>0.721859</td>\n",
       "    </tr>\n",
       "    <tr>\n",
       "      <th>22</th>\n",
       "      <td>06-DEC-2032</td>\n",
       "      <td>4.64033</td>\n",
       "      <td>0.688924</td>\n",
       "    </tr>\n",
       "    <tr>\n",
       "      <th>23</th>\n",
       "      <td>06-DEC-2033</td>\n",
       "      <td>4.64059</td>\n",
       "      <td>0.657670</td>\n",
       "    </tr>\n",
       "    <tr>\n",
       "      <th>24</th>\n",
       "      <td>06-DEC-2034</td>\n",
       "      <td>4.64088</td>\n",
       "      <td>0.627829</td>\n",
       "    </tr>\n",
       "    <tr>\n",
       "      <th>25</th>\n",
       "      <td>04-DEC-2036</td>\n",
       "      <td>4.64034</td>\n",
       "      <td>0.572288</td>\n",
       "    </tr>\n",
       "    <tr>\n",
       "      <th>26</th>\n",
       "      <td>06-DEC-2039</td>\n",
       "      <td>4.64092</td>\n",
       "      <td>0.497747</td>\n",
       "    </tr>\n",
       "    <tr>\n",
       "      <th>27</th>\n",
       "      <td>06-DEC-2044</td>\n",
       "      <td>4.64035</td>\n",
       "      <td>0.394613</td>\n",
       "    </tr>\n",
       "    <tr>\n",
       "      <th>28</th>\n",
       "      <td>06-DEC-2049</td>\n",
       "      <td>4.64044</td>\n",
       "      <td>0.312854</td>\n",
       "    </tr>\n",
       "    <tr>\n",
       "      <th>29</th>\n",
       "      <td>04-DEC-2054</td>\n",
       "      <td>4.64053</td>\n",
       "      <td>0.248096</td>\n",
       "    </tr>\n",
       "    <tr>\n",
       "      <th>30</th>\n",
       "      <td>04-DEC-2064</td>\n",
       "      <td>4.64036</td>\n",
       "      <td>0.155937</td>\n",
       "    </tr>\n",
       "    <tr>\n",
       "      <th>31</th>\n",
       "      <td>05-DEC-2074</td>\n",
       "      <td>4.64046</td>\n",
       "      <td>0.098001</td>\n",
       "    </tr>\n",
       "  </tbody>\n",
       "</table>\n",
       "</div>"
      ],
      "text/plain": [
       "           Date       ZR        DF\n",
       "0   09-DEC-2024  4.65383  0.998471\n",
       "1   16-DEC-2024  4.65383  0.997580\n",
       "2   23-DEC-2024  4.63108  0.996707\n",
       "3   02-JAN-2025  4.63120  0.995443\n",
       "4   03-FEB-2025  4.63701  0.991398\n",
       "5   03-MAR-2025  4.63891  0.987873\n",
       "6   02-APR-2025  4.64001  0.984110\n",
       "7   02-MAY-2025  4.64069  0.980361\n",
       "8   02-JUN-2025  4.64116  0.976502\n",
       "9   02-JUL-2025  4.64149  0.972783\n",
       "10  04-AUG-2025  4.64176  0.968707\n",
       "11  02-SEP-2025  4.64195  0.965140\n",
       "12  02-OCT-2025  4.64210  0.961463\n",
       "13  03-NOV-2025  4.64224  0.957557\n",
       "14  02-DEC-2025  4.64234  0.954031\n",
       "15  04-JUN-2026  4.64274  0.931958\n",
       "16  04-DEC-2026  4.64294  0.910511\n",
       "17  06-DEC-2027  4.64314  0.868977\n",
       "18  06-DEC-2028  4.64030  0.829540\n",
       "19  05-DEC-2029  4.64076  0.792009\n",
       "20  04-DEC-2030  4.64122  0.756169\n",
       "21  04-DEC-2031  4.64155  0.721859\n",
       "22  06-DEC-2032  4.64033  0.688924\n",
       "23  06-DEC-2033  4.64059  0.657670\n",
       "24  06-DEC-2034  4.64088  0.627829\n",
       "25  04-DEC-2036  4.64034  0.572288\n",
       "26  06-DEC-2039  4.64092  0.497747\n",
       "27  06-DEC-2044  4.64035  0.394613\n",
       "28  06-DEC-2049  4.64044  0.312854\n",
       "29  04-DEC-2054  4.64053  0.248096\n",
       "30  04-DEC-2064  4.64036  0.155937\n",
       "31  05-DEC-2074  4.64046  0.098001"
      ]
     },
     "execution_count": 13,
     "metadata": {},
     "output_type": "execute_result"
    }
   ],
   "source": [
    "sofr_curve.print_table(payment_dates)"
   ]
  },
  {
   "cell_type": "code",
   "execution_count": 14,
   "metadata": {},
   "outputs": [
    {
     "data": {
      "image/png": "[encoded data removed]",
      "text/plain": [
       "<Figure size 1000x600 with 1 Axes>"
      ]
     },
     "metadata": {},
     "output_type": "display_data"
    }
   ],
   "source": [
    "sofr_curve.print_figure(payment_dates)"
   ]
  },
  {
   "cell_type": "markdown",
   "metadata": {},
   "source": [
    "# IRS Valuation"
   ]
  },
  {
   "cell_type": "code",
   "execution_count": 15,
   "metadata": {},
   "outputs": [],
   "source": [
    "swap = OIS(\n",
    "    effective_dt=Date(19, 7, 2024),\n",
    "    term_dt_or_tenor=Date(18, 7, 2027),\n",
    "    fixed_leg_type=fixed_type,\n",
    "    fixed_cpn=0.05558,\n",
    "    fixed_freq_type=fixed_freq,\n",
    "    fixed_dc_type=fixed_dc_type,\n",
    "    notional=32061781.09,\n",
    "    payment_lag=0,\n",
    "    float_spread=0,\n",
    "    float_freq_type=FrequencyTypes.ANNUAL,\n",
    "    float_dc_type=DayCountTypes.ACT_360,\n",
    "    cal_type=CalendarTypes.UNITED_STATES,\n",
    "    bd_type=BusDayAdjustTypes.MODIFIED_FOLLOWING,\n",
    "    dg_type=DateGenRuleTypes.BACKWARD\n",
    ")"
   ]
  },
  {
   "cell_type": "code",
   "execution_count": 18,
   "metadata": {},
   "outputs": [
    {
     "data": {
      "text/plain": [
       "OBJECT TYPE: OIS\n",
       "OBJECT TYPE: SwapFixedLeg\n",
       "START DATE: 19-JUL-2024\n",
       "TERMINATION DATE: 18-JUL-2027\n",
       "MATURITY DATE: 19-JUL-2027\n",
       "NOTIONAL: 32061781.09\n",
       "PRINCIPAL: 0.0\n",
       "LEG TYPE: SwapTypes.PAY\n",
       "COUPON: 0.05558\n",
       "FREQUENCY: FrequencyTypes.ANNUAL\n",
       "DAY COUNT: DayCountTypes.ACT_360\n",
       "CALENDAR: CalendarTypes.UNITED_STATES\n",
       "BUS DAY ADJUST: BusDayAdjustTypes.MODIFIED_FOLLOWING\n",
       "DATE GEN TYPE: DateGenRuleTypes.BACKWARD\n",
       "\n",
       "OBJECT TYPE: SwapFloatLeg\n",
       "START DATE: 19-JUL-2024\n",
       "TERMINATION DATE: 18-JUL-2027\n",
       "MATURITY DATE: 19-JUL-2027\n",
       "NOTIONAL: 32061781.09\n",
       "SWAP TYPE: SwapTypes.RECEIVE\n",
       "SPREAD (BPS): 0\n",
       "FREQUENCY: FrequencyTypes.ANNUAL\n",
       "DAY COUNT: DayCountTypes.ACT_360\n",
       "CALENDAR: CalendarTypes.UNITED_STATES\n",
       "BUS DAY ADJUST: BusDayAdjustTypes.MODIFIED_FOLLOWING\n",
       "DATE GEN TYPE: DateGenRuleTypes.BACKWARD"
      ]
     },
     "execution_count": 18,
     "metadata": {},
     "output_type": "execute_result"
    }
   ],
   "source": [
    "swap"
   ]
  },
  {
   "cell_type": "code",
   "execution_count": 16,
   "metadata": {},
   "outputs": [],
   "source": [
    "fixing = pd.read_excel(\"./unit_test/data/sofr_curve_data_20241127.xlsx\", sheet_name='fixing')"
   ]
  },
  {
   "cell_type": "code",
   "execution_count": 17,
   "metadata": {},
   "outputs": [
    {
     "data": {
      "text/plain": [
       "-790901.6109842779"
      ]
     },
     "execution_count": 17,
     "metadata": {},
     "output_type": "execute_result"
    }
   ],
   "source": [
    "swap.value(value_dt=value_dt, ois_curve=sofr_curve, first_fixing_rate=0.04674658104292555)"
   ]
  }
 ],
 "metadata": {
  "kernelspec": {
   "display_name": "base",
   "language": "python",
   "name": "python3"
  },
  "language_info": {
   "codemirror_mode": {
    "name": "ipython",
    "version": 3
   },
   "file_extension": ".py",
   "mimetype": "text/x-python",
   "name": "python",
   "nbconvert_exporter": "python",
   "pygments_lexer": "ipython3",
   "version": "3.9.16"
  }
 },
 "nbformat": 4,
 "nbformat_minor": 2
}
