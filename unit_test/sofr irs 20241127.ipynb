{
 "cells": [
  {
   "cell_type": "code",
   "execution_count": 1,
   "metadata": {},
   "outputs": [
    {
     "name": "stdout",
     "output_type": "stream",
     "text": [
      "当前工作目录： c:\\Users\\zhaoxs3\\Desktop\\ValLib\\unit_test\n",
      "切换后的目录： c:\\Users\\zhaoxs3\\Desktop\\ValLib\n"
     ]
    }
   ],
   "source": [
    "import os\n",
    "\n",
    "# 获取当前工作目录\n",
    "current_dir = os.getcwd()\n",
    "print(\"当前工作目录：\", current_dir)\n",
    " \n",
    "# 切换到上一层目录\n",
    "parent_dir = os.path.dirname(current_dir)\n",
    "os.chdir(parent_dir)\n",
    "print(\"切换后的目录：\", parent_dir)"
   ]
  },
  {
   "cell_type": "code",
   "execution_count": 2,
   "metadata": {
    "execution": {
     "iopub.execute_input": "2024-04-30T20:22:44.924278Z",
     "iopub.status.busy": "2024-04-30T20:22:44.924278Z",
     "iopub.status.idle": "2024-04-30T20:22:46.325907Z",
     "shell.execute_reply": "2024-04-30T20:22:46.325907Z"
    }
   },
   "outputs": [
    {
     "name": "stdout",
     "output_type": "stream",
     "text": [
      "####################################################################\n",
      "#  ValLib ALPHA Version 0.1.0 - This build: 24 Jan 2025 at 10:42 #\n",
      "####################################################################\n",
      "\n"
     ]
    }
   ],
   "source": [
    "from vallib.utils import *\n",
    "from vallib.products.rates import *"
   ]
  },
  {
   "cell_type": "markdown",
   "metadata": {},
   "source": [
    "# Build SOFR curve"
   ]
  },
  {
   "cell_type": "code",
   "execution_count": 3,
   "metadata": {},
   "outputs": [],
   "source": [
    "value_dt = Date(27,11,2024)\n",
    "spot_days = 2\n",
    "cal_type = CalendarTypes.UNITED_STATES\n",
    "cal = Calendar(cal_type)\n",
    "settle_dt = cal.add_business_days(value_dt, spot_days)\n",
    "\n",
    "notional = 1000000\n",
    "\n",
    "fixed_type = SwapTypes.PAY\n",
    "fixed_freq = FrequencyTypes.ANNUAL\n",
    "fixed_dc_type = DayCountTypes.ACT_360\n",
    "\n",
    "spread = 0\n",
    "float_freq = FrequencyTypes.ANNUAL\n",
    "float_dc_type = DayCountTypes.ACT_360\n",
    "\n",
    "bd_type = BusDayAdjustTypes.MODIFIED_FOLLOWING\n",
    "dg_type = DateGenRuleTypes.BACKWARD"
   ]
  },
  {
   "cell_type": "code",
   "execution_count": 4,
   "metadata": {},
   "outputs": [],
   "source": [
    "swap_mkt_data = pd.read_excel(\"./unit_test/data/sofr_curve_data_20241127.xlsx\", sheet_name='swap')"
   ]
  },
  {
   "cell_type": "code",
   "execution_count": 5,
   "metadata": {},
   "outputs": [],
   "source": [
    "maturity_dates = [settle_dt.add_business_tenor(tenor, cal_type=CalendarTypes.UNITED_STATES) for tenor in swap_mkt_data[\"Tenor\"]]\n",
    "\n",
    "swaps = [\n",
    "    OIS(\n",
    "        effective_dt = settle_dt,\n",
    "        term_dt_or_tenor = tenor,\n",
    "        fixed_leg_type = fixed_type,\n",
    "        fixed_cpn = rate,\n",
    "        fixed_freq_type = fixed_freq,\n",
    "        fixed_dc_type = fixed_dc_type,\n",
    "        notional = notional,\n",
    "        payment_lag = 0,\n",
    "        float_spread = spread,\n",
    "        float_freq_type = float_freq,\n",
    "        float_dc_type=float_dc_type,\n",
    "        cal_type = cal_type,\n",
    "        bd_type = bd_type,\n",
    "        dg_type = dg_type\n",
    "    )\n",
    "    for mat_date, tenor, rate in zip(maturity_dates, swap_mkt_data[\"Tenor\"], swap_mkt_data[\"Rate\"]) \n",
    "    if mat_date <= settle_dt.add_business_tenor(\"1Y\", cal_type)\n",
    "] + [\n",
    "    OIS(\n",
    "        effective_dt = settle_dt,\n",
    "        term_dt_or_tenor = tenor,\n",
    "        fixed_leg_type = fixed_type,\n",
    "        fixed_cpn = rate,\n",
    "        fixed_freq_type = fixed_freq,\n",
    "        fixed_dc_type = fixed_dc_type,\n",
    "        notional = notional,\n",
    "        payment_lag = 2,\n",
    "        float_spread = spread,\n",
    "        float_freq_type = float_freq,\n",
    "        float_dc_type=float_dc_type,\n",
    "        cal_type = cal_type,\n",
    "        bd_type = bd_type,\n",
    "        dg_type = dg_type\n",
    "    )\n",
    "    for mat_date, tenor, rate in zip(maturity_dates, swap_mkt_data[\"Tenor\"], swap_mkt_data[\"Rate\"]) \n",
    "    if mat_date > settle_dt.add_business_tenor(\"1Y\", cal_type)\n",
    "]"
   ]
  },
  {
   "cell_type": "code",
   "execution_count": 6,
   "metadata": {},
   "outputs": [],
   "source": [
    "payment_dates = maturity_dates.copy()\n",
    "idx = np.where(np.array(payment_dates) == settle_dt.add_business_tenor(\"18M\", cal_type=CalendarTypes.UNITED_STATES))[0][0]\n",
    "payment_dates[idx:] = [cal.add_business_days(pivot, 2) for pivot in payment_dates[idx:]]"
   ]
  },
  {
   "cell_type": "code",
   "execution_count": 7,
   "metadata": {},
   "outputs": [],
   "source": [
    "sofr_curve = OISCurve(value_dt, [], [], swaps, interp_type=InterpTypes.LINEAR_ZERO_RATES)"
   ]
  },
  {
   "cell_type": "code",
   "execution_count": 8,
   "metadata": {},
   "outputs": [
    {
     "data": {
      "text/html": [
       "<div>\n",
       "<style scoped>\n",
       "    .dataframe tbody tr th:only-of-type {\n",
       "        vertical-align: middle;\n",
       "    }\n",
       "\n",
       "    .dataframe tbody tr th {\n",
       "        vertical-align: top;\n",
       "    }\n",
       "\n",
       "    .dataframe thead th {\n",
       "        text-align: right;\n",
       "    }\n",
       "</style>\n",
       "<table border=\"1\" class=\"dataframe\">\n",
       "  <thead>\n",
       "    <tr style=\"text-align: right;\">\n",
       "      <th></th>\n",
       "      <th>Date</th>\n",
       "      <th>ZR</th>\n",
       "      <th>DF</th>\n",
       "    </tr>\n",
       "  </thead>\n",
       "  <tbody>\n",
       "    <tr>\n",
       "      <th>0</th>\n",
       "      <td>09-DEC-2024</td>\n",
       "      <td>4.65383</td>\n",
       "      <td>0.998471</td>\n",
       "    </tr>\n",
       "    <tr>\n",
       "      <th>1</th>\n",
       "      <td>16-DEC-2024</td>\n",
       "      <td>4.65383</td>\n",
       "      <td>0.997580</td>\n",
       "    </tr>\n",
       "    <tr>\n",
       "      <th>2</th>\n",
       "      <td>23-DEC-2024</td>\n",
       "      <td>4.63108</td>\n",
       "      <td>0.996707</td>\n",
       "    </tr>\n",
       "    <tr>\n",
       "      <th>3</th>\n",
       "      <td>02-JAN-2025</td>\n",
       "      <td>4.60229</td>\n",
       "      <td>0.995471</td>\n",
       "    </tr>\n",
       "    <tr>\n",
       "      <th>4</th>\n",
       "      <td>03-FEB-2025</td>\n",
       "      <td>4.54874</td>\n",
       "      <td>0.991561</td>\n",
       "    </tr>\n",
       "    <tr>\n",
       "      <th>5</th>\n",
       "      <td>03-MAR-2025</td>\n",
       "      <td>4.51386</td>\n",
       "      <td>0.988198</td>\n",
       "    </tr>\n",
       "    <tr>\n",
       "      <th>6</th>\n",
       "      <td>02-APR-2025</td>\n",
       "      <td>4.48008</td>\n",
       "      <td>0.984653</td>\n",
       "    </tr>\n",
       "    <tr>\n",
       "      <th>7</th>\n",
       "      <td>02-MAY-2025</td>\n",
       "      <td>4.44440</td>\n",
       "      <td>0.981184</td>\n",
       "    </tr>\n",
       "    <tr>\n",
       "      <th>8</th>\n",
       "      <td>02-JUN-2025</td>\n",
       "      <td>4.41047</td>\n",
       "      <td>0.977657</td>\n",
       "    </tr>\n",
       "    <tr>\n",
       "      <th>9</th>\n",
       "      <td>02-JUL-2025</td>\n",
       "      <td>4.37963</td>\n",
       "      <td>0.974298</td>\n",
       "    </tr>\n",
       "    <tr>\n",
       "      <th>10</th>\n",
       "      <td>04-AUG-2025</td>\n",
       "      <td>4.34593</td>\n",
       "      <td>0.970672</td>\n",
       "    </tr>\n",
       "    <tr>\n",
       "      <th>11</th>\n",
       "      <td>02-SEP-2025</td>\n",
       "      <td>4.31802</td>\n",
       "      <td>0.967533</td>\n",
       "    </tr>\n",
       "    <tr>\n",
       "      <th>12</th>\n",
       "      <td>02-OCT-2025</td>\n",
       "      <td>4.29104</td>\n",
       "      <td>0.964325</td>\n",
       "    </tr>\n",
       "    <tr>\n",
       "      <th>13</th>\n",
       "      <td>03-NOV-2025</td>\n",
       "      <td>4.26336</td>\n",
       "      <td>0.960953</td>\n",
       "    </tr>\n",
       "    <tr>\n",
       "      <th>14</th>\n",
       "      <td>02-DEC-2025</td>\n",
       "      <td>4.23903</td>\n",
       "      <td>0.957939</td>\n",
       "    </tr>\n",
       "    <tr>\n",
       "      <th>15</th>\n",
       "      <td>04-JUN-2026</td>\n",
       "      <td>4.11096</td>\n",
       "      <td>0.939510</td>\n",
       "    </tr>\n",
       "    <tr>\n",
       "      <th>16</th>\n",
       "      <td>04-DEC-2026</td>\n",
       "      <td>4.02026</td>\n",
       "      <td>0.922031</td>\n",
       "    </tr>\n",
       "    <tr>\n",
       "      <th>17</th>\n",
       "      <td>06-DEC-2027</td>\n",
       "      <td>3.90579</td>\n",
       "      <td>0.888575</td>\n",
       "    </tr>\n",
       "    <tr>\n",
       "      <th>18</th>\n",
       "      <td>06-DEC-2028</td>\n",
       "      <td>3.83571</td>\n",
       "      <td>0.856861</td>\n",
       "    </tr>\n",
       "    <tr>\n",
       "      <th>19</th>\n",
       "      <td>05-DEC-2029</td>\n",
       "      <td>3.79411</td>\n",
       "      <td>0.826429</td>\n",
       "    </tr>\n",
       "    <tr>\n",
       "      <th>20</th>\n",
       "      <td>04-DEC-2030</td>\n",
       "      <td>3.77287</td>\n",
       "      <td>0.796762</td>\n",
       "    </tr>\n",
       "    <tr>\n",
       "      <th>21</th>\n",
       "      <td>04-DEC-2031</td>\n",
       "      <td>3.76209</td>\n",
       "      <td>0.767842</td>\n",
       "    </tr>\n",
       "    <tr>\n",
       "      <th>22</th>\n",
       "      <td>06-DEC-2032</td>\n",
       "      <td>3.75876</td>\n",
       "      <td>0.739461</td>\n",
       "    </tr>\n",
       "    <tr>\n",
       "      <th>23</th>\n",
       "      <td>06-DEC-2033</td>\n",
       "      <td>3.76078</td>\n",
       "      <td>0.712053</td>\n",
       "    </tr>\n",
       "    <tr>\n",
       "      <th>24</th>\n",
       "      <td>06-DEC-2034</td>\n",
       "      <td>3.76637</td>\n",
       "      <td>0.685387</td>\n",
       "    </tr>\n",
       "    <tr>\n",
       "      <th>25</th>\n",
       "      <td>04-DEC-2036</td>\n",
       "      <td>3.78613</td>\n",
       "      <td>0.634211</td>\n",
       "    </tr>\n",
       "    <tr>\n",
       "      <th>26</th>\n",
       "      <td>06-DEC-2039</td>\n",
       "      <td>3.81039</td>\n",
       "      <td>0.563938</td>\n",
       "    </tr>\n",
       "    <tr>\n",
       "      <th>27</th>\n",
       "      <td>06-DEC-2044</td>\n",
       "      <td>3.78504</td>\n",
       "      <td>0.468387</td>\n",
       "    </tr>\n",
       "    <tr>\n",
       "      <th>28</th>\n",
       "      <td>06-DEC-2049</td>\n",
       "      <td>3.67106</td>\n",
       "      <td>0.398808</td>\n",
       "    </tr>\n",
       "    <tr>\n",
       "      <th>29</th>\n",
       "      <td>04-DEC-2054</td>\n",
       "      <td>3.53341</td>\n",
       "      <td>0.345978</td>\n",
       "    </tr>\n",
       "    <tr>\n",
       "      <th>30</th>\n",
       "      <td>04-DEC-2064</td>\n",
       "      <td>3.21969</td>\n",
       "      <td>0.275443</td>\n",
       "    </tr>\n",
       "    <tr>\n",
       "      <th>31</th>\n",
       "      <td>05-DEC-2074</td>\n",
       "      <td>2.91923</td>\n",
       "      <td>0.231954</td>\n",
       "    </tr>\n",
       "  </tbody>\n",
       "</table>\n",
       "</div>"
      ],
      "text/plain": [
       "           Date       ZR        DF\n",
       "0   09-DEC-2024  4.65383  0.998471\n",
       "1   16-DEC-2024  4.65383  0.997580\n",
       "2   23-DEC-2024  4.63108  0.996707\n",
       "3   02-JAN-2025  4.60229  0.995471\n",
       "4   03-FEB-2025  4.54874  0.991561\n",
       "5   03-MAR-2025  4.51386  0.988198\n",
       "6   02-APR-2025  4.48008  0.984653\n",
       "7   02-MAY-2025  4.44440  0.981184\n",
       "8   02-JUN-2025  4.41047  0.977657\n",
       "9   02-JUL-2025  4.37963  0.974298\n",
       "10  04-AUG-2025  4.34593  0.970672\n",
       "11  02-SEP-2025  4.31802  0.967533\n",
       "12  02-OCT-2025  4.29104  0.964325\n",
       "13  03-NOV-2025  4.26336  0.960953\n",
       "14  02-DEC-2025  4.23903  0.957939\n",
       "15  04-JUN-2026  4.11096  0.939510\n",
       "16  04-DEC-2026  4.02026  0.922031\n",
       "17  06-DEC-2027  3.90579  0.888575\n",
       "18  06-DEC-2028  3.83571  0.856861\n",
       "19  05-DEC-2029  3.79411  0.826429\n",
       "20  04-DEC-2030  3.77287  0.796762\n",
       "21  04-DEC-2031  3.76209  0.767842\n",
       "22  06-DEC-2032  3.75876  0.739461\n",
       "23  06-DEC-2033  3.76078  0.712053\n",
       "24  06-DEC-2034  3.76637  0.685387\n",
       "25  04-DEC-2036  3.78613  0.634211\n",
       "26  06-DEC-2039  3.81039  0.563938\n",
       "27  06-DEC-2044  3.78504  0.468387\n",
       "28  06-DEC-2049  3.67106  0.398808\n",
       "29  04-DEC-2054  3.53341  0.345978\n",
       "30  04-DEC-2064  3.21969  0.275443\n",
       "31  05-DEC-2074  2.91923  0.231954"
      ]
     },
     "execution_count": 8,
     "metadata": {},
     "output_type": "execute_result"
    }
   ],
   "source": [
    "sofr_curve.print_table(payment_dates)"
   ]
  },
  {
   "cell_type": "code",
   "execution_count": 9,
   "metadata": {},
   "outputs": [
    {
     "data": {
      "image/png": "[encoded data removed]",
      "text/plain": [
       "<Figure size 1000x600 with 1 Axes>"
      ]
     },
     "metadata": {},
     "output_type": "display_data"
    }
   ],
   "source": [
    "sofr_curve.print_figure(payment_dates)"
   ]
  },
  {
   "cell_type": "markdown",
   "metadata": {},
   "source": [
    "# IRS Valuation"
   ]
  },
  {
   "cell_type": "code",
   "execution_count": 17,
   "metadata": {},
   "outputs": [],
   "source": [
    "swap = OIS(\n",
    "    effective_dt=Date(19, 7, 2024),\n",
    "    term_dt_or_tenor=Date(18, 7, 2027),\n",
    "    fixed_leg_type=fixed_type,\n",
    "    fixed_cpn=0.05558,\n",
    "    fixed_freq_type=fixed_freq,\n",
    "    fixed_dc_type=fixed_dc_type,\n",
    "    notional=32061781.09,\n",
    "    payment_lag=0,\n",
    "    float_spread=0,\n",
    "    float_freq_type=FrequencyTypes.ANNUAL,\n",
    "    float_dc_type=DayCountTypes.ACT_360,\n",
    "    cal_type=CalendarTypes.UNITED_STATES,\n",
    "    bd_type=BusDayAdjustTypes.MODIFIED_FOLLOWING,\n",
    "    dg_type=DateGenRuleTypes.BACKWARD\n",
    ")"
   ]
  },
  {
   "cell_type": "code",
   "execution_count": 15,
   "metadata": {},
   "outputs": [],
   "source": [
    "fixing = pd.read_excel(\"./unit_test/data/sofr_curve_data_20241127.xlsx\", sheet_name='fixing')"
   ]
  },
  {
   "cell_type": "code",
   "execution_count": 18,
   "metadata": {},
   "outputs": [
    {
     "data": {
      "text/plain": [
       "-1305271.8960557207"
      ]
     },
     "execution_count": 18,
     "metadata": {},
     "output_type": "execute_result"
    }
   ],
   "source": [
    "swap.value(value_dt=value_dt, ois_curve=sofr_curve, first_fixing_rate=0.04674658104292555)"
   ]
  }
 ],
 "metadata": {
  "kernelspec": {
   "display_name": "vallib",
   "language": "python",
   "name": "python3"
  },
  "language_info": {
   "codemirror_mode": {
    "name": "ipython",
    "version": 3
   },
   "file_extension": ".py",
   "mimetype": "text/x-python",
   "name": "python",
   "nbconvert_exporter": "python",
   "pygments_lexer": "ipython3",
   "version": "3.13.1"
  }
 },
 "nbformat": 4,
 "nbformat_minor": 2
}
