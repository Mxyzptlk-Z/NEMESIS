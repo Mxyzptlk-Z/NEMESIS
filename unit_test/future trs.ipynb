{
 "cells": [
  {
   "cell_type": "code",
   "execution_count": 1,
   "id": "d015ec05",
   "metadata": {},
   "outputs": [
    {
     "name": "stdout",
     "output_type": "stream",
     "text": [
      "####################################################################\n",
      "#  NEMESIS ALPHA Version 0.1.0 - This build: 24 Jan 2025 at 10:42 #\n",
      "####################################################################\n",
      "\n"
     ]
    }
   ],
   "source": [
    "import pandas as pd\n",
    "from nemesis.utils import *\n",
    "from nemesis.products.general.trs import (\n",
    "    TotalReturnSwap,\n",
    "    CrossBorderTRS,\n",
    "    AssetLeg,\n",
    "    FixedFundingLeg,\n",
    "    CrossBorderFixedFundingLeg\n",
    ")"
   ]
  },
  {
   "cell_type": "markdown",
   "id": "4ba8b7b0",
   "metadata": {},
   "source": [
    "### IR Future TRS (非跨境，fixed funding leg)"
   ]
  },
  {
   "cell_type": "code",
   "execution_count": 2,
   "id": "4b4cdb50",
   "metadata": {},
   "outputs": [],
   "source": [
    "leg_type = SwapTypes.PAY \n",
    "quantity = 100\n",
    "initial_asset_price = 96.115\n",
    "start_dt = Date(13, 12, 2024)\n",
    "expiry_dt = Date(13, 2, 2025)\n",
    "reset_dts = [expiry_dt]\n",
    "payment_dts = [Date(15, 2, 2025)]\n",
    "asset_prices = pd.Series(dtype=np.float64)\n",
    "\n",
    "point_value = 2500\n",
    "\n",
    "value_dt = Date(31, 12, 2024)\n",
    "latest_asset_price = 96.055"
   ]
  },
  {
   "cell_type": "code",
   "execution_count": 3,
   "id": "3f34ad8c",
   "metadata": {},
   "outputs": [],
   "source": [
    "fl_1_fixed_rate = 0.0003\n",
    "fl_1_start_dts = [start_dt]\n",
    "fl_1_end_dts = [expiry_dt]\n",
    "fl_1_payment_dts = [Date(15, 2, 2025)]\n",
    "fl_1_leg_type = SwapTypes.RECEIVE\n",
    "fl_1_notionals = [quantity * point_value * initial_asset_price]\n",
    "fl_1_dc_type = None\n",
    "\n",
    "fundingleg_1 = FixedFundingLeg(fl_1_fixed_rate, fl_1_start_dts, fl_1_end_dts, fl_1_payment_dts, fl_1_leg_type, fl_1_notionals, fl_1_dc_type) \n",
    "funding_legs = {'fundingleg_1': fundingleg_1}"
   ]
  },
  {
   "cell_type": "code",
   "execution_count": 4,
   "id": "f70352ad",
   "metadata": {},
   "outputs": [],
   "source": [
    "trs = TotalReturnSwap(start_dt, expiry_dt, reset_dts, payment_dts, leg_type, quantity*point_value, initial_asset_price, asset_prices=asset_prices, funding_legs=funding_legs)"
   ]
  },
  {
   "cell_type": "code",
   "execution_count": 5,
   "id": "f5e08053",
   "metadata": {},
   "outputs": [
    {
     "data": {
      "text/plain": [
       "22208.624999997013"
      ]
     },
     "execution_count": 5,
     "metadata": {},
     "output_type": "execute_result"
    }
   ],
   "source": [
    "trs.value(value_dt, latest_asset_price)"
   ]
  },
  {
   "cell_type": "markdown",
   "id": "53ed0a2d",
   "metadata": {},
   "source": [
    "### IR Future TRS (跨境，fixed funding leg)"
   ]
  },
  {
   "cell_type": "code",
   "execution_count": 6,
   "id": "7df675bd",
   "metadata": {},
   "outputs": [],
   "source": [
    "leg_type = SwapTypes.PAY \n",
    "quantity = 100\n",
    "initial_asset_price = 96.115\n",
    "start_dt = Date(13, 12, 2024)\n",
    "expiry_dt = Date(13, 2, 2025)\n",
    "reset_dts = [expiry_dt]\n",
    "payment_dts = [Date(15, 2, 2025)]\n",
    "asset_prices = pd.Series(dtype=np.float64)\n",
    "\n",
    "asset_ccy = 'USD'\n",
    "settle_ccy = 'CNY'\n",
    "ccy_pair = 'USDCNY'\n",
    "fx_fixing_dts = reset_dts.copy()\n",
    "fx_fixing = pd.Series(dtype=np.float64) \n",
    "\n",
    "point_value = 2500\n",
    "\n",
    "value_dt = Date(31, 12, 2024)\n",
    "latest_asset_price = 96.055\n",
    "fx_spot = 7.2993"
   ]
  },
  {
   "cell_type": "code",
   "execution_count": 7,
   "id": "67b507ad",
   "metadata": {},
   "outputs": [],
   "source": [
    "fl_1_start_dts = [start_dt]\n",
    "fl_1_end_dts = [expiry_dt]\n",
    "fl_1_payment_dts = [Date(15, 2, 2025)]\n",
    "fl_1_leg_type = SwapTypes.RECEIVE\n",
    "fl_1_notionals = [quantity * point_value * initial_asset_price]\n",
    "fl_1_dc_type = None\n",
    "\n",
    "fl_1_fixed_rate = 0.0003\n",
    "fl_1_funding_ccy = 'USD'\n",
    "fl_1_settle_ccy = 'CNY'\n",
    "fl_1_ccy_pair = 'USDCNY'\n",
    "fl_1_fx_fixing_dts = fl_1_end_dts\n",
    "fl_1_fx_fixing = pd.Series(dtype=np.float64) \n",
    "\n",
    "fundingleg_1 = CrossBorderFixedFundingLeg(fl_1_fixed_rate, fl_1_funding_ccy, fl_1_settle_ccy, fl_1_ccy_pair, fl_1_fx_fixing_dts, fl_1_fx_fixing, fl_1_start_dts, fl_1_end_dts, fl_1_payment_dts, fl_1_leg_type, fl_1_notionals, fl_1_dc_type) \n",
    "funding_legs = {'fundingleg_1': fundingleg_1}"
   ]
  },
  {
   "cell_type": "code",
   "execution_count": 8,
   "id": "12008070",
   "metadata": {},
   "outputs": [],
   "source": [
    "trs = CrossBorderTRS(asset_ccy, settle_ccy, ccy_pair, start_dt, expiry_dt, reset_dts, payment_dts, fx_fixing_dts, leg_type, quantity*point_value, initial_asset_price, asset_prices=asset_prices, fx_fixing=fx_fixing, funding_legs=funding_legs)"
   ]
  },
  {
   "cell_type": "code",
   "execution_count": 9,
   "id": "ed1f55fd",
   "metadata": {},
   "outputs": [
    {
     "data": {
      "text/plain": [
       "162107.4164624782"
      ]
     },
     "execution_count": 9,
     "metadata": {},
     "output_type": "execute_result"
    }
   ],
   "source": [
    "trs.value(value_dt, latest_asset_price, fx_spot)"
   ]
  },
  {
   "cell_type": "markdown",
   "id": "4e395378",
   "metadata": {},
   "source": [
    "### Bond Future TRS (北向国债期货TRS连接，单期支付，无 funding leg)"
   ]
  },
  {
   "cell_type": "code",
   "execution_count": 10,
   "id": "2e5fc707",
   "metadata": {},
   "outputs": [],
   "source": [
    "leg_type = SwapTypes.PAY \n",
    "quantity = 20000\n",
    "initial_asset_price = 102.9375\n",
    "start_dt = Date(12, 3, 2024)\n",
    "expiry_dt = Date(15, 5, 2024)\n",
    "reset_dts = [expiry_dt]\n",
    "payment_dts = [Date(15, 5, 2024)]\n",
    "asset_prices = pd.Series(dtype=np.float64)\n",
    "\n",
    "\n",
    "value_dt = Date(13, 3, 2024)\n",
    "latest_asset_price = 103"
   ]
  },
  {
   "cell_type": "code",
   "execution_count": 11,
   "id": "2b137943",
   "metadata": {},
   "outputs": [],
   "source": [
    "trs = TotalReturnSwap(start_dt, expiry_dt, reset_dts, payment_dts, leg_type, quantity, initial_asset_price, asset_prices=asset_prices)"
   ]
  },
  {
   "cell_type": "code",
   "execution_count": 12,
   "id": "17fe7a21",
   "metadata": {},
   "outputs": [
    {
     "data": {
      "text/plain": [
       "-1250.0"
      ]
     },
     "execution_count": 12,
     "metadata": {},
     "output_type": "execute_result"
    }
   ],
   "source": [
    "trs.value(value_dt, latest_asset_price)"
   ]
  },
  {
   "cell_type": "markdown",
   "id": "ebb02cdf",
   "metadata": {},
   "source": [
    "### Bond Future TRS (北向国债期货TRS对客，单期支付，无 funding leg)"
   ]
  },
  {
   "cell_type": "code",
   "execution_count": 13,
   "id": "9ef5923c",
   "metadata": {},
   "outputs": [],
   "source": [
    "leg_type = SwapTypes.PAY \n",
    "quantity = 20000\n",
    "initial_asset_price = 102.9375\n",
    "start_dt = Date(12, 3, 2024)\n",
    "expiry_dt = Date(15, 5, 2024)\n",
    "reset_dts = [expiry_dt]\n",
    "payment_dts = [Date(15, 5, 2024)]\n",
    "asset_prices = pd.Series(dtype=np.float64)\n",
    "\n",
    "asset_ccy = 'CNY'\n",
    "settle_ccy = 'USD'\n",
    "ccy_pair = 'USDCNH'\n",
    "fx_fixing_dts = [expiry_dt]\n",
    "fx_fixing = pd.Series(dtype=np.float64) \n",
    "\n",
    "value_dt = Date(13, 3, 2024)\n",
    "latest_asset_price = 103\n",
    "fx_spot = 7.2"
   ]
  },
  {
   "cell_type": "code",
   "execution_count": 14,
   "id": "a5ca65a6",
   "metadata": {},
   "outputs": [],
   "source": [
    "trs = CrossBorderTRS(asset_ccy, settle_ccy, ccy_pair, start_dt, expiry_dt, reset_dts, payment_dts, fx_fixing_dts, leg_type, quantity, initial_asset_price, asset_prices=asset_prices, fx_fixing=fx_fixing)"
   ]
  },
  {
   "cell_type": "code",
   "execution_count": 15,
   "id": "57db27e4",
   "metadata": {},
   "outputs": [
    {
     "data": {
      "text/plain": [
       "-173.61111111111111"
      ]
     },
     "execution_count": 15,
     "metadata": {},
     "output_type": "execute_result"
    }
   ],
   "source": [
    "trs.value(value_dt, latest_asset_price, fx_spot)"
   ]
  },
  {
   "cell_type": "markdown",
   "id": "26b38a7b",
   "metadata": {},
   "source": [
    "### Index Future TRS (北向期货TRS连接，单期支付，无 funding leg)"
   ]
  },
  {
   "cell_type": "code",
   "execution_count": 16,
   "id": "b2815104",
   "metadata": {},
   "outputs": [],
   "source": [
    "leg_type = SwapTypes.PAY \n",
    "quantity = 1800\n",
    "initial_asset_price = 3785.3889\n",
    "start_dt = Date(12, 3, 2024)\n",
    "expiry_dt = Date(15, 5, 2024)\n",
    "reset_dts = [expiry_dt]\n",
    "payment_dts = [Date(15, 5, 2024)]\n",
    "asset_prices = pd.Series(dtype=np.float64)\n",
    "\n",
    "\n",
    "value_dt = Date(13, 3, 2024)\n",
    "latest_asset_price = 3800"
   ]
  },
  {
   "cell_type": "code",
   "execution_count": 17,
   "id": "cd4f4f56",
   "metadata": {},
   "outputs": [],
   "source": [
    "trs = TotalReturnSwap(start_dt, expiry_dt, reset_dts, payment_dts, leg_type, quantity, initial_asset_price, asset_prices=asset_prices)"
   ]
  },
  {
   "cell_type": "code",
   "execution_count": 18,
   "id": "3b29d3e3",
   "metadata": {},
   "outputs": [
    {
     "data": {
      "text/plain": [
       "-26299.98000000014"
      ]
     },
     "execution_count": 18,
     "metadata": {},
     "output_type": "execute_result"
    }
   ],
   "source": [
    "trs.value(value_dt, latest_asset_price)"
   ]
  },
  {
   "cell_type": "markdown",
   "id": "5b843212",
   "metadata": {},
   "source": [
    "### Option TRS (跨境，不含funding leg，asset端单期支付)"
   ]
  },
  {
   "cell_type": "code",
   "execution_count": 19,
   "id": "e1aeb879",
   "metadata": {},
   "outputs": [],
   "source": [
    "leg_type = SwapTypes.PAY \n",
    "quantity = 1000\n",
    "initial_asset_price = 0.70\n",
    "start_dt = Date(18, 10, 2024)\n",
    "expiry_dt = Date(20, 1, 2025)\n",
    "reset_dts = [expiry_dt]\n",
    "payment_dts = [Date(22, 1, 2025)]\n",
    "asset_prices = pd.Series(dtype=np.float64)\n",
    "\n",
    "asset_ccy = 'USD'\n",
    "settle_ccy = 'CNY'\n",
    "ccy_pair = 'USDCNY'\n",
    "fx_fixing_dts = [expiry_dt]\n",
    "fx_fixing = pd.Series(dtype=np.float64) \n",
    "\n",
    "value_dt = Date(23, 10, 2024)\n",
    "latest_asset_price = 1\n",
    "fx_spot = 7.1263"
   ]
  },
  {
   "cell_type": "code",
   "execution_count": 20,
   "id": "209c84f3",
   "metadata": {},
   "outputs": [],
   "source": [
    "trs = CrossBorderTRS(asset_ccy, settle_ccy, ccy_pair, start_dt, expiry_dt, reset_dts, payment_dts, fx_fixing_dts, leg_type, quantity, initial_asset_price, asset_prices=asset_prices, fx_fixing=fx_fixing)"
   ]
  },
  {
   "cell_type": "code",
   "execution_count": 21,
   "id": "7ba30bcf",
   "metadata": {},
   "outputs": [
    {
     "data": {
      "text/plain": [
       "-2137.8900000000003"
      ]
     },
     "execution_count": 21,
     "metadata": {},
     "output_type": "execute_result"
    }
   ],
   "source": [
    "trs.value(value_dt, latest_asset_price, fx_spot)"
   ]
  },
  {
   "cell_type": "markdown",
   "id": "10260358",
   "metadata": {},
   "source": [
    "### FX Future TRS (南向跨境外汇期货，单期支付，无 funding leg)"
   ]
  },
  {
   "cell_type": "code",
   "execution_count": 22,
   "id": "4c421f1c",
   "metadata": {},
   "outputs": [],
   "source": [
    "leg_type = SwapTypes.PAY \n",
    "quantity = 1e6\n",
    "initial_asset_price = 1.08075\n",
    "start_dt = Date(11, 12, 2023)\n",
    "expiry_dt = Date(11, 3, 2024)\n",
    "reset_dts = [expiry_dt]\n",
    "payment_dts = [Date(13, 3, 2024)]\n",
    "asset_prices = pd.Series(dtype=np.float64)\n",
    "\n",
    "asset_ccy = 'USD'\n",
    "settle_ccy = 'CNH'\n",
    "ccy_pair = 'USDCNH'\n",
    "fx_fixing_dts = [expiry_dt]\n",
    "fx_fixing = pd.Series(dtype=np.float64) \n",
    "\n",
    "value_dt = Date(16, 1, 2024)\n",
    "latest_asset_price = 1.09005\n",
    "fx_spot = 7.2190"
   ]
  },
  {
   "cell_type": "code",
   "execution_count": 23,
   "id": "78dc104b",
   "metadata": {},
   "outputs": [],
   "source": [
    "trs = CrossBorderTRS(asset_ccy, settle_ccy, ccy_pair, start_dt, expiry_dt, reset_dts, payment_dts, fx_fixing_dts, leg_type, quantity, initial_asset_price, asset_prices=asset_prices, fx_fixing=fx_fixing)"
   ]
  },
  {
   "cell_type": "code",
   "execution_count": 24,
   "id": "54548108",
   "metadata": {},
   "outputs": [
    {
     "data": {
      "text/plain": [
       "-67136.69999999902"
      ]
     },
     "execution_count": 24,
     "metadata": {},
     "output_type": "execute_result"
    }
   ],
   "source": [
    "trs.value(value_dt, latest_asset_price, fx_spot)"
   ]
  }
 ],
 "metadata": {
  "kernelspec": {
   "display_name": "vallib",
   "language": "python",
   "name": "python3"
  },
  "language_info": {
   "codemirror_mode": {
    "name": "ipython",
    "version": 3
   },
   "file_extension": ".py",
   "mimetype": "text/x-python",
   "name": "python",
   "nbconvert_exporter": "python",
   "pygments_lexer": "ipython3",
   "version": "3.13.1"
  }
 },
 "nbformat": 4,
 "nbformat_minor": 5
}
