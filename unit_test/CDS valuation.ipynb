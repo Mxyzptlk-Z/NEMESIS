{
 "cells": [
  {
   "cell_type": "code",
   "execution_count": 1,
   "id": "a19f83b3",
   "metadata": {},
   "outputs": [
    {
     "name": "stdout",
     "output_type": "stream",
     "text": [
      "当前工作目录： c:\\Users\\zhaoxs3\\Documents\\GitHub\\NEMESIS\\unit_test\n",
      "切换后的目录： c:\\Users\\zhaoxs3\\Documents\\GitHub\\NEMESIS\n"
     ]
    }
   ],
   "source": [
    "import os\n",
    "\n",
    "# 获取当前工作目录\n",
    "current_dir = os.getcwd()\n",
    "print(\"当前工作目录：\", current_dir)\n",
    " \n",
    "# 切换到上一层目录\n",
    "parent_dir = os.path.dirname(current_dir)\n",
    "os.chdir(parent_dir)\n",
    "print(\"切换后的目录：\", parent_dir)"
   ]
  },
  {
   "cell_type": "code",
   "execution_count": 2,
   "id": "583de689",
   "metadata": {},
   "outputs": [],
   "source": [
    "import QuantLib as ql\n",
    "import numpy as np\n",
    "import pandas as pd\n",
    "\n",
    "from devlib.market.curves.overnight_index_curves import Sofr, Estr\n",
    "from devlib.market.curves.credit_curve_generator import MarketDataCreditCurve, CdsConfig\n",
    "from devlib.products.credit.cds import Cds\n",
    "\n",
    "from devlib.utils.ql_date_utils import ql_date_str\n",
    "from devlib.utils.cds_utils import cds_maturity_date, calendar_5u"
   ]
  },
  {
   "cell_type": "code",
   "execution_count": 3,
   "id": "70a828b5",
   "metadata": {},
   "outputs": [
    {
     "name": "stdout",
     "output_type": "stream",
     "text": [
      "####################################################################\n",
      "#  NEMESIS ALPHA Version 0.1.0 - This build: 24 Jan 2025 at 10:42 #\n",
      "####################################################################\n",
      "\n"
     ]
    }
   ],
   "source": [
    "from nemesis.products.credit import *\n",
    "from nemesis.utils import *"
   ]
  },
  {
   "cell_type": "markdown",
   "id": "bfd14e1a",
   "metadata": {},
   "source": [
    "### Test Case 1"
   ]
  },
  {
   "cell_type": "code",
   "execution_count": 4,
   "id": "34b0c13e",
   "metadata": {},
   "outputs": [],
   "source": [
    "today = ql.Date(1,11,2024)\n",
    "ql.Settings.instance().evaluationDate = today\n",
    "\n",
    "mkt_file_path = './unit_test/data/ICVS530_curve_data_20241101.xlsx'\n",
    "swap_mkt_data = pd.read_excel(mkt_file_path, sheet_name='swap')\n",
    "discount_curve = Estr(today, swap_mkt_data=swap_mkt_data)\n",
    "\n",
    "entity = 'EUROPE'\n",
    "mkt_file_path = './unit_test/data/credit_curve_data_20241101.xlsx'\n",
    "cds_type = 'index'\n",
    "cds_data = pd.read_excel(mkt_file_path, sheet_name=cds_type)\n",
    "\n",
    "cds_config = CdsConfig(recovery_rate = 0.4,\n",
    "                        daycount = ql.Actual360(),\n",
    "                        calendar = ql.WeekendsOnly())\n",
    "daycount = ql.Actual360()\n",
    "\n",
    "credit_curve = MarketDataCreditCurve(today, entity, cds_data, discount_curve, cds_type, cds_config, daycount)"
   ]
  },
  {
   "cell_type": "code",
   "execution_count": 5,
   "id": "ef8cd4dd",
   "metadata": {},
   "outputs": [],
   "source": [
    "value_dt = Date(1,11,2024)\n",
    "issuer_curve = QLCreditCurve(value_dt, credit_curve)"
   ]
  },
  {
   "cell_type": "code",
   "execution_count": 6,
   "id": "bfcab282",
   "metadata": {},
   "outputs": [],
   "source": [
    "cds_contract = GeneralCDS(\n",
    "    step_in_dt=value_dt,\n",
    "    maturity_dt_or_tenor=\"10Y\",\n",
    "    running_cpn=0.01,\n",
    "    notional=1e7,\n",
    "    long_protect=True,\n",
    "    freq_type=FrequencyTypes.QUARTERLY,\n",
    "    dc_type=DayCountTypes.ACT_360,\n",
    "    cal_type=CalendarTypes.WEEKEND,\n",
    "    bd_type=BusDayAdjustTypes.FOLLOWING,\n",
    "    dg_type=DateGenRuleTypes.BACKWARD\n",
    ")"
   ]
  },
  {
   "cell_type": "code",
   "execution_count": 7,
   "id": "7947155a",
   "metadata": {},
   "outputs": [
    {
     "data": {
      "text/plain": [
       "{'dirty_pv': np.float64(-29153.04997832945),\n",
       " 'clean_pv': np.float64(-17208.60553388507)}"
      ]
     },
     "execution_count": 7,
     "metadata": {},
     "output_type": "execute_result"
    }
   ],
   "source": [
    "cds_contract.value(value_dt, issuer_curve)"
   ]
  },
  {
   "cell_type": "code",
   "execution_count": 8,
   "id": "5d8b1a6b",
   "metadata": {},
   "outputs": [
    {
     "data": {
      "text/plain": [
       "np.float64(8637.132547485875)"
      ]
     },
     "execution_count": 8,
     "metadata": {},
     "output_type": "execute_result"
    }
   ],
   "source": [
    "cds_contract.credit_dv01(value_dt, issuer_curve, 0.4, bump=1)"
   ]
  },
  {
   "cell_type": "code",
   "execution_count": 9,
   "id": "644e6658",
   "metadata": {},
   "outputs": [
    {
     "data": {
      "text/plain": [
       "np.float64(8.566898120916449)"
      ]
     },
     "execution_count": 9,
     "metadata": {},
     "output_type": "execute_result"
    }
   ],
   "source": [
    "cds_contract.interest_dv01(value_dt, issuer_curve, 0.4)"
   ]
  },
  {
   "cell_type": "markdown",
   "id": "b84951ff",
   "metadata": {},
   "source": [
    "### Test Case 2"
   ]
  },
  {
   "cell_type": "code",
   "execution_count": 10,
   "id": "17a6fdf4",
   "metadata": {},
   "outputs": [],
   "source": [
    "today = ql.Date(1,11,2024)\n",
    "ql.Settings.instance().evaluationDate = today\n",
    "\n",
    "mkt_file_path = './unit_test/data/ICVS531_curve_data_20241101.xlsx'\n",
    "swap_mkt_data = pd.read_excel(mkt_file_path, sheet_name='swap')\n",
    "discount_curve = Sofr(today, swap_mkt_data=swap_mkt_data)\n",
    "\n",
    "entity = 'CHINAGOV'\n",
    "mkt_file_path = './unit_test/data/credit_curve_data_20241101.xlsx'\n",
    "cds_type = 'single_name'\n",
    "cds_data = pd.read_excel(mkt_file_path, sheet_name=cds_type)\n",
    "\n",
    "cds_config = CdsConfig(recovery_rate = 0.4,\n",
    "                        daycount = ql.Actual360(),\n",
    "                        calendar = calendar_5u())\n",
    "daycount = ql.Actual360()\n",
    "\n",
    "credit_curve = MarketDataCreditCurve(today, entity, cds_data, discount_curve, cds_type, cds_config, daycount)"
   ]
  },
  {
   "cell_type": "code",
   "execution_count": 11,
   "id": "8f35dba2",
   "metadata": {},
   "outputs": [],
   "source": [
    "value_dt = Date(1,11,2024)\n",
    "issuer_curve = QLCreditCurve(value_dt, credit_curve)"
   ]
  },
  {
   "cell_type": "code",
   "execution_count": 12,
   "id": "581a98d0",
   "metadata": {},
   "outputs": [],
   "source": [
    "cds_contract = GeneralCDS(\n",
    "    step_in_dt=value_dt,\n",
    "    maturity_dt_or_tenor=\"10Y\",\n",
    "    running_cpn=0.05,\n",
    "    notional=1e7,\n",
    "    long_protect=True,\n",
    "    freq_type=FrequencyTypes.QUARTERLY,\n",
    "    dc_type=DayCountTypes.ACT_360,\n",
    "    cal_type=CalendarTypes.CDS,\n",
    "    bd_type=BusDayAdjustTypes.FOLLOWING,\n",
    "    dg_type=DateGenRuleTypes.BACKWARD\n",
    ")"
   ]
  },
  {
   "cell_type": "code",
   "execution_count": 13,
   "id": "17ce8fc9",
   "metadata": {},
   "outputs": [
    {
     "data": {
      "text/plain": [
       "{'dirty_pv': np.float64(-3281982.6643738346),\n",
       " 'clean_pv': np.float64(-3222260.4421516117)}"
      ]
     },
     "execution_count": 13,
     "metadata": {},
     "output_type": "execute_result"
    }
   ],
   "source": [
    "cds_contract.value(value_dt, issuer_curve)"
   ]
  },
  {
   "cell_type": "code",
   "execution_count": 14,
   "id": "9e3b8169",
   "metadata": {},
   "outputs": [
    {
     "data": {
      "text/plain": [
       "np.float64(10517.781088938937)"
      ]
     },
     "execution_count": 14,
     "metadata": {},
     "output_type": "execute_result"
    }
   ],
   "source": [
    "cds_contract.credit_dv01(value_dt, issuer_curve, 0.4, bump=1)"
   ]
  },
  {
   "cell_type": "code",
   "execution_count": 15,
   "id": "453b1350",
   "metadata": {},
   "outputs": [
    {
     "data": {
      "text/plain": [
       "np.float64(1502.1983877439052)"
      ]
     },
     "execution_count": 15,
     "metadata": {},
     "output_type": "execute_result"
    }
   ],
   "source": [
    "cds_contract.interest_dv01(value_dt, issuer_curve, 0.4)"
   ]
  },
  {
   "cell_type": "markdown",
   "id": "73e39114",
   "metadata": {},
   "source": [
    "### Test Case 3"
   ]
  },
  {
   "cell_type": "code",
   "execution_count": 16,
   "id": "a2e42354",
   "metadata": {},
   "outputs": [],
   "source": [
    "today = ql.Date(1,11,2024)\n",
    "ql.Settings.instance().evaluationDate = today\n",
    "\n",
    "mkt_file_path = './unit_test/data/ICVS531_curve_data_20241101.xlsx'\n",
    "swap_mkt_data = pd.read_excel(mkt_file_path, sheet_name='swap')\n",
    "discount_curve = Sofr(today, swap_mkt_data=swap_mkt_data)\n",
    "\n",
    "entity = 'CHINAGOV'\n",
    "mkt_file_path = './unit_test/data/credit_curve_data_20241101.xlsx'\n",
    "cds_type = 'single_name'\n",
    "cds_data = pd.read_excel(mkt_file_path, sheet_name=cds_type)\n",
    "\n",
    "cds_config = CdsConfig(recovery_rate = 0.4,\n",
    "                        daycount = ql.Actual360(),\n",
    "                        calendar = calendar_5u())\n",
    "daycount = ql.Actual360()\n",
    "\n",
    "credit_curve = MarketDataCreditCurve(today, entity, cds_data, discount_curve, cds_type, cds_config, daycount)"
   ]
  },
  {
   "cell_type": "code",
   "execution_count": 17,
   "id": "5cd943a6",
   "metadata": {},
   "outputs": [],
   "source": [
    "value_dt = Date(1,11,2024)\n",
    "issuer_curve = QLCreditCurve(value_dt, credit_curve)"
   ]
  },
  {
   "cell_type": "code",
   "execution_count": 18,
   "id": "dcc19eaa",
   "metadata": {},
   "outputs": [],
   "source": [
    "cds_contract = GeneralCDS(\n",
    "    step_in_dt=value_dt,\n",
    "    maturity_dt_or_tenor=Date(1,11,2029),\n",
    "    running_cpn=0.0,\n",
    "    upfront_payment_dt=Date(6,11,2024),\n",
    "    upfront_amount=3e5,    \n",
    "    notional=1e7,\n",
    "    long_protect=True,\n",
    "    freq_type=FrequencyTypes.QUARTERLY,\n",
    "    dc_type=DayCountTypes.ACT_360,\n",
    "    cal_type=CalendarTypes.WEEKEND,\n",
    "    bd_type=BusDayAdjustTypes.FOLLOWING,\n",
    "    dg_type=DateGenRuleTypes.BACKWARD\n",
    ")"
   ]
  },
  {
   "cell_type": "code",
   "execution_count": 19,
   "id": "fe0d9239",
   "metadata": {},
   "outputs": [
    {
     "data": {
      "text/plain": [
       "np.float64(-6439.825080876122)"
      ]
     },
     "execution_count": 19,
     "metadata": {},
     "output_type": "execute_result"
    }
   ],
   "source": [
    "cds_contract.value(value_dt, issuer_curve)"
   ]
  },
  {
   "cell_type": "code",
   "execution_count": 20,
   "id": "6088e9b0",
   "metadata": {},
   "outputs": [
    {
     "data": {
      "text/plain": [
       "np.float64(4377.223720230453)"
      ]
     },
     "execution_count": 20,
     "metadata": {},
     "output_type": "execute_result"
    }
   ],
   "source": [
    "cds_contract.credit_dv01(value_dt, issuer_curve, 0.4, bump=1)"
   ]
  },
  {
   "cell_type": "code",
   "execution_count": 21,
   "id": "17f6f4db",
   "metadata": {},
   "outputs": [
    {
     "data": {
      "text/plain": [
       "np.float64(-71.9812481815461)"
      ]
     },
     "execution_count": 21,
     "metadata": {},
     "output_type": "execute_result"
    }
   ],
   "source": [
    "cds_contract.interest_dv01(value_dt, issuer_curve, 0.4)"
   ]
  },
  {
   "cell_type": "markdown",
   "id": "7320fc73",
   "metadata": {},
   "source": [
    "### Test Case 4"
   ]
  },
  {
   "cell_type": "code",
   "execution_count": 22,
   "id": "d20b0220",
   "metadata": {},
   "outputs": [],
   "source": [
    "today = ql.Date(1,11,2024)\n",
    "ql.Settings.instance().evaluationDate = today\n",
    "\n",
    "mkt_file_path = './unit_test/data/ICVS531_curve_data_20241101.xlsx'\n",
    "swap_mkt_data = pd.read_excel(mkt_file_path, sheet_name='swap')\n",
    "discount_curve = Sofr(today, swap_mkt_data=swap_mkt_data)\n",
    "\n",
    "entity = 'CHINAGOV'\n",
    "mkt_file_path = './unit_test/data/credit_curve_data_20241101.xlsx'\n",
    "cds_type = 'single_name'\n",
    "cds_data = pd.read_excel(mkt_file_path, sheet_name=cds_type)\n",
    "\n",
    "cds_config = CdsConfig(recovery_rate = 0.4,\n",
    "                        daycount = ql.Actual360(),\n",
    "                        calendar = calendar_5u())\n",
    "daycount = ql.Actual360()\n",
    "\n",
    "credit_curve = MarketDataCreditCurve(today, entity, cds_data, discount_curve, cds_type, cds_config, daycount)"
   ]
  },
  {
   "cell_type": "code",
   "execution_count": 23,
   "id": "16a60710",
   "metadata": {},
   "outputs": [],
   "source": [
    "value_dt = Date(1,11,2024)\n",
    "issuer_curve = QLCreditCurve(value_dt, credit_curve)"
   ]
  },
  {
   "cell_type": "code",
   "execution_count": 24,
   "id": "bed28402",
   "metadata": {},
   "outputs": [],
   "source": [
    "cds_contract = GeneralCDS(\n",
    "    step_in_dt=value_dt,\n",
    "    maturity_dt_or_tenor=Date(1,11,2029),\n",
    "    running_cpn=0.05,\n",
    "    upfront_payment_dt=Date(6,11,2024),\n",
    "    upfront_amount=0,    \n",
    "    notional=1e7,\n",
    "    coupon_pay_front=True,\n",
    "    long_protect=True,\n",
    "    freq_type=FrequencyTypes.QUARTERLY,\n",
    "    dc_type=DayCountTypes.ACT_360,\n",
    "    cal_type=CalendarTypes.WEEKEND,\n",
    "    bd_type=BusDayAdjustTypes.FOLLOWING,\n",
    "    dg_type=DateGenRuleTypes.BACKWARD,\n",
    "    ac_type=AccCouponTypes.TO_PERIOD_END,\n",
    "    acp_type=AccCouponPayTypes.DEFAULT\n",
    ")"
   ]
  },
  {
   "cell_type": "code",
   "execution_count": 25,
   "id": "a2b57c44",
   "metadata": {},
   "outputs": [
    {
     "data": {
      "text/plain": [
       "{'dirty_pv': np.float64(-1849684.0720076142),\n",
       " 'clean_pv': np.float64(-1849684.0720076142)}"
      ]
     },
     "execution_count": 25,
     "metadata": {},
     "output_type": "execute_result"
    }
   ],
   "source": [
    "cds_contract.value(value_dt, issuer_curve)"
   ]
  },
  {
   "cell_type": "code",
   "execution_count": 26,
   "id": "bb2e1420",
   "metadata": {},
   "outputs": [
    {
     "data": {
      "text/plain": [
       "np.float64(5250.860551352147)"
      ]
     },
     "execution_count": 26,
     "metadata": {},
     "output_type": "execute_result"
    }
   ],
   "source": [
    "cds_contract.credit_dv01(value_dt, issuer_curve, 0.4, bump=1)"
   ]
  },
  {
   "cell_type": "code",
   "execution_count": 27,
   "id": "d215ce6f",
   "metadata": {},
   "outputs": [
    {
     "data": {
      "text/plain": [
       "np.float64(433.4254135877127)"
      ]
     },
     "execution_count": 27,
     "metadata": {},
     "output_type": "execute_result"
    }
   ],
   "source": [
    "cds_contract.interest_dv01(value_dt, issuer_curve, 0.4)"
   ]
  },
  {
   "cell_type": "markdown",
   "id": "707168d9",
   "metadata": {},
   "source": [
    "### Test Case 5"
   ]
  },
  {
   "cell_type": "code",
   "execution_count": 28,
   "id": "5caa19e6",
   "metadata": {},
   "outputs": [],
   "source": [
    "today = ql.Date(1,11,2024)\n",
    "ql.Settings.instance().evaluationDate = today\n",
    "\n",
    "mkt_file_path = './unit_test/data/ICVS531_curve_data_20241101.xlsx'\n",
    "swap_mkt_data = pd.read_excel(mkt_file_path, sheet_name='swap')\n",
    "discount_curve = Sofr(today, swap_mkt_data=swap_mkt_data)\n",
    "\n",
    "entity = 'CHINAGOV'\n",
    "mkt_file_path = './unit_test/data/credit_curve_data_20241101.xlsx'\n",
    "cds_type = 'single_name'\n",
    "cds_data = pd.read_excel(mkt_file_path, sheet_name=cds_type)\n",
    "\n",
    "cds_config = CdsConfig(recovery_rate = 0.4,\n",
    "                        daycount = ql.Actual360(),\n",
    "                        calendar = calendar_5u())\n",
    "daycount = ql.Actual360()\n",
    "\n",
    "credit_curve = MarketDataCreditCurve(today, entity, cds_data, discount_curve, cds_type, cds_config, daycount)"
   ]
  },
  {
   "cell_type": "code",
   "execution_count": 29,
   "id": "de0acb73",
   "metadata": {},
   "outputs": [],
   "source": [
    "value_dt = Date(1,11,2024)\n",
    "issuer_curve = QLCreditCurve(value_dt, credit_curve)"
   ]
  },
  {
   "cell_type": "code",
   "execution_count": 30,
   "id": "bae95e05",
   "metadata": {},
   "outputs": [],
   "source": [
    "cds_contract = GeneralCDS(\n",
    "    step_in_dt=value_dt,\n",
    "    maturity_dt_or_tenor=Date(1,11,2029),\n",
    "    running_cpn=0.05,\n",
    "    upfront_payment_dt=Date(6,11,2024),\n",
    "    upfront_amount=0,    \n",
    "    notional=1e7,\n",
    "    coupon_pay_front=True,\n",
    "    long_protect=True,\n",
    "    freq_type=FrequencyTypes.QUARTERLY,\n",
    "    dc_type=DayCountTypes.ACT_360,\n",
    "    cal_type=CalendarTypes.WEEKEND,\n",
    "    bd_type=BusDayAdjustTypes.FOLLOWING,\n",
    "    dg_type=DateGenRuleTypes.BACKWARD,\n",
    "    ac_type=AccCouponTypes.TO_DEFAULT,\n",
    "    acp_type=AccCouponPayTypes.DEFAULT\n",
    ")"
   ]
  },
  {
   "cell_type": "code",
   "execution_count": 31,
   "id": "c06cdf62",
   "metadata": {},
   "outputs": [
    {
     "data": {
      "text/plain": [
       "{'dirty_pv': np.float64(-1846590.3833061182),\n",
       " 'clean_pv': np.float64(-1846590.3833061182)}"
      ]
     },
     "execution_count": 31,
     "metadata": {},
     "output_type": "execute_result"
    }
   ],
   "source": [
    "cds_contract.value(value_dt, issuer_curve)"
   ]
  },
  {
   "cell_type": "code",
   "execution_count": 32,
   "id": "020b8285",
   "metadata": {},
   "outputs": [
    {
     "data": {
      "text/plain": [
       "np.float64(5297.757821913809)"
      ]
     },
     "execution_count": 32,
     "metadata": {},
     "output_type": "execute_result"
    }
   ],
   "source": [
    "cds_contract.credit_dv01(value_dt, issuer_curve, 0.4, bump=1)"
   ]
  },
  {
   "cell_type": "code",
   "execution_count": 33,
   "id": "9badaa68",
   "metadata": {},
   "outputs": [
    {
     "data": {
      "text/plain": [
       "np.float64(432.6685442774324)"
      ]
     },
     "execution_count": 33,
     "metadata": {},
     "output_type": "execute_result"
    }
   ],
   "source": [
    "cds_contract.interest_dv01(value_dt, issuer_curve, 0.4)"
   ]
  }
 ],
 "metadata": {
  "kernelspec": {
   "display_name": "vallib",
   "language": "python",
   "name": "python3"
  },
  "language_info": {
   "codemirror_mode": {
    "name": "ipython",
    "version": 3
   },
   "file_extension": ".py",
   "mimetype": "text/x-python",
   "name": "python",
   "nbconvert_exporter": "python",
   "pygments_lexer": "ipython3",
   "version": "3.13.1"
  }
 },
 "nbformat": 4,
 "nbformat_minor": 5
}
