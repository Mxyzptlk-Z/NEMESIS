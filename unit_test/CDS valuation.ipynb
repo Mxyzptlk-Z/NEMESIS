{
 "cells": [
  {
   "cell_type": "code",
   "execution_count": 1,
   "id": "a19f83b3",
   "metadata": {},
   "outputs": [
    {
     "name": "stdout",
     "output_type": "stream",
     "text": [
      "当前工作目录： c:\\Users\\zhaoxs3\\Documents\\GitHub\\NEMESIS\\unit_test\n",
      "切换后的目录： c:\\Users\\zhaoxs3\\Documents\\GitHub\\NEMESIS\n"
     ]
    }
   ],
   "source": [
    "import os\n",
    "\n",
    "# 获取当前工作目录\n",
    "current_dir = os.getcwd()\n",
    "print(\"当前工作目录：\", current_dir)\n",
    " \n",
    "# 切换到上一层目录\n",
    "parent_dir = os.path.dirname(current_dir)\n",
    "os.chdir(parent_dir)\n",
    "print(\"切换后的目录：\", parent_dir)"
   ]
  },
  {
   "cell_type": "code",
   "execution_count": 2,
   "id": "583de689",
   "metadata": {},
   "outputs": [],
   "source": [
    "import QuantLib as ql\n",
    "import numpy as np\n",
    "import pandas as pd\n",
    "\n",
    "from devlib.market.curves.overnight_index_curves import Sofr, Estr\n",
    "from devlib.market.curves.credit_curve_generator import MarketDataCreditCurve, CdsConfig\n",
    "from devlib.products.credit.cds import Cds\n",
    "\n",
    "from devlib.utils.ql_date_utils import ql_date_str\n",
    "from devlib.utils.cds_utils import cds_maturity_date, calendar_5u"
   ]
  },
  {
   "cell_type": "code",
   "execution_count": 3,
   "id": "17a6fdf4",
   "metadata": {},
   "outputs": [],
   "source": [
    "today = ql.Date(1,11,2024)\n",
    "ql.Settings.instance().evaluationDate = today\n",
    "\n",
    "mkt_file_path = './unit_test/data/ICVS531_curve_data_20241101.xlsx'\n",
    "swap_mkt_data = pd.read_excel(mkt_file_path, sheet_name='swap')\n",
    "discount_curve = Sofr(today, swap_mkt_data=swap_mkt_data)\n",
    "\n",
    "entity = 'CHINAGOV'\n",
    "mkt_file_path = './unit_test/data/credit_curve_data_20241101.xlsx'\n",
    "cds_type = 'single_name'\n",
    "cds_data = pd.read_excel(mkt_file_path, sheet_name=cds_type)\n",
    "\n",
    "cds_config = CdsConfig(recovery_rate = 0.4,\n",
    "                        daycount = ql.Actual360(),\n",
    "                        calendar = calendar_5u())\n",
    "daycount = ql.Actual360()\n",
    "\n",
    "credit_curve = MarketDataCreditCurve(today, entity, cds_data, discount_curve, cds_type, cds_config, daycount)"
   ]
  },
  {
   "cell_type": "code",
   "execution_count": 4,
   "id": "70a828b5",
   "metadata": {},
   "outputs": [
    {
     "name": "stdout",
     "output_type": "stream",
     "text": [
      "####################################################################\n",
      "#  NEMESIS ALPHA Version 0.1.0 - This build: 24 Jan 2025 at 10:42 #\n",
      "####################################################################\n",
      "\n"
     ]
    }
   ],
   "source": [
    "from nemesis.products.credit import *\n",
    "from nemesis.utils import *"
   ]
  },
  {
   "cell_type": "code",
   "execution_count": 5,
   "id": "8f35dba2",
   "metadata": {},
   "outputs": [],
   "source": [
    "value_dt = Date(1,11,2024)\n",
    "issuer_curve = QLCreditCurve(value_dt, credit_curve)"
   ]
  },
  {
   "cell_type": "code",
   "execution_count": 6,
   "id": "581a98d0",
   "metadata": {},
   "outputs": [],
   "source": [
    "cds_contract = GeneralCDS(\n",
    "    step_in_dt=value_dt,\n",
    "    maturity_dt_or_tenor=\"10Y\",\n",
    "    running_cpn=0.05,\n",
    "    notional=1e7,\n",
    "    long_protect=True,\n",
    "    freq_type=FrequencyTypes.QUARTERLY,\n",
    "    dc_type=DayCountTypes.ACT_360,\n",
    "    cal_type=CalendarTypes.CDS,\n",
    "    bd_type=BusDayAdjustTypes.FOLLOWING,\n",
    "    dg_type=DateGenRuleTypes.BACKWARD\n",
    ")"
   ]
  },
  {
   "cell_type": "code",
   "execution_count": 7,
   "id": "7fc7b357",
   "metadata": {},
   "outputs": [],
   "source": [
    "rpv01 = cds_contract.risky_pv01(value_dt, issuer_curve)"
   ]
  },
  {
   "cell_type": "code",
   "execution_count": 8,
   "id": "737e603c",
   "metadata": {},
   "outputs": [
    {
     "data": {
      "text/plain": [
       "np.float64(4055274.261309052)"
      ]
     },
     "execution_count": 8,
     "metadata": {},
     "output_type": "execute_result"
    }
   ],
   "source": [
    "rpv01[\"dirty_rpv01\"] * cds_contract.notional * cds_contract.running_cpn"
   ]
  },
  {
   "cell_type": "code",
   "execution_count": 9,
   "id": "17ce8fc9",
   "metadata": {},
   "outputs": [
    {
     "data": {
      "text/plain": [
       "{'dirty_pv': np.float64(-3281982.6643738346),\n",
       " 'clean_pv': np.float64(-3222260.4421516117)}"
      ]
     },
     "execution_count": 9,
     "metadata": {},
     "output_type": "execute_result"
    }
   ],
   "source": [
    "cds_contract.value(value_dt, issuer_curve)"
   ]
  },
  {
   "cell_type": "code",
   "execution_count": 10,
   "id": "e6d6e45e",
   "metadata": {},
   "outputs": [],
   "source": [
    "accrual = cds_contract.running_cpn * cds_contract.notional * (rpv01[\"dirty_rpv01\"] - rpv01[\"clean_rpv01\"])"
   ]
  },
  {
   "cell_type": "code",
   "execution_count": 11,
   "id": "8d66bb9d",
   "metadata": {},
   "outputs": [
    {
     "data": {
      "text/plain": [
       "<bound method GeneralCDS._calc_flows of OBJECT TYPE: GeneralCDS\n",
       "STEP-IN DATE: 01-NOV-2024\n",
       "MATURITY: 20-DEC-2034\n",
       "NOTIONAL: 10000000.0\n",
       "RUN COUPON: 500.0bp\n",
       "DAYCOUNT: DayCountTypes.ACT_360\n",
       "FREQUENCY: FrequencyTypes.QUARTERLY\n",
       "CALENDAR: CalendarTypes.CDS\n",
       "BUSDAYRULE: BusDayAdjustTypes.FOLLOWING\n",
       "DATEGENRULE: DateGenRuleTypes.BACKWARD\n",
       "ACCRUED DAYS: 43.0\n",
       "PAYMENT_dt, YEAR_FRAC, ACCRUAL_START, ACCRUAL_END, FLOW\n",
       "20-DEC-2024,     0.252778, 20-SEP-2024, 19-DEC-2024, 126388.888889\n",
       "20-MAR-2025,     0.250000, 20-DEC-2024, 19-MAR-2025, 125000.000000\n",
       "20-JUN-2025,     0.255556, 20-MAR-2025, 19-JUN-2025, 127777.777778\n",
       "22-SEP-2025,     0.261111, 20-JUN-2025, 21-SEP-2025, 130555.555556\n",
       "22-DEC-2025,     0.252778, 22-SEP-2025, 21-DEC-2025, 126388.888889\n",
       "20-MAR-2026,     0.244444, 22-DEC-2025, 19-MAR-2026, 122222.222222\n",
       "22-JUN-2026,     0.261111, 20-MAR-2026, 21-JUN-2026, 130555.555556\n",
       "21-SEP-2026,     0.252778, 22-JUN-2026, 20-SEP-2026, 126388.888889\n",
       "21-DEC-2026,     0.252778, 21-SEP-2026, 20-DEC-2026, 126388.888889\n",
       "22-MAR-2027,     0.252778, 21-DEC-2026, 21-MAR-2027, 126388.888889\n",
       "21-JUN-2027,     0.252778, 22-MAR-2027, 20-JUN-2027, 126388.888889\n",
       "20-SEP-2027,     0.252778, 21-JUN-2027, 19-SEP-2027, 126388.888889\n",
       "20-DEC-2027,     0.252778, 20-SEP-2027, 19-DEC-2027, 126388.888889\n",
       "20-MAR-2028,     0.252778, 20-DEC-2027, 19-MAR-2028, 126388.888889\n",
       "20-JUN-2028,     0.255556, 20-MAR-2028, 19-JUN-2028, 127777.777778\n",
       "20-SEP-2028,     0.255556, 20-JUN-2028, 19-SEP-2028, 127777.777778\n",
       "20-DEC-2028,     0.252778, 20-SEP-2028, 19-DEC-2028, 126388.888889\n",
       "20-MAR-2029,     0.250000, 20-DEC-2028, 19-MAR-2029, 125000.000000\n",
       "20-JUN-2029,     0.255556, 20-MAR-2029, 19-JUN-2029, 127777.777778\n",
       "20-SEP-2029,     0.255556, 20-JUN-2029, 19-SEP-2029, 127777.777778\n",
       "20-DEC-2029,     0.252778, 20-SEP-2029, 19-DEC-2029, 126388.888889\n",
       "20-MAR-2030,     0.250000, 20-DEC-2029, 19-MAR-2030, 125000.000000\n",
       "20-JUN-2030,     0.255556, 20-MAR-2030, 19-JUN-2030, 127777.777778\n",
       "20-SEP-2030,     0.255556, 20-JUN-2030, 19-SEP-2030, 127777.777778\n",
       "20-DEC-2030,     0.252778, 20-SEP-2030, 19-DEC-2030, 126388.888889\n",
       "20-MAR-2031,     0.250000, 20-DEC-2030, 19-MAR-2031, 125000.000000\n",
       "20-JUN-2031,     0.255556, 20-MAR-2031, 19-JUN-2031, 127777.777778\n",
       "22-SEP-2031,     0.261111, 20-JUN-2031, 21-SEP-2031, 130555.555556\n",
       "22-DEC-2031,     0.252778, 22-SEP-2031, 21-DEC-2031, 126388.888889\n",
       "22-MAR-2032,     0.252778, 22-DEC-2031, 21-MAR-2032, 126388.888889\n",
       "21-JUN-2032,     0.252778, 22-MAR-2032, 20-JUN-2032, 126388.888889\n",
       "20-SEP-2032,     0.252778, 21-JUN-2032, 19-SEP-2032, 126388.888889\n",
       "20-DEC-2032,     0.252778, 20-SEP-2032, 19-DEC-2032, 126388.888889\n",
       "21-MAR-2033,     0.252778, 20-DEC-2032, 20-MAR-2033, 126388.888889\n",
       "21-JUN-2033,     0.255556, 21-MAR-2033, 20-JUN-2033, 127777.777778\n",
       "20-SEP-2033,     0.252778, 21-JUN-2033, 19-SEP-2033, 126388.888889\n",
       "20-DEC-2033,     0.252778, 20-SEP-2033, 19-DEC-2033, 126388.888889\n",
       "20-MAR-2034,     0.250000, 20-DEC-2033, 19-MAR-2034, 125000.000000\n",
       "20-JUN-2034,     0.255556, 20-MAR-2034, 19-JUN-2034, 127777.777778\n",
       "20-SEP-2034,     0.255556, 20-JUN-2034, 19-SEP-2034, 127777.777778\n",
       "20-DEC-2034,     0.255556, 20-SEP-2034, 20-DEC-2034, 127777.777778>"
      ]
     },
     "execution_count": 11,
     "metadata": {},
     "output_type": "execute_result"
    }
   ],
   "source": [
    "cds_contract._calc_flows"
   ]
  },
  {
   "cell_type": "code",
   "execution_count": 12,
   "id": "94a6f186",
   "metadata": {},
   "outputs": [
    {
     "data": {
      "text/plain": [
       "np.float64(773291.5969352175)"
      ]
     },
     "execution_count": 12,
     "metadata": {},
     "output_type": "execute_result"
    }
   ],
   "source": [
    "prot_pv = cds_contract.prot_leg_pv(value_dt, issuer_curve)\n",
    "prot_pv"
   ]
  },
  {
   "cell_type": "code",
   "execution_count": 13,
   "id": "9e3b8169",
   "metadata": {},
   "outputs": [
    {
     "data": {
      "text/plain": [
       "np.float64(10517.777088098228)"
      ]
     },
     "execution_count": 13,
     "metadata": {},
     "output_type": "execute_result"
    }
   ],
   "source": [
    "cds_contract.credit_dv01(value_dt, issuer_curve, 0.4)"
   ]
  },
  {
   "cell_type": "code",
   "execution_count": 14,
   "id": "453b1350",
   "metadata": {},
   "outputs": [
    {
     "data": {
      "text/plain": [
       "np.float64(1502.1983877439052)"
      ]
     },
     "execution_count": 14,
     "metadata": {},
     "output_type": "execute_result"
    }
   ],
   "source": [
    "cds_contract.interest_dv01(value_dt, issuer_curve, 0.4)"
   ]
  }
 ],
 "metadata": {
  "kernelspec": {
   "display_name": "vallib",
   "language": "python",
   "name": "python3"
  },
  "language_info": {
   "codemirror_mode": {
    "name": "ipython",
    "version": 3
   },
   "file_extension": ".py",
   "mimetype": "text/x-python",
   "name": "python",
   "nbconvert_exporter": "python",
   "pygments_lexer": "ipython3",
   "version": "3.13.1"
  }
 },
 "nbformat": 4,
 "nbformat_minor": 5
}
