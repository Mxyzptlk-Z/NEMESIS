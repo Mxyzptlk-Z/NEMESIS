{
 "cells": [
  {
   "cell_type": "code",
   "execution_count": 1,
   "metadata": {},
   "outputs": [
    {
     "name": "stdout",
     "output_type": "stream",
     "text": [
      "当前工作目录： /Users/lig/Documents/GitHub/NEMESIS/unit_test\n",
      "切换后的目录： /Users/lig/Documents/GitHub/NEMESIS\n"
     ]
    }
   ],
   "source": [
    "import os\n",
    "\n",
    "# 获取当前工作目录\n",
    "current_dir = os.getcwd()\n",
    "print(\"当前工作目录：\", current_dir)\n",
    " \n",
    "# 切换到上一层目录\n",
    "parent_dir = os.path.dirname(current_dir)\n",
    "os.chdir(parent_dir)\n",
    "print(\"切换后的目录：\", parent_dir)"
   ]
  },
  {
   "cell_type": "code",
   "execution_count": 2,
   "metadata": {},
   "outputs": [],
   "source": [
    "import QuantLib as ql\n",
    "import pandas as pd\n",
    "\n",
    "from devlib.market.curves.cme_term_sofr_curve import CmeTermSofr1M\n",
    "from devlib.products.rates.irs.general_irs import *"
   ]
  },
  {
   "cell_type": "code",
   "execution_count": 3,
   "metadata": {},
   "outputs": [
    {
     "name": "stdout",
     "output_type": "stream",
     "text": [
      "####################################################################\n",
      "#  NEMESIS ALPHA Version 0.1.0 - This build: 24 Jan 2025 at 10:42 #\n",
      "####################################################################\n",
      "\n"
     ]
    }
   ],
   "source": [
    "from nemesis.products.rates import *"
   ]
  },
  {
   "cell_type": "code",
   "execution_count": 4,
   "metadata": {},
   "outputs": [],
   "source": [
    "today = ql.Date(9, 7, 2024)\n",
    "ql.Settings.instance().evaluationDate = today\n",
    "\n",
    "mkt_file_path = './unit_test/data/tsfr1m_curve_data_20240709.xlsx'\n",
    "deposit_mkt_data = pd.read_excel(mkt_file_path, sheet_name='deposit')\n",
    "base_curve_swap_mkt_data = pd.read_excel(mkt_file_path, sheet_name='base_curve_swap')\n",
    "\n",
    "tsfr1m_curve = CmeTermSofr1M(today, deposit_mkt_data=deposit_mkt_data,\n",
    "                             base_curve_swap_mkt_data=base_curve_swap_mkt_data)"
   ]
  },
  {
   "cell_type": "code",
   "execution_count": 5,
   "metadata": {},
   "outputs": [],
   "source": [
    "value_dt = Date(9,7,2024)\n",
    "curve = QLCurve(value_dt, tsfr1m_curve, dc_type=DayCountTypes.ACT_360, interp_type=InterpTypes.LINEAR_ZERO_RATES)"
   ]
  },
  {
   "cell_type": "code",
   "execution_count": 6,
   "metadata": {},
   "outputs": [],
   "source": [
    "payment_dates = ql_date_to_date(tsfr1m_curve.curve.dates())[1:]"
   ]
  },
  {
   "cell_type": "code",
   "execution_count": 7,
   "metadata": {},
   "outputs": [
    {
     "data": {
      "text/html": [
       "<div>\n",
       "<style scoped>\n",
       "    .dataframe tbody tr th:only-of-type {\n",
       "        vertical-align: middle;\n",
       "    }\n",
       "\n",
       "    .dataframe tbody tr th {\n",
       "        vertical-align: top;\n",
       "    }\n",
       "\n",
       "    .dataframe thead th {\n",
       "        text-align: right;\n",
       "    }\n",
       "</style>\n",
       "<table border=\"1\" class=\"dataframe\">\n",
       "  <thead>\n",
       "    <tr style=\"text-align: right;\">\n",
       "      <th></th>\n",
       "      <th>Date</th>\n",
       "      <th>ZR</th>\n",
       "      <th>DF</th>\n",
       "    </tr>\n",
       "  </thead>\n",
       "  <tbody>\n",
       "    <tr>\n",
       "      <th>0</th>\n",
       "      <td>2024-07-18</td>\n",
       "      <td>5.38925</td>\n",
       "      <td>0.998672</td>\n",
       "    </tr>\n",
       "    <tr>\n",
       "      <th>1</th>\n",
       "      <td>2024-07-25</td>\n",
       "      <td>5.38983</td>\n",
       "      <td>0.997640</td>\n",
       "    </tr>\n",
       "    <tr>\n",
       "      <th>2</th>\n",
       "      <td>2024-08-01</td>\n",
       "      <td>5.38985</td>\n",
       "      <td>0.996609</td>\n",
       "    </tr>\n",
       "    <tr>\n",
       "      <th>3</th>\n",
       "      <td>2024-08-12</td>\n",
       "      <td>5.38770</td>\n",
       "      <td>0.994994</td>\n",
       "    </tr>\n",
       "    <tr>\n",
       "      <th>4</th>\n",
       "      <td>2024-09-11</td>\n",
       "      <td>5.38803</td>\n",
       "      <td>0.990597</td>\n",
       "    </tr>\n",
       "    <tr>\n",
       "      <th>5</th>\n",
       "      <td>2024-10-11</td>\n",
       "      <td>5.34697</td>\n",
       "      <td>0.986324</td>\n",
       "    </tr>\n",
       "    <tr>\n",
       "      <th>6</th>\n",
       "      <td>2024-11-12</td>\n",
       "      <td>5.30941</td>\n",
       "      <td>0.981839</td>\n",
       "    </tr>\n",
       "    <tr>\n",
       "      <th>7</th>\n",
       "      <td>2024-12-11</td>\n",
       "      <td>5.27130</td>\n",
       "      <td>0.977864</td>\n",
       "    </tr>\n",
       "    <tr>\n",
       "      <th>8</th>\n",
       "      <td>2025-01-13</td>\n",
       "      <td>5.21752</td>\n",
       "      <td>0.973484</td>\n",
       "    </tr>\n",
       "    <tr>\n",
       "      <th>9</th>\n",
       "      <td>2025-02-11</td>\n",
       "      <td>5.16821</td>\n",
       "      <td>0.969741</td>\n",
       "    </tr>\n",
       "    <tr>\n",
       "      <th>10</th>\n",
       "      <td>2025-03-11</td>\n",
       "      <td>5.12097</td>\n",
       "      <td>0.966210</td>\n",
       "    </tr>\n",
       "    <tr>\n",
       "      <th>11</th>\n",
       "      <td>2025-04-11</td>\n",
       "      <td>5.06541</td>\n",
       "      <td>0.962421</td>\n",
       "    </tr>\n",
       "    <tr>\n",
       "      <th>12</th>\n",
       "      <td>2025-05-12</td>\n",
       "      <td>5.01144</td>\n",
       "      <td>0.958725</td>\n",
       "    </tr>\n",
       "    <tr>\n",
       "      <th>13</th>\n",
       "      <td>2025-06-11</td>\n",
       "      <td>4.96090</td>\n",
       "      <td>0.955230</td>\n",
       "    </tr>\n",
       "    <tr>\n",
       "      <th>14</th>\n",
       "      <td>2025-07-11</td>\n",
       "      <td>4.90973</td>\n",
       "      <td>0.951832</td>\n",
       "    </tr>\n",
       "    <tr>\n",
       "      <th>15</th>\n",
       "      <td>2026-01-14</td>\n",
       "      <td>4.62488</td>\n",
       "      <td>0.932210</td>\n",
       "    </tr>\n",
       "    <tr>\n",
       "      <th>16</th>\n",
       "      <td>2026-07-15</td>\n",
       "      <td>4.41691</td>\n",
       "      <td>0.914787</td>\n",
       "    </tr>\n",
       "    <tr>\n",
       "      <th>17</th>\n",
       "      <td>2027-07-14</td>\n",
       "      <td>4.15449</td>\n",
       "      <td>0.882317</td>\n",
       "    </tr>\n",
       "    <tr>\n",
       "      <th>18</th>\n",
       "      <td>2028-07-13</td>\n",
       "      <td>4.00363</td>\n",
       "      <td>0.851553</td>\n",
       "    </tr>\n",
       "    <tr>\n",
       "      <th>19</th>\n",
       "      <td>2029-07-13</td>\n",
       "      <td>3.91924</td>\n",
       "      <td>0.821602</td>\n",
       "    </tr>\n",
       "    <tr>\n",
       "      <th>20</th>\n",
       "      <td>2030-07-15</td>\n",
       "      <td>3.87504</td>\n",
       "      <td>0.791959</td>\n",
       "    </tr>\n",
       "    <tr>\n",
       "      <th>21</th>\n",
       "      <td>2031-07-15</td>\n",
       "      <td>3.85110</td>\n",
       "      <td>0.763139</td>\n",
       "    </tr>\n",
       "    <tr>\n",
       "      <th>22</th>\n",
       "      <td>2032-07-14</td>\n",
       "      <td>3.83901</td>\n",
       "      <td>0.735020</td>\n",
       "    </tr>\n",
       "    <tr>\n",
       "      <th>23</th>\n",
       "      <td>2033-07-13</td>\n",
       "      <td>3.83524</td>\n",
       "      <td>0.707653</td>\n",
       "    </tr>\n",
       "    <tr>\n",
       "      <th>24</th>\n",
       "      <td>2034-07-13</td>\n",
       "      <td>3.83647</td>\n",
       "      <td>0.680942</td>\n",
       "    </tr>\n",
       "    <tr>\n",
       "      <th>25</th>\n",
       "      <td>2036-07-15</td>\n",
       "      <td>3.85064</td>\n",
       "      <td>0.629376</td>\n",
       "    </tr>\n",
       "    <tr>\n",
       "      <th>26</th>\n",
       "      <td>2039-07-13</td>\n",
       "      <td>3.87028</td>\n",
       "      <td>0.559179</td>\n",
       "    </tr>\n",
       "    <tr>\n",
       "      <th>27</th>\n",
       "      <td>2044-07-13</td>\n",
       "      <td>3.84025</td>\n",
       "      <td>0.463478</td>\n",
       "    </tr>\n",
       "    <tr>\n",
       "      <th>28</th>\n",
       "      <td>2049-07-14</td>\n",
       "      <td>3.71849</td>\n",
       "      <td>0.394260</td>\n",
       "    </tr>\n",
       "    <tr>\n",
       "      <th>29</th>\n",
       "      <td>2054-07-15</td>\n",
       "      <td>3.58104</td>\n",
       "      <td>0.341097</td>\n",
       "    </tr>\n",
       "    <tr>\n",
       "      <th>30</th>\n",
       "      <td>2064-07-15</td>\n",
       "      <td>3.25176</td>\n",
       "      <td>0.271952</td>\n",
       "    </tr>\n",
       "    <tr>\n",
       "      <th>31</th>\n",
       "      <td>2074-07-13</td>\n",
       "      <td>2.90370</td>\n",
       "      <td>0.233838</td>\n",
       "    </tr>\n",
       "  </tbody>\n",
       "</table>\n",
       "</div>"
      ],
      "text/plain": [
       "          Date       ZR        DF\n",
       "0   2024-07-18  5.38925  0.998672\n",
       "1   2024-07-25  5.38983  0.997640\n",
       "2   2024-08-01  5.38985  0.996609\n",
       "3   2024-08-12  5.38770  0.994994\n",
       "4   2024-09-11  5.38803  0.990597\n",
       "5   2024-10-11  5.34697  0.986324\n",
       "6   2024-11-12  5.30941  0.981839\n",
       "7   2024-12-11  5.27130  0.977864\n",
       "8   2025-01-13  5.21752  0.973484\n",
       "9   2025-02-11  5.16821  0.969741\n",
       "10  2025-03-11  5.12097  0.966210\n",
       "11  2025-04-11  5.06541  0.962421\n",
       "12  2025-05-12  5.01144  0.958725\n",
       "13  2025-06-11  4.96090  0.955230\n",
       "14  2025-07-11  4.90973  0.951832\n",
       "15  2026-01-14  4.62488  0.932210\n",
       "16  2026-07-15  4.41691  0.914787\n",
       "17  2027-07-14  4.15449  0.882317\n",
       "18  2028-07-13  4.00363  0.851553\n",
       "19  2029-07-13  3.91924  0.821602\n",
       "20  2030-07-15  3.87504  0.791959\n",
       "21  2031-07-15  3.85110  0.763139\n",
       "22  2032-07-14  3.83901  0.735020\n",
       "23  2033-07-13  3.83524  0.707653\n",
       "24  2034-07-13  3.83647  0.680942\n",
       "25  2036-07-15  3.85064  0.629376\n",
       "26  2039-07-13  3.87028  0.559179\n",
       "27  2044-07-13  3.84025  0.463478\n",
       "28  2049-07-14  3.71849  0.394260\n",
       "29  2054-07-15  3.58104  0.341097\n",
       "30  2064-07-15  3.25176  0.271952\n",
       "31  2074-07-13  2.90370  0.233838"
      ]
     },
     "execution_count": 7,
     "metadata": {},
     "output_type": "execute_result"
    }
   ],
   "source": [
    "curve.print_table(payment_dt=payment_dates)"
   ]
  },
  {
   "cell_type": "code",
   "execution_count": 8,
   "metadata": {},
   "outputs": [
    {
     "data": {
      "image/png": "[encoded data removed]",
      "text/plain": [
       "<Figure size 1000x600 with 1 Axes>"
      ]
     },
     "metadata": {},
     "output_type": "display_data"
    }
   ],
   "source": [
    "curve.print_figure(payment_dates)"
   ]
  },
  {
   "cell_type": "code",
   "execution_count": 9,
   "metadata": {},
   "outputs": [],
   "source": [
    "fixed_type = SwapTypes.RECEIVE\n",
    "fixed_freq = FrequencyTypes.MONTHLY\n",
    "fixed_dc_type = DayCountTypes.ACT_360\n",
    "\n",
    "swap = GeneralSwap(\n",
    "    effective_dt=Date(26,7,2024),\n",
    "    term_dt_or_tenor=\"10Y\",\n",
    "    fixed_leg_type=fixed_type,\n",
    "    fixed_cpn=0.05,\n",
    "    fixed_freq_type=fixed_freq,\n",
    "    fixed_dc_type=fixed_dc_type,\n",
    "    notional=1e7,\n",
    "    payment_lag=2,\n",
    "    float_multiplier=1,\n",
    "    float_spread=0,\n",
    "    float_compounding_type='ExcludeSprd',\n",
    "    float_freq_type=FrequencyTypes.MONTHLY,\n",
    "    float_dc_type=DayCountTypes.ACT_360,\n",
    "    cal_type=CalendarTypes.UNITED_STATES,\n",
    "    bd_type=BusDayAdjustTypes.MODIFIED_FOLLOWING,\n",
    "    dg_type=DateGenRuleTypes.FORWARD,\n",
    "    reset_freq='None',\n",
    "    fixing_days=2,\n",
    "    end_of_month= False,\n",
    "    is_ois_leg=False,\n",
    ")"
   ]
  },
  {
   "cell_type": "code",
   "execution_count": 10,
   "metadata": {},
   "outputs": [
    {
     "data": {
      "text/plain": [
       "np.float64(1000436.9465075429)"
      ]
     },
     "execution_count": 10,
     "metadata": {},
     "output_type": "execute_result"
    }
   ],
   "source": [
    "swap.value(value_dt, curve, curve)"
   ]
  },
  {
   "cell_type": "code",
   "execution_count": 11,
   "metadata": {},
   "outputs": [
    {
     "data": {
      "text/plain": [
       "np.float64(-0.03801728657798699)"
      ]
     },
     "execution_count": 11,
     "metadata": {},
     "output_type": "execute_result"
    }
   ],
   "source": [
    "swap.swap_rate(value_dt, curve, curve)"
   ]
  },
  {
   "cell_type": "code",
   "execution_count": 12,
   "metadata": {},
   "outputs": [
    {
     "data": {
      "text/plain": [
       "np.float64(-8522.648985768203)"
      ]
     },
     "execution_count": 12,
     "metadata": {},
     "output_type": "execute_result"
    }
   ],
   "source": [
    "swap.dv01(value_dt, curve, curve)"
   ]
  },
  {
   "cell_type": "code",
   "execution_count": 13,
   "metadata": {},
   "outputs": [
    {
     "name": "stdout",
     "output_type": "stream",
     "text": [
      "IRS example result:\n",
      "npv: 1000483.8579464569\n",
      "par: 0.03801672469717013\n",
      "dv01_parallel: -8522.727839482483\n"
     ]
    }
   ],
   "source": [
    "index_name = 'TSFR1M'\n",
    "index_curve = tsfr1m_curve\n",
    "discount_curve = tsfr1m_curve\n",
    "\n",
    "ccy = 'USD'\n",
    "sch_calendar = ql.UnitedStates(ql.UnitedStates.FederalReserve)\n",
    "fixing_calendar = ql.Sofr().fixingCalendar()\n",
    "payment_calendar = ql.UnitedStates(ql.UnitedStates.FederalReserve)\n",
    "date_generation_rule=ql.DateGeneration.Forward\n",
    "sch_convention=ql.ModifiedFollowing\n",
    "end_convention=ql.ModifiedFollowing\n",
    "payment_convention=ql.ModifiedFollowing\n",
    "fixing_convention=ql.ModifiedPreceding\n",
    "payment_delay = 2\n",
    "fixing_days = 2\n",
    "end_of_month = True\n",
    "\n",
    "effective_date = ql.Date(26, 7, 2024)\n",
    "maturity_date = sch_calendar.advance(effective_date, ql.Period('10Y'), sch_convention)\n",
    "reset_freq = 'None'\n",
    "notional = 1e7\n",
    "fixed_rate = 0.05\n",
    "multiplier = 1\n",
    "spread = 0\n",
    "fixed_leg_pay_freq = '1M'\n",
    "float_leg_pay_freq = '1M'\n",
    "fixed_leg_daycount = ql.Actual360()\n",
    "float_leg_daycount = ql.Actual360()\n",
    "fixed_leg_direction = 'receive'\n",
    "float_leg_direction = 'pay'\n",
    "\n",
    "inst = StandardFloatFixedIrs(\n",
    "    ccy, index_name, effective_date, maturity_date, fixed_leg_pay_freq, \n",
    "    float_leg_pay_freq, reset_freq, notional, fixed_rate, multiplier, spread, \n",
    "    fixed_leg_daycount, float_leg_daycount, payment_delay, fixing_days, \n",
    "    sch_calendar, fixing_calendar, payment_calendar, fixed_leg_direction, float_leg_direction)\n",
    "\n",
    "npv = inst.npv(today, index_curve, discount_curve)\n",
    "par = inst.fair_rate(today, index_curve, discount_curve)\n",
    "dv01_p = inst.dv01_parallel(today, index_curve, discount_curve)\n",
    "\n",
    "print('IRS example result:')\n",
    "print('npv:', npv)\n",
    "print('par:', par)\n",
    "print('dv01_parallel:', dv01_p)"
   ]
  }
 ],
 "metadata": {
  "kernelspec": {
   "display_name": "nemesis",
   "language": "python",
   "name": "python3"
  },
  "language_info": {
   "codemirror_mode": {
    "name": "ipython",
    "version": 3
   },
   "file_extension": ".py",
   "mimetype": "text/x-python",
   "name": "python",
   "nbconvert_exporter": "python",
   "pygments_lexer": "ipython3",
   "version": "3.11.8"
  }
 },
 "nbformat": 4,
 "nbformat_minor": 2
}
